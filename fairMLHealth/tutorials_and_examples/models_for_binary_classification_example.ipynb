{
 "cells": [
  {
   "cell_type": "markdown",
   "metadata": {},
   "source": [
    "# Generating the Models Used in the Binary Classification Example"
   ]
  },
  {
   "cell_type": "markdown",
   "metadata": {},
   "source": [
    "----\n",
    "# Overview and Setup\n",
    "\n",
    "This is an example of how someone might generate and store models that can be compared for fairness. \n",
    "\n",
    "## Notebook Contents\n",
    "\n",
    "[Part 1](#part1) - Data and Analysis\n",
    "\n",
    "[Part 2](#part2) - Length of Stay Models \n",
    "\n",
    "&nbsp;&nbsp;&nbsp;&nbsp;[Part 2.1](#part2.1) - Out-of-the-Box Models\n",
    "\n",
    "&nbsp;&nbsp;&nbsp;&nbsp;[Part 2.2](#part2.2) - AIF360 Fairness-Aware  (In-Process) Models\n",
    "\n",
    "&nbsp;&nbsp;&nbsp;&nbsp;[Part 2.3](#part2.3) - FairLearn Fairness-Aware  (In-Process) Models\n",
    "\n",
    "&nbsp;&nbsp;&nbsp;&nbsp;[Part 2.4](#part2.4) - Other Methods\n",
    "\n",
    "[Part 3](#part3) - Comparing Models\n",
    "    Includes the fairMLHealth model comparison tool, as well as an example of the FairLearn Dashboard.\n",
    "\n",
    "[Part 4](#part4) - Save Results"
   ]
  },
  {
   "cell_type": "code",
   "execution_count": 1,
   "metadata": {},
   "outputs": [],
   "source": [
    "from IPython.display import Markdown\n",
    "from fairMLHealth.tools import helpers, model_comparison as fhmc\n",
    "from fairlearn.metrics import demographic_parity_difference, demographic_parity_ratio, equalized_odds_difference, equalized_odds_ratio\n",
    "import matplotlib.pyplot as plt\n",
    "import numpy as np\n",
    "import os\n",
    "import pandas as pd"
   ]
  },
  {
   "cell_type": "code",
   "execution_count": 2,
   "metadata": {},
   "outputs": [],
   "source": [
    "import warnings\n",
    "#warnings.filterwarnings('ignore', module='numpy' )\n",
    "warnings.filterwarnings('ignore', module='tensorflow' )"
   ]
  },
  {
   "cell_type": "code",
   "execution_count": 3,
   "metadata": {},
   "outputs": [
    {
     "data": {
      "text/plain": [
       "'0:00:00.000055 (hr:mn:sc)'"
      ]
     },
     "execution_count": 3,
     "metadata": {},
     "output_type": "execute_result"
    }
   ],
   "source": [
    "import datetime\n",
    "\n",
    "def check_timer(start_time=None):\n",
    "    if start_time is not None:\n",
    "        elapsed_time = datetime.datetime.now() - start_time\n",
    "        rprt = f\"{elapsed_time} (hr:mn:sc)\"\n",
    "        return rprt\n",
    "        return elapsed_time\n",
    "    else:\n",
    "        return datetime.datetime.now()\n",
    "\n",
    "start_time = check_timer()\n",
    "check_timer(start_time)"
   ]
  },
  {
   "cell_type": "code",
   "execution_count": 4,
   "metadata": {},
   "outputs": [
    {
     "name": "stderr",
     "output_type": "stream",
     "text": [
      "/Users/christineallen/anaconda3/envs/fairMLHealth/lib/python3.7/site-packages/tensorboard/compat/tensorflow_stub/dtypes.py:541: FutureWarning: Passing (type, 1) or '1type' as a synonym of type is deprecated; in a future version of numpy, it will be understood as (type, (1,)) / '(1,)type'.\n",
      "  _np_qint8 = np.dtype([(\"qint8\", np.int8, 1)])\n",
      "/Users/christineallen/anaconda3/envs/fairMLHealth/lib/python3.7/site-packages/tensorboard/compat/tensorflow_stub/dtypes.py:542: FutureWarning: Passing (type, 1) or '1type' as a synonym of type is deprecated; in a future version of numpy, it will be understood as (type, (1,)) / '(1,)type'.\n",
      "  _np_quint8 = np.dtype([(\"quint8\", np.uint8, 1)])\n",
      "/Users/christineallen/anaconda3/envs/fairMLHealth/lib/python3.7/site-packages/tensorboard/compat/tensorflow_stub/dtypes.py:543: FutureWarning: Passing (type, 1) or '1type' as a synonym of type is deprecated; in a future version of numpy, it will be understood as (type, (1,)) / '(1,)type'.\n",
      "  _np_qint16 = np.dtype([(\"qint16\", np.int16, 1)])\n",
      "/Users/christineallen/anaconda3/envs/fairMLHealth/lib/python3.7/site-packages/tensorboard/compat/tensorflow_stub/dtypes.py:544: FutureWarning: Passing (type, 1) or '1type' as a synonym of type is deprecated; in a future version of numpy, it will be understood as (type, (1,)) / '(1,)type'.\n",
      "  _np_quint16 = np.dtype([(\"quint16\", np.uint16, 1)])\n",
      "/Users/christineallen/anaconda3/envs/fairMLHealth/lib/python3.7/site-packages/tensorboard/compat/tensorflow_stub/dtypes.py:545: FutureWarning: Passing (type, 1) or '1type' as a synonym of type is deprecated; in a future version of numpy, it will be understood as (type, (1,)) / '(1,)type'.\n",
      "  _np_qint32 = np.dtype([(\"qint32\", np.int32, 1)])\n",
      "/Users/christineallen/anaconda3/envs/fairMLHealth/lib/python3.7/site-packages/tensorboard/compat/tensorflow_stub/dtypes.py:550: FutureWarning: Passing (type, 1) or '1type' as a synonym of type is deprecated; in a future version of numpy, it will be understood as (type, (1,)) / '(1,)type'.\n",
      "  np_resource = np.dtype([(\"resource\", np.ubyte, 1)])\n"
     ]
    }
   ],
   "source": [
    "from collections import defaultdict\n",
    "from aif360.metrics import ClassificationMetric\n",
    "\n",
    "def aif_dataset_measures(dataset, models):\n",
    "    \"\"\" Returns a dataframe containing fairness measures for regression \n",
    "            models based on the AIF360 library\n",
    "        Note: function is based heavily on test_thresholds function from\n",
    "            the AIF360 tutorial\n",
    "    \n",
    "    \"\"\"\n",
    "    if not isinstance(models, (list, dict)):\n",
    "        models = [models]\n",
    "    if not isinstance(models, dict):\n",
    "        models = {f'model_{i}':m for i,m in enumerate(models)}\n",
    "    \n",
    "    #\n",
    "    sens_ind = 0\n",
    "    sens_attr = dataset.protected_attribute_names[sens_ind]\n",
    "    unprivileged_groups = [{sens_attr: v} for v in\n",
    "                       dataset.unprivileged_protected_attributes[sens_ind]]\n",
    "    privileged_groups = [{sens_attr: v} for v in\n",
    "                     dataset.privileged_protected_attributes[sens_ind]]\n",
    "    #\n",
    "    metric_dict = defaultdict(list)\n",
    "    for name,model in models.items():\n",
    "        y_pred = model.predict(dataset).labels\n",
    "        dataset_pred = dataset.copy()\n",
    "        dataset_pred.labels = y_pred\n",
    "        metric = ClassificationMetric(\n",
    "                    dataset, dataset_pred,\n",
    "                    unprivileged_groups=unprivileged_groups,\n",
    "                    privileged_groups=privileged_groups)\n",
    "        \n",
    "        metric_dict['Disparate Impact Ratio'].append(metric.disparate_impact())\n",
    "        metric_dict['Statistical Parity Difference'].append(metric.statistical_parity_difference())\n",
    "        metric_dict['Average Odds Difference'].append(metric.average_odds_difference())\n",
    "        metric_dict['Equal Opportunity Difference'].append(metric.equal_opportunity_difference())\n",
    "        metric_dict['Balanced Accuracy Difference'].append((metric.true_positive_rate()\n",
    "                                     + metric.true_negative_rate()) / 2)\n",
    "        metric_dict['Between-Group Coefficient of Variation'].append(metric.between_group_coefficient_of_variation())\n",
    "        metric_dict['Theil Index'].append(metric.theil_index())\n",
    "    \n",
    "    results = pd.DataFrame().from_dict(metric_dict).transpose()\n",
    "    results.columns = models.keys()\n",
    "    return(results)"
   ]
  },
  {
   "cell_type": "markdown",
   "metadata": {
    "slideshow": {
     "slide_type": "slide"
    }
   },
   "source": [
    "----\n",
    "# Part 1 - Data and Analysis <a class=\"anchor\" id=\"part1\"></a>\n"
   ]
  },
  {
   "cell_type": "markdown",
   "metadata": {
    "slideshow": {
     "slide_type": "slide"
    }
   },
   "source": [
    "## Loading MIMIC III Data\n",
    "\n",
    "This example uses a data subset from the [MIMIC-III clinical database](https://mimic.physionet.org/gettingstarted/access/) to predict \"length of stay\" (LOS) value. For this example, LOS is total ICU time for a given hospital admission in patients 65 and above. The raw LOS value is then converted to a binary value specifying whether an admission's length of stay is greater than the sample mean. A baseline model is then generated using the Scikit-Learn RandomForestClassifier.\n",
    "\n",
    "Note that the code below will automatically unzip and format all necessary data for these experiments from a raw download of MIMIC-III data (saving the formatted data in the same MIMIC folder). MIMIC-III is a freely available database, however all users must pass a quick human subjects certification course. If you would like to run this example on your own, [follow these steps to be granted access to MIMIC III](https://mimic.physionet.org/gettingstarted/access/) and download the data."
   ]
  },
  {
   "cell_type": "code",
   "execution_count": 5,
   "metadata": {
    "slideshow": {
     "slide_type": "skip"
    }
   },
   "outputs": [],
   "source": [
    "# path_to_mimic_data_folder = \"[path to your downloaded data folder]\"\n",
    "path_to_mimic_data_folder = \"~/data/MIMIC\""
   ]
  },
  {
   "cell_type": "code",
   "execution_count": 6,
   "metadata": {},
   "outputs": [],
   "source": [
    "# output file for combined data and models\n",
    "output_file = os.path.expanduser(\"~/data/fairness_and_bias/mimic_model_comparison/binary_classification.joblib\")\n"
   ]
  },
  {
   "cell_type": "markdown",
   "metadata": {
    "slideshow": {
     "slide_type": "subslide"
    }
   },
   "source": [
    "## Data Subset <a id=\"datasubset\"></a>\n",
    "\n",
    "Example models in this notebook use data from all years of the MIMIC-III dataset for patients aged 65 and older. Data are imported at the encounter level with all additional patient identification dropped. All models include an \"AGE\" feature, simplified to 5-year bins, as well as boolean diagnosis and procedure features categorized through the Clinical Classifications Software system ([HCUP](https://www.hcup-us.ahrq.gov/toolssoftware/ccs/ccs.jsp)). All features other than age are one-hot encoded and prefixed with their variable type (e.g. \"GENDER_\", \"ETHNICITY_\").  "
   ]
  },
  {
   "cell_type": "code",
   "execution_count": 7,
   "metadata": {
    "slideshow": {
     "slide_type": "subslide"
    }
   },
   "outputs": [
    {
     "name": "stdout",
     "output_type": "stream",
     "text": [
      "\n",
      " This data subset has 22434 total observations and 648 input features \n",
      "\n"
     ]
    },
    {
     "data": {
      "text/html": [
       "<div>\n",
       "<style scoped>\n",
       "    .dataframe tbody tr th:only-of-type {\n",
       "        vertical-align: middle;\n",
       "    }\n",
       "\n",
       "    .dataframe tbody tr th {\n",
       "        vertical-align: top;\n",
       "    }\n",
       "\n",
       "    .dataframe thead th {\n",
       "        text-align: right;\n",
       "    }\n",
       "</style>\n",
       "<table border=\"1\" class=\"dataframe\">\n",
       "  <thead>\n",
       "    <tr style=\"text-align: right;\">\n",
       "      <th></th>\n",
       "      <th>Raw Feature</th>\n",
       "      <th>Category Count (Encoded Features)</th>\n",
       "    </tr>\n",
       "  </thead>\n",
       "  <tbody>\n",
       "    <tr>\n",
       "      <th>0</th>\n",
       "      <td>AGE</td>\n",
       "      <td>1</td>\n",
       "    </tr>\n",
       "    <tr>\n",
       "      <th>1</th>\n",
       "      <td>DIAGNOSIS</td>\n",
       "      <td>282</td>\n",
       "    </tr>\n",
       "    <tr>\n",
       "      <th>2</th>\n",
       "      <td>ETHNICITY</td>\n",
       "      <td>41</td>\n",
       "    </tr>\n",
       "    <tr>\n",
       "      <th>3</th>\n",
       "      <td>GENDER</td>\n",
       "      <td>1</td>\n",
       "    </tr>\n",
       "    <tr>\n",
       "      <th>4</th>\n",
       "      <td>INSURANCE</td>\n",
       "      <td>5</td>\n",
       "    </tr>\n",
       "    <tr>\n",
       "      <th>5</th>\n",
       "      <td>LANGUAGE</td>\n",
       "      <td>69</td>\n",
       "    </tr>\n",
       "    <tr>\n",
       "      <th>6</th>\n",
       "      <td>MARRIED</td>\n",
       "      <td>7</td>\n",
       "    </tr>\n",
       "    <tr>\n",
       "      <th>7</th>\n",
       "      <td>PROCEDURE</td>\n",
       "      <td>222</td>\n",
       "    </tr>\n",
       "    <tr>\n",
       "      <th>8</th>\n",
       "      <td>RELIGION</td>\n",
       "      <td>20</td>\n",
       "    </tr>\n",
       "  </tbody>\n",
       "</table>\n",
       "</div>"
      ],
      "text/plain": [
       "  Raw Feature  Category Count (Encoded Features)\n",
       "0         AGE                                  1\n",
       "1   DIAGNOSIS                                282\n",
       "2   ETHNICITY                                 41\n",
       "3      GENDER                                  1\n",
       "4   INSURANCE                                  5\n",
       "5    LANGUAGE                                 69\n",
       "6     MARRIED                                  7\n",
       "7   PROCEDURE                                222\n",
       "8    RELIGION                                 20"
      ]
     },
     "metadata": {},
     "output_type": "display_data"
    },
    {
     "data": {
      "text/markdown": [
       "---"
      ],
      "text/plain": [
       "<IPython.core.display.Markdown object>"
      ]
     },
     "metadata": {},
     "output_type": "display_data"
    },
    {
     "data": {
      "text/html": [
       "<div>\n",
       "<style scoped>\n",
       "    .dataframe tbody tr th:only-of-type {\n",
       "        vertical-align: middle;\n",
       "    }\n",
       "\n",
       "    .dataframe tbody tr th {\n",
       "        vertical-align: top;\n",
       "    }\n",
       "\n",
       "    .dataframe thead th {\n",
       "        text-align: right;\n",
       "    }\n",
       "</style>\n",
       "<table border=\"1\" class=\"dataframe\">\n",
       "  <thead>\n",
       "    <tr style=\"text-align: right;\">\n",
       "      <th></th>\n",
       "      <th>ADMIT_ID</th>\n",
       "      <th>AGE</th>\n",
       "      <th>GENDER_M</th>\n",
       "      <th>ETHNICITY_AMERICAN INDIAN/ALASKA NATIVE</th>\n",
       "      <th>ETHNICITY_AMERICAN INDIAN/ALASKA NATIVE FEDERALLY RECOGNIZED TRIBE</th>\n",
       "      <th>ETHNICITY_ASIAN</th>\n",
       "      <th>ETHNICITY_ASIAN - ASIAN INDIAN</th>\n",
       "      <th>ETHNICITY_ASIAN - CAMBODIAN</th>\n",
       "      <th>ETHNICITY_ASIAN - CHINESE</th>\n",
       "      <th>ETHNICITY_ASIAN - FILIPINO</th>\n",
       "      <th>...</th>\n",
       "      <th>PROCEDURE_CCS_222</th>\n",
       "      <th>PROCEDURE_CCS_223</th>\n",
       "      <th>PROCEDURE_CCS_224</th>\n",
       "      <th>PROCEDURE_CCS_225</th>\n",
       "      <th>PROCEDURE_CCS_226</th>\n",
       "      <th>PROCEDURE_CCS_227</th>\n",
       "      <th>PROCEDURE_CCS_228</th>\n",
       "      <th>PROCEDURE_CCS_229</th>\n",
       "      <th>PROCEDURE_CCS_231</th>\n",
       "      <th>length_of_stay</th>\n",
       "    </tr>\n",
       "  </thead>\n",
       "  <tbody>\n",
       "    <tr>\n",
       "      <th>0</th>\n",
       "      <td>357648</td>\n",
       "      <td>65.0</td>\n",
       "      <td>0</td>\n",
       "      <td>0</td>\n",
       "      <td>0</td>\n",
       "      <td>0</td>\n",
       "      <td>0</td>\n",
       "      <td>0</td>\n",
       "      <td>0</td>\n",
       "      <td>0</td>\n",
       "      <td>...</td>\n",
       "      <td>0</td>\n",
       "      <td>0</td>\n",
       "      <td>0</td>\n",
       "      <td>0</td>\n",
       "      <td>0</td>\n",
       "      <td>0</td>\n",
       "      <td>0</td>\n",
       "      <td>0</td>\n",
       "      <td>0</td>\n",
       "      <td>1.144444</td>\n",
       "    </tr>\n",
       "    <tr>\n",
       "      <th>1</th>\n",
       "      <td>344556</td>\n",
       "      <td>70.0</td>\n",
       "      <td>1</td>\n",
       "      <td>0</td>\n",
       "      <td>0</td>\n",
       "      <td>0</td>\n",
       "      <td>0</td>\n",
       "      <td>0</td>\n",
       "      <td>0</td>\n",
       "      <td>0</td>\n",
       "      <td>...</td>\n",
       "      <td>1</td>\n",
       "      <td>0</td>\n",
       "      <td>0</td>\n",
       "      <td>0</td>\n",
       "      <td>0</td>\n",
       "      <td>0</td>\n",
       "      <td>0</td>\n",
       "      <td>0</td>\n",
       "      <td>0</td>\n",
       "      <td>5.496528</td>\n",
       "    </tr>\n",
       "    <tr>\n",
       "      <th>2</th>\n",
       "      <td>316654</td>\n",
       "      <td>75.0</td>\n",
       "      <td>1</td>\n",
       "      <td>0</td>\n",
       "      <td>0</td>\n",
       "      <td>0</td>\n",
       "      <td>0</td>\n",
       "      <td>0</td>\n",
       "      <td>0</td>\n",
       "      <td>0</td>\n",
       "      <td>...</td>\n",
       "      <td>0</td>\n",
       "      <td>0</td>\n",
       "      <td>0</td>\n",
       "      <td>0</td>\n",
       "      <td>0</td>\n",
       "      <td>0</td>\n",
       "      <td>0</td>\n",
       "      <td>0</td>\n",
       "      <td>0</td>\n",
       "      <td>6.768056</td>\n",
       "    </tr>\n",
       "    <tr>\n",
       "      <th>5</th>\n",
       "      <td>389994</td>\n",
       "      <td>70.0</td>\n",
       "      <td>1</td>\n",
       "      <td>0</td>\n",
       "      <td>0</td>\n",
       "      <td>0</td>\n",
       "      <td>0</td>\n",
       "      <td>0</td>\n",
       "      <td>0</td>\n",
       "      <td>0</td>\n",
       "      <td>...</td>\n",
       "      <td>0</td>\n",
       "      <td>0</td>\n",
       "      <td>0</td>\n",
       "      <td>0</td>\n",
       "      <td>0</td>\n",
       "      <td>1</td>\n",
       "      <td>0</td>\n",
       "      <td>0</td>\n",
       "      <td>0</td>\n",
       "      <td>6.988889</td>\n",
       "    </tr>\n",
       "    <tr>\n",
       "      <th>7</th>\n",
       "      <td>354902</td>\n",
       "      <td>75.0</td>\n",
       "      <td>1</td>\n",
       "      <td>0</td>\n",
       "      <td>0</td>\n",
       "      <td>0</td>\n",
       "      <td>0</td>\n",
       "      <td>0</td>\n",
       "      <td>0</td>\n",
       "      <td>0</td>\n",
       "      <td>...</td>\n",
       "      <td>1</td>\n",
       "      <td>0</td>\n",
       "      <td>0</td>\n",
       "      <td>0</td>\n",
       "      <td>0</td>\n",
       "      <td>1</td>\n",
       "      <td>0</td>\n",
       "      <td>0</td>\n",
       "      <td>0</td>\n",
       "      <td>5.364583</td>\n",
       "    </tr>\n",
       "  </tbody>\n",
       "</table>\n",
       "<p>5 rows × 650 columns</p>\n",
       "</div>"
      ],
      "text/plain": [
       "   ADMIT_ID   AGE  GENDER_M  ETHNICITY_AMERICAN INDIAN/ALASKA NATIVE  \\\n",
       "0    357648  65.0         0                                        0   \n",
       "1    344556  70.0         1                                        0   \n",
       "2    316654  75.0         1                                        0   \n",
       "5    389994  70.0         1                                        0   \n",
       "7    354902  75.0         1                                        0   \n",
       "\n",
       "   ETHNICITY_AMERICAN INDIAN/ALASKA NATIVE FEDERALLY RECOGNIZED TRIBE  \\\n",
       "0                                                  0                    \n",
       "1                                                  0                    \n",
       "2                                                  0                    \n",
       "5                                                  0                    \n",
       "7                                                  0                    \n",
       "\n",
       "   ETHNICITY_ASIAN  ETHNICITY_ASIAN - ASIAN INDIAN  \\\n",
       "0                0                               0   \n",
       "1                0                               0   \n",
       "2                0                               0   \n",
       "5                0                               0   \n",
       "7                0                               0   \n",
       "\n",
       "   ETHNICITY_ASIAN - CAMBODIAN  ETHNICITY_ASIAN - CHINESE  \\\n",
       "0                            0                          0   \n",
       "1                            0                          0   \n",
       "2                            0                          0   \n",
       "5                            0                          0   \n",
       "7                            0                          0   \n",
       "\n",
       "   ETHNICITY_ASIAN - FILIPINO  ...  PROCEDURE_CCS_222  PROCEDURE_CCS_223  \\\n",
       "0                           0  ...                  0                  0   \n",
       "1                           0  ...                  1                  0   \n",
       "2                           0  ...                  0                  0   \n",
       "5                           0  ...                  0                  0   \n",
       "7                           0  ...                  1                  0   \n",
       "\n",
       "   PROCEDURE_CCS_224  PROCEDURE_CCS_225  PROCEDURE_CCS_226  PROCEDURE_CCS_227  \\\n",
       "0                  0                  0                  0                  0   \n",
       "1                  0                  0                  0                  0   \n",
       "2                  0                  0                  0                  0   \n",
       "5                  0                  0                  0                  1   \n",
       "7                  0                  0                  0                  1   \n",
       "\n",
       "   PROCEDURE_CCS_228  PROCEDURE_CCS_229  PROCEDURE_CCS_231  length_of_stay  \n",
       "0                  0                  0                  0        1.144444  \n",
       "1                  0                  0                  0        5.496528  \n",
       "2                  0                  0                  0        6.768056  \n",
       "5                  0                  0                  0        6.988889  \n",
       "7                  0                  0                  0        5.364583  \n",
       "\n",
       "[5 rows x 650 columns]"
      ]
     },
     "metadata": {},
     "output_type": "display_data"
    }
   ],
   "source": [
    "df = helpers.load_mimic3_example(path_to_mimic_data_folder) \n",
    "df.drop('GENDER_F', axis=1, inplace=True)\n",
    "df = df.loc[df['AGE'].ge(65),:]\n",
    "helpers.print_feature_table(df)\n",
    "display(Markdown('---'))\n",
    "display(df.head())"
   ]
  },
  {
   "cell_type": "code",
   "execution_count": 8,
   "metadata": {
    "slideshow": {
     "slide_type": "subslide"
    }
   },
   "outputs": [
    {
     "data": {
      "text/html": [
       "<style  type=\"text/css\" >\n",
       "#T_094b85f2_04e2_11eb_bd5f_f0189849bf4brow0_col1,#T_094b85f2_04e2_11eb_bd5f_f0189849bf4brow1_col1{\n",
       "            background-color:  aquamarine;\n",
       "        }</style><table id=\"T_094b85f2_04e2_11eb_bd5f_f0189849bf4b\" ><thead>    <tr>        <th class=\"blank level0\" ></th>        <th class=\"col_heading level0 col0\" >count</th>        <th class=\"col_heading level0 col1\" >mean</th>        <th class=\"col_heading level0 col2\" >std</th>        <th class=\"col_heading level0 col3\" >min</th>        <th class=\"col_heading level0 col4\" >25%</th>        <th class=\"col_heading level0 col5\" >50%</th>        <th class=\"col_heading level0 col6\" >75%</th>        <th class=\"col_heading level0 col7\" >max</th>    </tr></thead><tbody>\n",
       "                <tr>\n",
       "                        <th id=\"T_094b85f2_04e2_11eb_bd5f_f0189849bf4blevel0_row0\" class=\"row_heading level0 row0\" >length_of_stay</th>\n",
       "                        <td id=\"T_094b85f2_04e2_11eb_bd5f_f0189849bf4brow0_col0\" class=\"data row0 col0\" >22434.000000</td>\n",
       "                        <td id=\"T_094b85f2_04e2_11eb_bd5f_f0189849bf4brow0_col1\" class=\"data row0 col1\" >9.115200</td>\n",
       "                        <td id=\"T_094b85f2_04e2_11eb_bd5f_f0189849bf4brow0_col2\" class=\"data row0 col2\" >6.208700</td>\n",
       "                        <td id=\"T_094b85f2_04e2_11eb_bd5f_f0189849bf4brow0_col3\" class=\"data row0 col3\" >0.004200</td>\n",
       "                        <td id=\"T_094b85f2_04e2_11eb_bd5f_f0189849bf4brow0_col4\" class=\"data row0 col4\" >4.735200</td>\n",
       "                        <td id=\"T_094b85f2_04e2_11eb_bd5f_f0189849bf4brow0_col5\" class=\"data row0 col5\" >7.579900</td>\n",
       "                        <td id=\"T_094b85f2_04e2_11eb_bd5f_f0189849bf4brow0_col6\" class=\"data row0 col6\" >12.017700</td>\n",
       "                        <td id=\"T_094b85f2_04e2_11eb_bd5f_f0189849bf4brow0_col7\" class=\"data row0 col7\" >29.988900</td>\n",
       "            </tr>\n",
       "            <tr>\n",
       "                        <th id=\"T_094b85f2_04e2_11eb_bd5f_f0189849bf4blevel0_row1\" class=\"row_heading level0 row1\" >long_los</th>\n",
       "                        <td id=\"T_094b85f2_04e2_11eb_bd5f_f0189849bf4brow1_col0\" class=\"data row1 col0\" >22434.000000</td>\n",
       "                        <td id=\"T_094b85f2_04e2_11eb_bd5f_f0189849bf4brow1_col1\" class=\"data row1 col1\" >0.388000</td>\n",
       "                        <td id=\"T_094b85f2_04e2_11eb_bd5f_f0189849bf4brow1_col2\" class=\"data row1 col2\" >0.487300</td>\n",
       "                        <td id=\"T_094b85f2_04e2_11eb_bd5f_f0189849bf4brow1_col3\" class=\"data row1 col3\" >0.000000</td>\n",
       "                        <td id=\"T_094b85f2_04e2_11eb_bd5f_f0189849bf4brow1_col4\" class=\"data row1 col4\" >0.000000</td>\n",
       "                        <td id=\"T_094b85f2_04e2_11eb_bd5f_f0189849bf4brow1_col5\" class=\"data row1 col5\" >0.000000</td>\n",
       "                        <td id=\"T_094b85f2_04e2_11eb_bd5f_f0189849bf4brow1_col6\" class=\"data row1 col6\" >1.000000</td>\n",
       "                        <td id=\"T_094b85f2_04e2_11eb_bd5f_f0189849bf4brow1_col7\" class=\"data row1 col7\" >1.000000</td>\n",
       "            </tr>\n",
       "    </tbody></table>"
      ],
      "text/plain": [
       "<pandas.io.formats.style.Styler at 0x7fd35e7b9b90>"
      ]
     },
     "metadata": {},
     "output_type": "display_data"
    },
    {
     "data": {
      "text/markdown": [
       "---"
      ],
      "text/plain": [
       "<IPython.core.display.Markdown object>"
      ]
     },
     "metadata": {},
     "output_type": "display_data"
    },
    {
     "data": {
      "image/png": "[encoded data removed]",
      "text/plain": [
       "<Figure size 432x288 with 1 Axes>"
      ]
     },
     "metadata": {
      "needs_background": "light"
     },
     "output_type": "display_data"
    }
   ],
   "source": [
    "# Generate a binary target flagging whether an observation's length_of_stay value is above or below the mean. \n",
    "mean_val=df['length_of_stay'].mean()\n",
    "df['long_los'] = df['length_of_stay'].apply(lambda x: 1 if x > mean_val else 0)\n",
    "los_tbl = df[['length_of_stay', 'long_los']].describe().transpose().round(4)\n",
    "display(los_tbl.style.applymap(helpers.highlight_col, subset=pd.IndexSlice[:, 'mean']))\n",
    "\n",
    "# Display LOS distributions\n",
    "display(Markdown('---'))\n",
    "ax = df['length_of_stay'].plot(kind='kde', title=\"Probability Density of Length of Stay\")\n",
    "ax.set_xlabel(\"Length of Stay in Days\")\n",
    "plt.show()"
   ]
  },
  {
   "cell_type": "markdown",
   "metadata": {
    "slideshow": {
     "slide_type": "slide"
    }
   },
   "source": [
    "----\n",
    "# Part 2 - Length of Stay Models <a class=\"anchor\" id=\"part2\"></a>"
   ]
  },
  {
   "cell_type": "code",
   "execution_count": 9,
   "metadata": {},
   "outputs": [],
   "source": [
    "from sklearn.model_selection import train_test_split\n",
    "import sklearn.metrics as sk_metric"
   ]
  },
  {
   "cell_type": "code",
   "execution_count": 10,
   "metadata": {},
   "outputs": [],
   "source": [
    "import random\n",
    "np.random.seed(36)  # set seed for consistent results with ExponentiatedGradient"
   ]
  },
  {
   "cell_type": "markdown",
   "metadata": {},
   "source": [
    "### Split Data"
   ]
  },
  {
   "cell_type": "code",
   "execution_count": 11,
   "metadata": {},
   "outputs": [],
   "source": [
    "# Subset and Split Data\n",
    "X = df.loc[:,[c for c in df.columns if c not in ['ADMIT_ID','length_of_stay', 'long_los']]]\n",
    "y = df.loc[:, ['long_los']]\n",
    "X_train, X_test, y_train, y_test = train_test_split(X, y, stratify=y, test_size=0.33, random_state=42)"
   ]
  },
  {
   "cell_type": "markdown",
   "metadata": {},
   "source": [
    "### Baseline - Random Sampling"
   ]
  },
  {
   "cell_type": "code",
   "execution_count": 12,
   "metadata": {},
   "outputs": [
    {
     "name": "stdout",
     "output_type": "stream",
     "text": [
      "\n",
      " Prediction Scores for Random Sampling: \n",
      "               precision    recall  f1-score   support\n",
      "\n",
      "  LOS > mean       0.61      0.61      0.61     13730\n",
      " LOS <= mean       0.39      0.38      0.39      8704\n",
      "\n",
      "    accuracy                           0.52     22434\n",
      "   macro avg       0.50      0.50      0.50     22434\n",
      "weighted avg       0.52      0.52      0.52     22434\n",
      "\n"
     ]
    }
   ],
   "source": [
    "# generate \"predictions\" as random sample of target values\n",
    "y = df['long_los']\n",
    "pos_weight = y.mean()\n",
    "weights = [1-pos_weight, pos_weight]\n",
    "values = list(set(y))\n",
    "y_pred_baseline = np.array(random.choices(values, weights, k=df.shape[0]))\n",
    "y_prob_baseline = y_pred_baseline\n",
    "\n",
    "# display baseline performance \n",
    "print(\"\\n\", \"Prediction Scores for Random Sampling:\", \"\\n\", \n",
    "      sk_metric.classification_report(y, y_pred_baseline, target_names=['LOS > mean', 'LOS <= mean']))"
   ]
  },
  {
   "cell_type": "markdown",
   "metadata": {},
   "source": [
    "----\n",
    "# Part 2.1 - Out-of-the-Box Models <a class=\"anchor\" id=\"part2.1\"></a>"
   ]
  },
  {
   "cell_type": "markdown",
   "metadata": {},
   "source": [
    "### Naive Bayes Classifier"
   ]
  },
  {
   "cell_type": "code",
   "execution_count": 13,
   "metadata": {},
   "outputs": [],
   "source": [
    "from sklearn.naive_bayes import BernoulliNB"
   ]
  },
  {
   "cell_type": "code",
   "execution_count": 14,
   "metadata": {},
   "outputs": [
    {
     "name": "stdout",
     "output_type": "stream",
     "text": [
      "(15030, 648) (15030, 1) (7404, 648) (7404, 1)\n"
     ]
    }
   ],
   "source": [
    "print(X_train.shape, y_train.shape, X_test.shape, y_test.shape)"
   ]
  },
  {
   "cell_type": "code",
   "execution_count": 15,
   "metadata": {},
   "outputs": [
    {
     "name": "stdout",
     "output_type": "stream",
     "text": [
      "Model finished in 0:00:00.332273 (hr:mn:sc)\n",
      "\n",
      " Naive Bayes Prediction Scores: \n",
      "               precision    recall  f1-score   support\n",
      "\n",
      " LOS <= mean       0.76      0.85      0.80      4531\n",
      "  LOS > mean       0.71      0.58      0.64      2873\n",
      "\n",
      "    accuracy                           0.75      7404\n",
      "   macro avg       0.74      0.72      0.72      7404\n",
      "weighted avg       0.74      0.75      0.74      7404\n",
      "\n"
     ]
    }
   ],
   "source": [
    "nb_params = {'alpha':20, 'fit_prior':True}\n",
    "\n",
    "# Train Model\n",
    "start_time = check_timer()\n",
    "nb_model = BernoulliNB(**nb_params)\n",
    "nb_model.fit(X_train, y_train.iloc[:,0])\n",
    "y_pred_nb = nb_model.predict(X_test)\n",
    "print(\"Model finished in\", check_timer(start_time))\n",
    "\n",
    "# display performance \n",
    "print(\"\\n\", \"Naive Bayes Prediction Scores:\", \"\\n\", \n",
    "      sk_metric.classification_report(y_test, y_pred_nb, target_names=['LOS <= mean', 'LOS > mean']))"
   ]
  },
  {
   "cell_type": "markdown",
   "metadata": {},
   "source": [
    "### Decision Tree Model"
   ]
  },
  {
   "cell_type": "code",
   "execution_count": 16,
   "metadata": {},
   "outputs": [],
   "source": [
    "from sklearn.tree import DecisionTreeClassifier"
   ]
  },
  {
   "cell_type": "code",
   "execution_count": 17,
   "metadata": {},
   "outputs": [
    {
     "name": "stdout",
     "output_type": "stream",
     "text": [
      "Model finished in 0:00:00.656993 (hr:mn:sc)\n",
      "\n",
      " Decision Tree Prediction Scores: \n",
      "               precision    recall  f1-score   support\n",
      "\n",
      " LOS <= mean       0.73      0.85      0.79      4531\n",
      "  LOS > mean       0.69      0.52      0.59      2873\n",
      "\n",
      "    accuracy                           0.72      7404\n",
      "   macro avg       0.71      0.68      0.69      7404\n",
      "weighted avg       0.72      0.72      0.71      7404\n",
      "\n"
     ]
    }
   ],
   "source": [
    "dt_params = {'min_samples_split': 10,\n",
    " 'min_samples_leaf': 2,\n",
    " 'max_depth': 10,\n",
    " 'criterion': 'entropy'}\n",
    "\n",
    "# Train Model\n",
    "start_time = check_timer()\n",
    "dt_model = DecisionTreeClassifier(**dt_params)\n",
    "dt_model.fit(X_train, y_train.iloc[:,0])\n",
    "y_pred_dt = dt_model.predict(X_test)\n",
    "print(\"Model finished in\", check_timer(start_time))\n",
    "\n",
    "# display performance \n",
    "print(\"\\n\", \"Decision Tree Prediction Scores:\", \"\\n\", \n",
    "      sk_metric.classification_report(y_test, y_pred_dt, target_names=['LOS <= mean', 'LOS > mean']) )"
   ]
  },
  {
   "cell_type": "markdown",
   "metadata": {},
   "source": [
    "### Random Forest Model"
   ]
  },
  {
   "cell_type": "code",
   "execution_count": 18,
   "metadata": {},
   "outputs": [],
   "source": [
    "from sklearn.ensemble import RandomForestClassifier"
   ]
  },
  {
   "cell_type": "code",
   "execution_count": 19,
   "metadata": {},
   "outputs": [
    {
     "name": "stdout",
     "output_type": "stream",
     "text": [
      "Model finished in 0:03:46.567929 (hr:mn:sc)\n",
      "\n",
      " Random Forest Prediction Scores: \n",
      "               precision    recall  f1-score   support\n",
      "\n",
      " LOS <= mean       0.77      0.90      0.83      4531\n",
      "  LOS > mean       0.78      0.57      0.66      2873\n",
      "\n",
      "    accuracy                           0.77      7404\n",
      "   macro avg       0.77      0.73      0.74      7404\n",
      "weighted avg       0.77      0.77      0.76      7404\n",
      "\n"
     ]
    }
   ],
   "source": [
    "rf_params = {'criterion':'entropy', 'n_estimators': 1800, 'min_samples_split': 5, 'bootstrap': False}\n",
    "\n",
    "# Train Model\n",
    "start_time = check_timer()\n",
    "rf_model = RandomForestClassifier(**rf_params)\n",
    "rf_model.fit(X_train, y_train.iloc[:,0])\n",
    "y_pred_rf = rf_model.predict(X_test)\n",
    "print(\"Model finished in\", check_timer(start_time))\n",
    "\n",
    "# display performance \n",
    "print(\"\\n\", \"Random Forest Prediction Scores:\", \"\\n\", \n",
    "      sk_metric.classification_report(y_test, y_pred_rf, target_names=['LOS <= mean', 'LOS > mean']) )"
   ]
  },
  {
   "cell_type": "markdown",
   "metadata": {},
   "source": [
    "### Logit Regression Model"
   ]
  },
  {
   "cell_type": "code",
   "execution_count": 20,
   "metadata": {},
   "outputs": [],
   "source": [
    "from sklearn.linear_model import LogisticRegression"
   ]
  },
  {
   "cell_type": "code",
   "execution_count": 21,
   "metadata": {},
   "outputs": [
    {
     "name": "stdout",
     "output_type": "stream",
     "text": [
      "Model finished in 0:00:41.919341 (hr:mn:sc)\n",
      "\n",
      " Logit Regression Prediction Scores: \n",
      "               precision    recall  f1-score   support\n",
      "\n",
      " LOS <= mean       0.79      0.87      0.83      4531\n",
      "  LOS > mean       0.75      0.63      0.69      2873\n",
      "\n",
      "    accuracy                           0.78      7404\n",
      "   macro avg       0.77      0.75      0.76      7404\n",
      "weighted avg       0.77      0.78      0.77      7404\n",
      "\n"
     ]
    }
   ],
   "source": [
    "lr_params = {'penalty':\"none\", 'max_iter':10**4}\n",
    "\n",
    "# Train Model\n",
    "start_time = check_timer()\n",
    "lr_model = LogisticRegression(**lr_params)\n",
    "lr_model.fit(X_train, y_train.iloc[:,0])\n",
    "y_pred_lr = lr_model.predict(X_test)\n",
    "print(\"Model finished in\", check_timer(start_time))\n",
    "\n",
    "# display performance \n",
    "print(\"\\n\", \"Logit Regression Prediction Scores:\", \"\\n\", \n",
    "      sk_metric.classification_report(y_test, y_pred_lr, zero_division=0, target_names=['LOS <= mean', 'LOS > mean']) )"
   ]
  },
  {
   "cell_type": "markdown",
   "metadata": {},
   "source": [
    "### SVM Model"
   ]
  },
  {
   "cell_type": "code",
   "execution_count": 22,
   "metadata": {},
   "outputs": [],
   "source": [
    "from sklearn.svm import LinearSVC \n",
    "import warnings\n",
    "warnings.filterwarnings('ignore', message=\"Liblinear failed to converge, increase the number of iterations.\")"
   ]
  },
  {
   "cell_type": "code",
   "execution_count": 23,
   "metadata": {},
   "outputs": [
    {
     "name": "stdout",
     "output_type": "stream",
     "text": [
      "Model finished in 0:00:29.011797 (hr:mn:sc)\n",
      "\n",
      " SVM Prediction Scores: \n",
      "               precision    recall  f1-score   support\n",
      "\n",
      " LOS <= mean       0.74      0.94      0.83      4531\n",
      "  LOS > mean       0.84      0.49      0.62      2873\n",
      "\n",
      "    accuracy                           0.77      7404\n",
      "   macro avg       0.79      0.72      0.73      7404\n",
      "weighted avg       0.78      0.77      0.75      7404\n",
      "\n"
     ]
    }
   ],
   "source": [
    "svm_params = {'max_iter':10**4}\n",
    "\n",
    "# Train Model\n",
    "start_time = check_timer()\n",
    "svm_model = LinearSVC(**svm_params)\n",
    "svm_model.fit(X_train, y_train.iloc[:,0])\n",
    "y_pred_svm = svm_model.predict(X_test)\n",
    "print(\"Model finished in\", check_timer(start_time))\n",
    "\n",
    "# display performance \n",
    "print(\"\\n\", \"SVM Prediction Scores:\", \"\\n\", \n",
    "      sk_metric.classification_report(y_test, y_pred_svm, target_names=['LOS <= mean', 'LOS > mean'], zero_division=0) )"
   ]
  },
  {
   "cell_type": "markdown",
   "metadata": {},
   "source": [
    "## LightGBM"
   ]
  },
  {
   "cell_type": "code",
   "execution_count": 24,
   "metadata": {},
   "outputs": [],
   "source": [
    "import lightgbm as lgb"
   ]
  },
  {
   "cell_type": "code",
   "execution_count": 25,
   "metadata": {},
   "outputs": [
    {
     "name": "stdout",
     "output_type": "stream",
     "text": [
      "Model finished in 0:00:00.620028 (hr:mn:sc)\n",
      "\n",
      " Prediction Scores: \n",
      "               precision    recall  f1-score   support\n",
      "\n",
      " LOS <= mean       0.73      0.91      0.81      4531\n",
      "  LOS > mean       0.76      0.47      0.58      2873\n",
      "\n",
      "    accuracy                           0.74      7404\n",
      "   macro avg       0.74      0.69      0.69      7404\n",
      "weighted avg       0.74      0.74      0.72      7404\n",
      "\n"
     ]
    }
   ],
   "source": [
    "lgb_params = {'objective':'binary', 'metric':'auc', 'learning_rate':0.03,\n",
    "              'num_leaves':10, 'max_depth':3}\n",
    "\n",
    "start_time = check_timer()\n",
    "lgb_model = lgb.LGBMClassifier(**lgb_params)\n",
    "lgb_model.fit(X_train, y_train.iloc[:,0])\n",
    "y_pred_lgb = lgb_model.predict(X_test)\n",
    "print(\"Model finished in\", check_timer(start_time))\n",
    "\n",
    "# display performance \n",
    "print(\"\\n\", \"Prediction Scores:\", \"\\n\", \n",
    "      sk_metric.classification_report(y_test, y_pred_lgb, target_names=['LOS <= mean', 'LOS > mean']) )\n"
   ]
  },
  {
   "cell_type": "markdown",
   "metadata": {},
   "source": [
    "## XGBOOST Model"
   ]
  },
  {
   "cell_type": "code",
   "execution_count": 26,
   "metadata": {},
   "outputs": [],
   "source": [
    "from xgboost import XGBClassifier"
   ]
  },
  {
   "cell_type": "code",
   "execution_count": 27,
   "metadata": {},
   "outputs": [
    {
     "name": "stdout",
     "output_type": "stream",
     "text": [
      "Model finished in 0:01:49.837946 (hr:mn:sc)\n",
      "\n",
      " Prediction Scores: \n",
      "               precision    recall  f1-score   support\n",
      "\n",
      " LOS <= mean       0.79      0.88      0.83      4531\n",
      "  LOS > mean       0.77      0.63      0.70      2873\n",
      "\n",
      "    accuracy                           0.78      7404\n",
      "   macro avg       0.78      0.76      0.76      7404\n",
      "weighted avg       0.78      0.78      0.78      7404\n",
      "\n"
     ]
    }
   ],
   "source": [
    "xgb_params = {'colsample_bytree': 1.0, 'gamma': 2, 'learning_rate': 0.05, 'max_depth': 5, \n",
    "                'min_child_weight': 1,  'n_estimators': 600, 'subsample': 0.6}\n",
    "\n",
    "# Train Model\n",
    "xgb_model = XGBClassifier(**xgb_params)\n",
    "start_time = check_timer()\n",
    "xgb_model.fit(X_train, y_train.iloc[:,0])\n",
    "y_pred_xgb = xgb_model.predict(X_test)\n",
    "print(\"Model finished in\", check_timer(start_time))\n",
    "\n",
    "# display performance \n",
    "print(\"\\n\", \"Prediction Scores:\", \"\\n\", \n",
    "      sk_metric.classification_report(y_test, y_pred_xgb, target_names=['LOS <= mean', 'LOS > mean']) )\n"
   ]
  },
  {
   "cell_type": "markdown",
   "metadata": {},
   "source": [
    "----\n",
    "# Part 2.2 - AIF360 Fairness-Aware  (In-Process) Models <a class=\"anchor\" id=\"part2.2\"></a>"
   ]
  },
  {
   "cell_type": "markdown",
   "metadata": {},
   "source": [
    "### Data Preparation\n",
    "\n",
    "The AIF360 fairness-aware solutions require data to be in "
   ]
  },
  {
   "cell_type": "code",
   "execution_count": 28,
   "metadata": {},
   "outputs": [],
   "source": [
    "import aif360.datasets as aifdata"
   ]
  },
  {
   "cell_type": "code",
   "execution_count": 29,
   "metadata": {},
   "outputs": [
    {
     "data": {
      "text/html": [
       "<div>\n",
       "<style scoped>\n",
       "    .dataframe tbody tr th:only-of-type {\n",
       "        vertical-align: middle;\n",
       "    }\n",
       "\n",
       "    .dataframe tbody tr th {\n",
       "        vertical-align: top;\n",
       "    }\n",
       "\n",
       "    .dataframe thead th {\n",
       "        text-align: right;\n",
       "    }\n",
       "</style>\n",
       "<table border=\"1\" class=\"dataframe\">\n",
       "  <thead>\n",
       "    <tr style=\"text-align: right;\">\n",
       "      <th></th>\n",
       "      <th>AGE</th>\n",
       "      <th>GENDER_M</th>\n",
       "      <th>ETHNICITY_AMERICAN INDIAN/ALASKA NATIVE</th>\n",
       "      <th>ETHNICITY_AMERICAN INDIAN/ALASKA NATIVE FEDERALLY RECOGNIZED TRIBE</th>\n",
       "      <th>ETHNICITY_ASIAN</th>\n",
       "      <th>ETHNICITY_ASIAN - ASIAN INDIAN</th>\n",
       "      <th>ETHNICITY_ASIAN - CAMBODIAN</th>\n",
       "      <th>ETHNICITY_ASIAN - CHINESE</th>\n",
       "      <th>ETHNICITY_ASIAN - FILIPINO</th>\n",
       "      <th>ETHNICITY_ASIAN - JAPANESE</th>\n",
       "      <th>...</th>\n",
       "      <th>PROCEDURE_CCS_222</th>\n",
       "      <th>PROCEDURE_CCS_223</th>\n",
       "      <th>PROCEDURE_CCS_224</th>\n",
       "      <th>PROCEDURE_CCS_225</th>\n",
       "      <th>PROCEDURE_CCS_226</th>\n",
       "      <th>PROCEDURE_CCS_227</th>\n",
       "      <th>PROCEDURE_CCS_228</th>\n",
       "      <th>PROCEDURE_CCS_229</th>\n",
       "      <th>PROCEDURE_CCS_231</th>\n",
       "      <th>long_los</th>\n",
       "    </tr>\n",
       "  </thead>\n",
       "  <tbody>\n",
       "    <tr>\n",
       "      <th>0</th>\n",
       "      <td>80.0</td>\n",
       "      <td>1</td>\n",
       "      <td>0</td>\n",
       "      <td>0</td>\n",
       "      <td>0</td>\n",
       "      <td>0</td>\n",
       "      <td>0</td>\n",
       "      <td>0</td>\n",
       "      <td>0</td>\n",
       "      <td>0</td>\n",
       "      <td>...</td>\n",
       "      <td>0</td>\n",
       "      <td>0</td>\n",
       "      <td>0</td>\n",
       "      <td>0</td>\n",
       "      <td>0</td>\n",
       "      <td>0</td>\n",
       "      <td>0</td>\n",
       "      <td>0</td>\n",
       "      <td>0</td>\n",
       "      <td>0</td>\n",
       "    </tr>\n",
       "    <tr>\n",
       "      <th>1</th>\n",
       "      <td>80.0</td>\n",
       "      <td>1</td>\n",
       "      <td>0</td>\n",
       "      <td>0</td>\n",
       "      <td>0</td>\n",
       "      <td>0</td>\n",
       "      <td>0</td>\n",
       "      <td>0</td>\n",
       "      <td>0</td>\n",
       "      <td>0</td>\n",
       "      <td>...</td>\n",
       "      <td>0</td>\n",
       "      <td>0</td>\n",
       "      <td>0</td>\n",
       "      <td>0</td>\n",
       "      <td>0</td>\n",
       "      <td>0</td>\n",
       "      <td>0</td>\n",
       "      <td>0</td>\n",
       "      <td>0</td>\n",
       "      <td>0</td>\n",
       "    </tr>\n",
       "    <tr>\n",
       "      <th>2</th>\n",
       "      <td>80.0</td>\n",
       "      <td>0</td>\n",
       "      <td>0</td>\n",
       "      <td>0</td>\n",
       "      <td>0</td>\n",
       "      <td>0</td>\n",
       "      <td>0</td>\n",
       "      <td>0</td>\n",
       "      <td>0</td>\n",
       "      <td>0</td>\n",
       "      <td>...</td>\n",
       "      <td>1</td>\n",
       "      <td>0</td>\n",
       "      <td>0</td>\n",
       "      <td>0</td>\n",
       "      <td>0</td>\n",
       "      <td>0</td>\n",
       "      <td>0</td>\n",
       "      <td>0</td>\n",
       "      <td>0</td>\n",
       "      <td>1</td>\n",
       "    </tr>\n",
       "    <tr>\n",
       "      <th>3</th>\n",
       "      <td>65.0</td>\n",
       "      <td>0</td>\n",
       "      <td>0</td>\n",
       "      <td>0</td>\n",
       "      <td>0</td>\n",
       "      <td>0</td>\n",
       "      <td>0</td>\n",
       "      <td>0</td>\n",
       "      <td>0</td>\n",
       "      <td>0</td>\n",
       "      <td>...</td>\n",
       "      <td>0</td>\n",
       "      <td>0</td>\n",
       "      <td>0</td>\n",
       "      <td>0</td>\n",
       "      <td>0</td>\n",
       "      <td>0</td>\n",
       "      <td>0</td>\n",
       "      <td>0</td>\n",
       "      <td>1</td>\n",
       "      <td>0</td>\n",
       "    </tr>\n",
       "    <tr>\n",
       "      <th>4</th>\n",
       "      <td>75.0</td>\n",
       "      <td>1</td>\n",
       "      <td>0</td>\n",
       "      <td>0</td>\n",
       "      <td>0</td>\n",
       "      <td>0</td>\n",
       "      <td>0</td>\n",
       "      <td>0</td>\n",
       "      <td>0</td>\n",
       "      <td>0</td>\n",
       "      <td>...</td>\n",
       "      <td>0</td>\n",
       "      <td>0</td>\n",
       "      <td>0</td>\n",
       "      <td>0</td>\n",
       "      <td>0</td>\n",
       "      <td>0</td>\n",
       "      <td>0</td>\n",
       "      <td>0</td>\n",
       "      <td>0</td>\n",
       "      <td>1</td>\n",
       "    </tr>\n",
       "  </tbody>\n",
       "</table>\n",
       "<p>5 rows × 649 columns</p>\n",
       "</div>"
      ],
      "text/plain": [
       "    AGE  GENDER_M  ETHNICITY_AMERICAN INDIAN/ALASKA NATIVE  \\\n",
       "0  80.0         1                                        0   \n",
       "1  80.0         1                                        0   \n",
       "2  80.0         0                                        0   \n",
       "3  65.0         0                                        0   \n",
       "4  75.0         1                                        0   \n",
       "\n",
       "   ETHNICITY_AMERICAN INDIAN/ALASKA NATIVE FEDERALLY RECOGNIZED TRIBE  \\\n",
       "0                                                  0                    \n",
       "1                                                  0                    \n",
       "2                                                  0                    \n",
       "3                                                  0                    \n",
       "4                                                  0                    \n",
       "\n",
       "   ETHNICITY_ASIAN  ETHNICITY_ASIAN - ASIAN INDIAN  \\\n",
       "0                0                               0   \n",
       "1                0                               0   \n",
       "2                0                               0   \n",
       "3                0                               0   \n",
       "4                0                               0   \n",
       "\n",
       "   ETHNICITY_ASIAN - CAMBODIAN  ETHNICITY_ASIAN - CHINESE  \\\n",
       "0                            0                          0   \n",
       "1                            0                          0   \n",
       "2                            0                          0   \n",
       "3                            0                          0   \n",
       "4                            0                          0   \n",
       "\n",
       "   ETHNICITY_ASIAN - FILIPINO  ETHNICITY_ASIAN - JAPANESE  ...  \\\n",
       "0                           0                           0  ...   \n",
       "1                           0                           0  ...   \n",
       "2                           0                           0  ...   \n",
       "3                           0                           0  ...   \n",
       "4                           0                           0  ...   \n",
       "\n",
       "   PROCEDURE_CCS_222  PROCEDURE_CCS_223  PROCEDURE_CCS_224  PROCEDURE_CCS_225  \\\n",
       "0                  0                  0                  0                  0   \n",
       "1                  0                  0                  0                  0   \n",
       "2                  1                  0                  0                  0   \n",
       "3                  0                  0                  0                  0   \n",
       "4                  0                  0                  0                  0   \n",
       "\n",
       "   PROCEDURE_CCS_226  PROCEDURE_CCS_227  PROCEDURE_CCS_228  PROCEDURE_CCS_229  \\\n",
       "0                  0                  0                  0                  0   \n",
       "1                  0                  0                  0                  0   \n",
       "2                  0                  0                  0                  0   \n",
       "3                  0                  0                  0                  0   \n",
       "4                  0                  0                  0                  0   \n",
       "\n",
       "   PROCEDURE_CCS_231  long_los  \n",
       "0                  0         0  \n",
       "1                  0         0  \n",
       "2                  0         1  \n",
       "3                  1         0  \n",
       "4                  0         1  \n",
       "\n",
       "[5 rows x 649 columns]"
      ]
     },
     "execution_count": 29,
     "metadata": {},
     "output_type": "execute_result"
    }
   ],
   "source": [
    "test_data = pd.concat([X_test, y_test], axis=1)\n",
    "train_data = pd.concat([X_train, y_train], axis=1)\n",
    "df = pd.concat([test_data, train_data], ignore_index=True)\n",
    "df.head()\n"
   ]
  },
  {
   "cell_type": "code",
   "execution_count": 30,
   "metadata": {},
   "outputs": [],
   "source": [
    "\n",
    "aif_data = pd.concat([X, y], axis=1)\n",
    "los_dataset = aifdata.StandardDataset(df=aif_data, \n",
    "                        label_name='long_los',\n",
    "                        favorable_classes=[1],\n",
    "                        instance_weights_name=None,\n",
    "                        categorical_features=['AGE'],\n",
    "                        protected_attribute_names=['LANGUAGE_ENGL'],       \n",
    "                        privileged_classes=[[1]],                   \n",
    "                        custom_preprocessing=None)"
   ]
  },
  {
   "cell_type": "markdown",
   "metadata": {},
   "source": [
    "### GerryFair Classifier"
   ]
  },
  {
   "cell_type": "code",
   "execution_count": 31,
   "metadata": {},
   "outputs": [],
   "source": [
    "from aif360.algorithms.inprocessing import GerryFairClassifier"
   ]
  },
  {
   "cell_type": "code",
   "execution_count": 32,
   "metadata": {},
   "outputs": [
    {
     "name": "stdout",
     "output_type": "stream",
     "text": [
      "iteration: 1, error: 0.20986003387715074, fairness violation: 0.0036408985147281703, violated group size: 0.1964428991709013\n",
      "iteration: 2, error: 0.20986003387715074, fairness violation: 0.0036408985147281703, violated group size: 0.1964428991709013\n",
      "iteration: 3, error: 0.20986003387715074, fairness violation: 0.0036408985147281703, violated group size: 0.1964428991709013\n",
      "iteration: 4, error: 0.20986003387715074, fairness violation: 0.0036408985147281703, violated group size: 0.1964428991709013\n",
      "iteration: 5, error: 0.20986003387715074, fairness violation: 0.0036408985147281703, violated group size: 0.1964428991709013\n",
      "Model finished in 0:00:11.935275 (hr:mn:sc)\n",
      "\n",
      " Note: Theoretically a predictor can be set, but no valid argument could be found during testing. Per the documentation: \"predictor: Hypothesis class for the Learner. Supports LR, SVM, KR, Trees\"\n"
     ]
    }
   ],
   "source": [
    "\n",
    "\n",
    "C = 100\n",
    "print_flag = True\n",
    "gamma = .005\n",
    "\n",
    "\n",
    "aif_gf_model = GerryFairClassifier(fairness_def='FN', #fairness_def: Fairness notion, FP, FN\n",
    "                                   C=C, \n",
    "                                   printflag=print_flag, \n",
    "                                   gamma=gamma, \n",
    "                                   max_iters=500, \n",
    "                                   heatmapflag=False)\n",
    "\n",
    "start_time = check_timer()\n",
    "aif_gf_model.fit(los_dataset, early_termination=True)\n",
    "yhat_aifgf = aif_gf_model.predict(los_dataset, threshold=False)\n",
    "print(\"Model finished in\", check_timer(start_time))\n",
    "\n",
    "print(\"\\n\",\n",
    "      \"Note: Theoretically a predictor can be set, but no valid argument could be found during testing.\",\n",
    "      \"Per the documentation: \\\"predictor: Hypothesis class for the Learner. Supports LR, SVM, KR, Trees\\\"\")"
   ]
  },
  {
   "cell_type": "markdown",
   "metadata": {},
   "source": [
    "### Prejudice Remover Regularizer"
   ]
  },
  {
   "cell_type": "code",
   "execution_count": 33,
   "metadata": {},
   "outputs": [],
   "source": [
    "from aif360.algorithms.inprocessing import prejudice_remover"
   ]
  },
  {
   "cell_type": "code",
   "execution_count": 34,
   "metadata": {},
   "outputs": [
    {
     "name": "stdout",
     "output_type": "stream",
     "text": [
      "Model finished in 0:01:32.011137 (hr:mn:sc)\n"
     ]
    }
   ],
   "source": [
    "\n",
    "aif_prr_model = prejudice_remover.PrejudiceRemover(sensitive_attr='LANGUAGE_ENGL')\n",
    "start_time = check_timer()\n",
    "aif_prr_model.fit(los_dataset)\n",
    "yhat_aif_prr = aif_prr_model.predict(los_dataset)\n",
    "print(\"Model finished in\", check_timer(start_time))"
   ]
  },
  {
   "cell_type": "markdown",
   "metadata": {},
   "source": [
    "### Adversarial Debiasing"
   ]
  },
  {
   "cell_type": "code",
   "execution_count": 35,
   "metadata": {},
   "outputs": [],
   "source": [
    "from aif360.algorithms.inprocessing import adversarial_debiasing\n",
    "import tensorflow as tf"
   ]
  },
  {
   "cell_type": "code",
   "execution_count": 36,
   "metadata": {},
   "outputs": [
    {
     "name": "stdout",
     "output_type": "stream",
     "text": [
      "WARNING:tensorflow:From /Users/christineallen/anaconda3/envs/fairMLHealth/lib/python3.7/site-packages/aif360/algorithms/inprocessing/adversarial_debiasing.py:137: The name tf.variable_scope is deprecated. Please use tf.compat.v1.variable_scope instead.\n",
      "\n",
      "WARNING:tensorflow:From /Users/christineallen/anaconda3/envs/fairMLHealth/lib/python3.7/site-packages/aif360/algorithms/inprocessing/adversarial_debiasing.py:141: The name tf.placeholder is deprecated. Please use tf.compat.v1.placeholder instead.\n",
      "\n",
      "WARNING:tensorflow:From /Users/christineallen/anaconda3/envs/fairMLHealth/lib/python3.7/site-packages/aif360/algorithms/inprocessing/adversarial_debiasing.py:84: The name tf.get_variable is deprecated. Please use tf.compat.v1.get_variable instead.\n",
      "\n",
      "WARNING:tensorflow:\n",
      "The TensorFlow contrib module will not be included in TensorFlow 2.0.\n",
      "For more information, please see:\n",
      "  * https://github.com/tensorflow/community/blob/master/rfcs/20180907-contrib-sunset.md\n",
      "  * https://github.com/tensorflow/addons\n",
      "  * https://github.com/tensorflow/io (for I/O related ops)\n",
      "If you depend on functionality not listed there, please file an issue.\n",
      "\n",
      "WARNING:tensorflow:From /Users/christineallen/anaconda3/envs/fairMLHealth/lib/python3.7/site-packages/aif360/algorithms/inprocessing/adversarial_debiasing.py:89: calling dropout (from tensorflow.python.ops.nn_ops) with keep_prob is deprecated and will be removed in a future version.\n",
      "Instructions for updating:\n",
      "Please use `rate` instead of `keep_prob`. Rate should be set to `rate = 1 - keep_prob`.\n",
      "WARNING:tensorflow:From /Users/christineallen/anaconda3/envs/fairMLHealth/lib/python3.7/site-packages/tensorflow/python/ops/nn_impl.py:180: add_dispatch_support.<locals>.wrapper (from tensorflow.python.ops.array_ops) is deprecated and will be removed in a future version.\n",
      "Instructions for updating:\n",
      "Use tf.where in 2.0, which has the same broadcast rule as np.where\n",
      "WARNING:tensorflow:From /Users/christineallen/anaconda3/envs/fairMLHealth/lib/python3.7/site-packages/aif360/algorithms/inprocessing/adversarial_debiasing.py:159: The name tf.train.exponential_decay is deprecated. Please use tf.compat.v1.train.exponential_decay instead.\n",
      "\n",
      "WARNING:tensorflow:From /Users/christineallen/anaconda3/envs/fairMLHealth/lib/python3.7/site-packages/aif360/algorithms/inprocessing/adversarial_debiasing.py:161: The name tf.train.AdamOptimizer is deprecated. Please use tf.compat.v1.train.AdamOptimizer instead.\n",
      "\n",
      "WARNING:tensorflow:From /Users/christineallen/anaconda3/envs/fairMLHealth/lib/python3.7/site-packages/aif360/algorithms/inprocessing/adversarial_debiasing.py:165: The name tf.trainable_variables is deprecated. Please use tf.compat.v1.trainable_variables instead.\n",
      "\n",
      "WARNING:tensorflow:From /Users/christineallen/anaconda3/envs/fairMLHealth/lib/python3.7/site-packages/aif360/algorithms/inprocessing/adversarial_debiasing.py:187: The name tf.global_variables_initializer is deprecated. Please use tf.compat.v1.global_variables_initializer instead.\n",
      "\n",
      "epoch 0; iter: 0; batch classifier loss: 0.747727\n",
      "epoch 1; iter: 0; batch classifier loss: 0.475418\n",
      "epoch 2; iter: 0; batch classifier loss: 0.542145\n",
      "epoch 3; iter: 0; batch classifier loss: 0.393214\n",
      "epoch 4; iter: 0; batch classifier loss: 0.392552\n",
      "epoch 5; iter: 0; batch classifier loss: 0.339938\n",
      "epoch 6; iter: 0; batch classifier loss: 0.306431\n",
      "epoch 7; iter: 0; batch classifier loss: 0.361059\n",
      "epoch 8; iter: 0; batch classifier loss: 0.315370\n",
      "epoch 9; iter: 0; batch classifier loss: 0.311666\n",
      "epoch 10; iter: 0; batch classifier loss: 0.259920\n",
      "epoch 11; iter: 0; batch classifier loss: 0.321432\n",
      "epoch 12; iter: 0; batch classifier loss: 0.245377\n",
      "epoch 13; iter: 0; batch classifier loss: 0.253675\n",
      "epoch 14; iter: 0; batch classifier loss: 0.251444\n",
      "epoch 15; iter: 0; batch classifier loss: 0.197511\n",
      "epoch 16; iter: 0; batch classifier loss: 0.214764\n",
      "epoch 17; iter: 0; batch classifier loss: 0.198867\n",
      "epoch 18; iter: 0; batch classifier loss: 0.197046\n",
      "epoch 19; iter: 0; batch classifier loss: 0.213651\n",
      "epoch 20; iter: 0; batch classifier loss: 0.132546\n",
      "epoch 21; iter: 0; batch classifier loss: 0.117145\n",
      "epoch 22; iter: 0; batch classifier loss: 0.174650\n",
      "epoch 23; iter: 0; batch classifier loss: 0.143935\n",
      "epoch 24; iter: 0; batch classifier loss: 0.160821\n",
      "epoch 25; iter: 0; batch classifier loss: 0.146002\n",
      "epoch 26; iter: 0; batch classifier loss: 0.139341\n",
      "epoch 27; iter: 0; batch classifier loss: 0.105374\n",
      "epoch 28; iter: 0; batch classifier loss: 0.085729\n",
      "epoch 29; iter: 0; batch classifier loss: 0.101847\n",
      "epoch 30; iter: 0; batch classifier loss: 0.149267\n",
      "epoch 31; iter: 0; batch classifier loss: 0.080899\n",
      "epoch 32; iter: 0; batch classifier loss: 0.095757\n",
      "epoch 33; iter: 0; batch classifier loss: 0.165367\n",
      "epoch 34; iter: 0; batch classifier loss: 0.108734\n",
      "epoch 35; iter: 0; batch classifier loss: 0.128933\n",
      "epoch 36; iter: 0; batch classifier loss: 0.097160\n",
      "epoch 37; iter: 0; batch classifier loss: 0.089976\n",
      "epoch 38; iter: 0; batch classifier loss: 0.108360\n",
      "epoch 39; iter: 0; batch classifier loss: 0.129311\n",
      "epoch 40; iter: 0; batch classifier loss: 0.086017\n",
      "epoch 41; iter: 0; batch classifier loss: 0.063416\n",
      "epoch 42; iter: 0; batch classifier loss: 0.058515\n",
      "epoch 43; iter: 0; batch classifier loss: 0.112771\n",
      "epoch 44; iter: 0; batch classifier loss: 0.058491\n",
      "epoch 45; iter: 0; batch classifier loss: 0.102717\n",
      "epoch 46; iter: 0; batch classifier loss: 0.075679\n",
      "epoch 47; iter: 0; batch classifier loss: 0.085723\n",
      "epoch 48; iter: 0; batch classifier loss: 0.080337\n",
      "epoch 49; iter: 0; batch classifier loss: 0.060604\n",
      "Model finished in 0:00:17.345917 (hr:mn:sc)\n"
     ]
    }
   ],
   "source": [
    "sess = tf.compat.v1.Session()\n",
    "\n",
    "aif_adb_model = adversarial_debiasing.AdversarialDebiasing(privileged_groups = [{'LANGUAGE_ENGL': 1}], \n",
    "                                                           unprivileged_groups = [{'LANGUAGE_ENGL': 0}],\n",
    "                                                             scope_name='plain_classifier',\n",
    "                                                          debias=False,\n",
    "                                                          sess=sess)\n",
    "start_time = check_timer()\n",
    "aif_adb_model.fit(los_dataset)\n",
    "yhat_aifadb = aif_adb_model.predict(los_dataset)\n",
    "print(\"Model finished in\", check_timer(start_time))\n",
    " "
   ]
  },
  {
   "cell_type": "markdown",
   "metadata": {},
   "source": [
    "### Other AIF360 Fairness-Aware Options that are Not Yet Working"
   ]
  },
  {
   "cell_type": "code",
   "execution_count": 37,
   "metadata": {},
   "outputs": [],
   "source": [
    "from aif360.algorithms.inprocessing import meta_fair_classifier"
   ]
  },
  {
   "cell_type": "code",
   "execution_count": 38,
   "metadata": {},
   "outputs": [
    {
     "name": "stdout",
     "output_type": "stream",
     "text": [
      "meta_fair_classifier failed to converge in testing\n"
     ]
    }
   ],
   "source": [
    "\n",
    "aif_mfc_model = meta_fair_classifier.MetaFairClassifier(sensitive_attr='LANGUAGE_ENGL')\n",
    "#aif_mfc_model.fit(los_dataset)\n",
    "#yhat_aifmfc = aif_mfc_model.predict(los_dataset)\n",
    "print(\"meta_fair_classifier failed to converge in testing\")"
   ]
  },
  {
   "cell_type": "markdown",
   "metadata": {},
   "source": [
    "----\n",
    "# Part 2.3 - FairLearn Fairness-Aware  (In-Process) Models <a class=\"anchor\" id=\"part2.3\"></a>"
   ]
  },
  {
   "cell_type": "code",
   "execution_count": 39,
   "metadata": {},
   "outputs": [],
   "source": [
    "from fairlearn.reductions import GridSearch, ExponentiatedGradient\n",
    "from fairlearn.reductions import EqualizedOdds, DemographicParity "
   ]
  },
  {
   "cell_type": "markdown",
   "metadata": {},
   "source": [
    "### Fair GridSearch with LGBM"
   ]
  },
  {
   "cell_type": "code",
   "execution_count": 40,
   "metadata": {},
   "outputs": [
    {
     "name": "stdout",
     "output_type": "stream",
     "text": [
      "Model finished in 0:00:49.615768 (hr:mn:sc)\n",
      "\n",
      " Prediction Scores: \n",
      "               precision    recall  f1-score   support\n",
      "\n",
      " LOS <= mean       0.73      0.91      0.81      4531\n",
      "  LOS > mean       0.76      0.47      0.58      2873\n",
      "\n",
      "    accuracy                           0.74      7404\n",
      "   macro avg       0.74      0.69      0.69      7404\n",
      "weighted avg       0.74      0.74      0.72      7404\n",
      "\n"
     ]
    }
   ],
   "source": [
    "# Train GridSearch\n",
    "gs_lgb_model = GridSearch(lgb.LGBMClassifier(**lgb_params),\n",
    "                           constraints=EqualizedOdds(),\n",
    "                           grid_size=45)\n",
    "\n",
    "start_time = check_timer()\n",
    "gs_lgb_model.fit(X_train, y_train, sensitive_features=X_train['LANGUAGE_ENGL'])\n",
    "y_pred_gs_lgb = gs_lgb_model.predict(X_test)\n",
    "print(\"Model finished in\", check_timer(start_time))\n",
    "\n",
    "# display performance \n",
    "print(\"\\n\", \"Prediction Scores:\", \"\\n\", \n",
    "      sk_metric.classification_report(y_test, y_pred_gs_lgb, target_names=['LOS <= mean', 'LOS > mean']) )\n"
   ]
  },
  {
   "cell_type": "markdown",
   "metadata": {},
   "source": [
    "### Fair GridSearch  with XGBOOST"
   ]
  },
  {
   "cell_type": "code",
   "execution_count": 41,
   "metadata": {},
   "outputs": [
    {
     "name": "stdout",
     "output_type": "stream",
     "text": [
      "Frequent Kernel Failure when running GridSearch on XGBOOST\n"
     ]
    }
   ],
   "source": [
    "''' \n",
    "# Train GridSearch\n",
    "gs_xgb_model = GridSearch(XGBClassifier(**xgb_params),\n",
    "                   constraints=EqualizedOdds(),\n",
    "                   grid_size=45)\n",
    "\n",
    "start_time = check_timer()\n",
    "gs_xgb_model.fit(X_train, y_train, sensitive_features=X_train['LANGUAGE_ENGL'])\n",
    "y_pred_gs_xgb = gs_xgb_model.predict(X_test)\n",
    "print(\"Model finished in\", check_timer(start_time))\n",
    "\n",
    "# display performance \n",
    "print(\"\\n\", \"Prediction Scores:\", \"\\n\", \n",
    "      sk_metric.classification_report(y_test, y_pred_gs_xgb, target_names=['LOS <= mean', 'LOS > mean']) )\n",
    "'''\n",
    "print(\"Frequent Kernel Failure when running GridSearch on XGBOOST\")"
   ]
  },
  {
   "cell_type": "markdown",
   "metadata": {},
   "source": [
    "### Fair GridSearch on Random Forest"
   ]
  },
  {
   "cell_type": "code",
   "execution_count": 42,
   "metadata": {
    "scrolled": true
   },
   "outputs": [
    {
     "name": "stdout",
     "output_type": "stream",
     "text": [
      "Model finished in 1:28:48.973636 (hr:mn:sc)\n",
      "\n",
      " Prediction Scores: \n",
      "               precision    recall  f1-score   support\n",
      "\n",
      " LOS <= mean       0.77      0.90      0.83      4531\n",
      "  LOS > mean       0.78      0.57      0.66      2873\n",
      "\n",
      "    accuracy                           0.77      7404\n",
      "   macro avg       0.77      0.73      0.74      7404\n",
      "weighted avg       0.77      0.77      0.76      7404\n",
      "\n"
     ]
    }
   ],
   "source": [
    "# Train GridSearch\n",
    "gs_rfEO_model = GridSearch(RandomForestClassifier(**rf_params),\n",
    "                   constraints=EqualizedOdds(),\n",
    "                   grid_size=45)\n",
    "\n",
    "start_time = check_timer()\n",
    "gs_rfEO_model.fit(X_train, y_train, sensitive_features=X_train['LANGUAGE_ENGL'])\n",
    "y_pred_gs_rfEO = gs_rfEO_model.predict(X_test)\n",
    "print(\"Model finished in\", check_timer(start_time))\n",
    "\n",
    "# display performance \n",
    "print(\"\\n\", \"Prediction Scores:\", \"\\n\", \n",
    "      sk_metric.classification_report(y_test, y_pred_gs_rfEO, target_names=['LOS <= mean', 'LOS > mean']) )\n"
   ]
  },
  {
   "cell_type": "code",
   "execution_count": 43,
   "metadata": {},
   "outputs": [
    {
     "name": "stdout",
     "output_type": "stream",
     "text": [
      "Model finished in 1:28:26.676901 (hr:mn:sc)\n",
      "\n",
      " Prediction Scores: \n",
      "               precision    recall  f1-score   support\n",
      "\n",
      " LOS <= mean       0.75      0.89      0.81      4531\n",
      "  LOS > mean       0.76      0.52      0.62      2873\n",
      "\n",
      "    accuracy                           0.75      7404\n",
      "   macro avg       0.75      0.71      0.72      7404\n",
      "weighted avg       0.75      0.75      0.74      7404\n",
      "\n"
     ]
    }
   ],
   "source": [
    "# Train GridSearch\n",
    "gs_rfDP_model = GridSearch(RandomForestClassifier(**rf_params),\n",
    "                           constraints=DemographicParity(),\n",
    "                           grid_size=45)\n",
    "\n",
    "start_time = check_timer()\n",
    "gs_rfDP_model.fit(X_train, y_train, sensitive_features=X_train['LANGUAGE_ENGL'])\n",
    "y_pred_gs_rfDP = gs_rfDP_model.predict(X_test)\n",
    "print(\"Model finished in\", check_timer(start_time))\n",
    "\n",
    "# display performance \n",
    "print(\"\\n\", \"Prediction Scores:\", \"\\n\", \n",
    "      sk_metric.classification_report(y_test, y_pred_gs_rfDP, target_names=['LOS <= mean', 'LOS > mean']) )\n"
   ]
  },
  {
   "cell_type": "markdown",
   "metadata": {},
   "source": [
    "### Exponentiated Gradient\n"
   ]
  },
  {
   "cell_type": "code",
   "execution_count": null,
   "metadata": {},
   "outputs": [],
   "source": [
    "eg_lgb_model = ExponentiatedGradient(lgb.LGBMClassifier(**lgb_params), \n",
    "                                     constraints=DemographicParity())\n",
    "eg_lgb_model.fit(X_train, y_train, sensitive_features=X_train['LANGUAGE_ENGL'])\n",
    "y_pred_eg_lgb = eg_lgb_model.predict(X_test)\n",
    "\n",
    "# display performance \n",
    "print(\"\\n\", \"Prediction Scores:\", \"\\n\", \n",
    "      sk_metric.classification_report(y_test, y_pred_eg_lgb, target_names=['LOS <= mean', 'LOS > mean']) )\n"
   ]
  },
  {
   "cell_type": "code",
   "execution_count": null,
   "metadata": {},
   "outputs": [],
   "source": [
    "eg_rf_model = ExponentiatedGradient(RandomForestClassifier(**rf_params), \n",
    "                                    constraints=DemographicParity())  #NOTE: this may alter the model; TODO: test to determine if this is true\n",
    "eg_rf_model.fit(X_train, y_train, sensitive_features=X_train['LANGUAGE_ENGL'])\n",
    "y_pred_eg_rf = eg_rf_model.predict(X_test)\n",
    "\n",
    "# display performance \n",
    "print(\"\\n\", \"Prediction Scores:\", \"\\n\", \n",
    "      sk_metric.classification_report(y_test, y_pred_eg_rf, target_names=['LOS <= mean', 'LOS > mean']) )\n"
   ]
  },
  {
   "cell_type": "markdown",
   "metadata": {},
   "source": [
    "----\n",
    "# Part 2.4 - Other Methods <a class=\"anchor\" id=\"part2.4\"></a>"
   ]
  },
  {
   "cell_type": "markdown",
   "metadata": {},
   "source": [
    "## Empirical Risk Minimization (Fair_ERM)"
   ]
  },
  {
   "cell_type": "markdown",
   "metadata": {},
   "source": [
    "### Linear FERM\n",
    "\n",
    "Code taken from https://github.com/jmikko/fair_ERM/blob/master/linear_ferm.py"
   ]
  },
  {
   "cell_type": "code",
   "execution_count": null,
   "metadata": {},
   "outputs": [],
   "source": [
    "class Linear_FERM:\n",
    "    \"\"\" Fairness-Aware Classifier from https://github.com/jmikko/fair_ERM/blob/master/linear_ferm.py\n",
    "    \"\"\"\n",
    "    # The linear FERM algorithm\n",
    "    def __init__(self, dataset, model, sensible_feature):\n",
    "        self.dataset = dataset\n",
    "        self.values_of_sensible_feature = list(set(sensible_feature))\n",
    "        self.list_of_sensible_feature_train = sensible_feature\n",
    "        self.val0 = np.min(self.values_of_sensible_feature)\n",
    "        self.val1 = np.max(self.values_of_sensible_feature)\n",
    "        self.model = model\n",
    "        self.u = None\n",
    "        self.max_i = None\n",
    "\n",
    "    def new_representation(self, examples):\n",
    "        if self.u is None:\n",
    "            sys.exit('Model not trained yet!')\n",
    "            return 0\n",
    "\n",
    "        new_examples = np.array([ex - self.u * (ex[self.max_i] / self.u[self.max_i]) for ex in examples])\n",
    "        new_examples = np.delete(new_examples, self.max_i, 1)\n",
    "        return new_examples\n",
    "\n",
    "    def predict(self, examples):\n",
    "        new_examples = self.new_representation(examples)\n",
    "        prediction = self.model.predict(new_examples)\n",
    "        return prediction\n",
    "\n",
    "    def fit(self):\n",
    "        # Evaluation of the empirical averages among the groups\n",
    "        tmp = [ex for idx, ex in enumerate(self.dataset.data)\n",
    "               if self.dataset.target[idx] == 1 and self.list_of_sensible_feature_train[idx] == self.val1]\n",
    "        average_A_1 = np.mean(tmp, 0)\n",
    "        tmp = [ex for idx, ex in enumerate(self.dataset.data)\n",
    "               if self.dataset.target[idx] == 1 and self.list_of_sensible_feature_train[idx] == self.val0]\n",
    "        average_not_A_1 = np.mean(tmp, 0)\n",
    "\n",
    "        # Evaluation of the vector u (difference among the two averages)\n",
    "        self.u = -(average_A_1 - average_not_A_1)\n",
    "        self.max_i = np.argmax(self.u)\n",
    "\n",
    "        # Application of the new representation\n",
    "        newdata = np.array([ex - self.u * (ex[self.max_i] / self.u[self.max_i]) for ex in self.dataset.data])\n",
    "        newdata = np.delete(newdata, self.max_i, 1)\n",
    "        self.dataset = namedtuple('_', 'data, target')(newdata, self.dataset.target)\n",
    "\n",
    "        # Fitting the linear model by using the new data\n",
    "        if self.model:\n",
    "            self.model.fit(self.dataset.data, self.dataset.target)"
   ]
  },
  {
   "cell_type": "code",
   "execution_count": null,
   "metadata": {},
   "outputs": [],
   "source": [
    "from collections import namedtuple\n",
    "import copy\n",
    "\n",
    "\n",
    "train_dataset = namedtuple('_', 'data, target')(X_train.to_numpy(), y_train.to_numpy())\n",
    "test_dataset = namedtuple('_', 'data, target')(X_test.to_numpy(), y_test.to_numpy())\n",
    "\n",
    "# predictor must be trained (or otherwise have attribute 'estimators_'); predictor may be altered by the fit process (TODO: check this)\n",
    "lr_predictor = copy.deepcopy(lr_model)\n",
    "ermL_lr_model = Linear_FERM(train_dataset, lr_predictor, X_train['LANGUAGE_ENGL'].to_numpy())  \n",
    "ermL_lr_model.fit()\n",
    "y_pred_ermL_lr = ermL_lr_model.predict(test_dataset.data)\n",
    "\n",
    "# display performance \n",
    "print(\"\\n\", \"Prediction Scores:\", \"\\n\", \n",
    "      sk_metric.classification_report(y_test, y_pred_ermL_lr, target_names=['LOS <= mean', 'LOS > mean']) )\n"
   ]
  },
  {
   "cell_type": "code",
   "execution_count": null,
   "metadata": {},
   "outputs": [],
   "source": [
    "\n",
    "# predictor must be trained (or otherwise have attribute 'estimators_'); predictor may be altered by the fit process (TODO: check this)\n",
    "svm_predictor = copy.deepcopy(svm_model)\n",
    "ermL_svm_model = Linear_FERM(train_dataset, svm_predictor, X_train['LANGUAGE_ENGL'].to_numpy())  \n",
    "ermL_svm_model.fit()\n",
    "y_pred_ermL_svm = ermL_svm_model.predict(test_dataset.data)\n",
    "\n",
    "# display performance \n",
    "print(\"\\n\", \"Prediction Scores:\", \"\\n\", \n",
    "      sk_metric.classification_report(y_test, y_pred_ermL_svm, target_names=['LOS <= mean', 'LOS > mean']) )"
   ]
  },
  {
   "cell_type": "markdown",
   "metadata": {},
   "source": [
    "### Non-Linear FERM\n",
    "\n",
    "Code taken from https://github.com/jmikko/fair_ERM/blob/master/ferm.py"
   ]
  },
  {
   "cell_type": "code",
   "execution_count": null,
   "metadata": {},
   "outputs": [],
   "source": [
    "from load_data import load_adult\n",
    "from sklearn import svm\n",
    "from sklearn.metrics import accuracy_score\n",
    "from measures import equalized_odds_measure_TP\n",
    "from sklearn.model_selection import GridSearchCV\n",
    "from cvxopt import matrix\n",
    "import numpy as np\n",
    "from numpy import linalg\n",
    "import cvxopt\n",
    "import cvxopt.solvers\n",
    "from sklearn.base import BaseEstimator\n",
    "from sklearn.metrics.pairwise import rbf_kernel\n",
    "\n",
    "\n",
    "# Definition of different kernels\n",
    "def linear_kernel(x1, x2):\n",
    "    return np.dot(x1, np.transpose(x2))\n",
    "\n",
    "def gaussian_kernel(x, y, gamma=0.1):\n",
    "    return np.exp(-gamma * (linalg.norm(x - y)**2))\n",
    "\n",
    "\n",
    "class FERM(BaseEstimator):\n",
    "    # FERM algorithm\n",
    "    def __init__(self, kernel='rbf', C=1.0, sensible_feature=None, gamma=1.0):\n",
    "        self.kernel = kernel\n",
    "        self.C = C\n",
    "        self.fairness = False if sensible_feature is None else True\n",
    "        self.sensible_feature = sensible_feature\n",
    "        self.gamma = gamma\n",
    "        self.w = None\n",
    "\n",
    "    def fit(self, X, y):\n",
    "        if self.kernel == 'rbf':\n",
    "            self.fkernel = lambda x, y: rbf_kernel(x, y, self.gamma)\n",
    "        elif self.kernel == 'linear':\n",
    "            self.fkernel = linear_kernel\n",
    "        else:\n",
    "            self.fkernel = linear_kernel\n",
    "\n",
    "        if self.fairness:\n",
    "            self.values_of_sensible_feature = list(set(self.sensible_feature))\n",
    "            self.list_of_sensible_feature_train = self.sensible_feature\n",
    "            self.val0 = np.min(self.values_of_sensible_feature)\n",
    "            self.val1 = np.max(self.values_of_sensible_feature)\n",
    "            self.set_A1 = [idx for idx, ex in enumerate(X) if y[idx] == 1\n",
    "                           and self.sensible_feature[idx] == self.val1]\n",
    "            self.set_not_A1 = [idx for idx, ex in enumerate(X) if y[idx] == 1\n",
    "                               and self.sensible_feature[idx] == self.val0]\n",
    "            # print('self.val0:', self.val0)\n",
    "            # print('self.val1:', self.val1)\n",
    "            # print('(y, self.sensible_feature):')\n",
    "            # for el in zip(y, self.sensible_feature):\n",
    "            #     print(el)\n",
    "            self.set_1 = [idx for idx, ex in enumerate(X) if y[idx] == 1]\n",
    "            self.n_A1 = len(self.set_A1)\n",
    "            self.n_not_A1 = len(self.set_not_A1)\n",
    "            self.n_1 = len(self.set_1)\n",
    "\n",
    "        n_samples, n_features = X.shape\n",
    "\n",
    "        # Gram matrix\n",
    "        K = self.fkernel(X, X)\n",
    "\n",
    "        P = cvxopt.matrix(np.outer(y, y) * K)\n",
    "        q = cvxopt.matrix(np.ones(n_samples) * -1)\n",
    "        # print(y)\n",
    "        A = cvxopt.matrix(y.astype(np.double), (1, n_samples), 'd')\n",
    "        b = cvxopt.matrix(0.0)\n",
    "\n",
    "        if self.C is None:\n",
    "            G = cvxopt.matrix(np.diag(np.ones(n_samples) * -1))\n",
    "            h = cvxopt.matrix(np.zeros(n_samples))\n",
    "        else:\n",
    "            tmp1 = np.diag(np.ones(n_samples) * -1)\n",
    "            tmp2 = np.identity(n_samples)\n",
    "            G = cvxopt.matrix(np.vstack((tmp1, tmp2)))\n",
    "            tmp1 = np.zeros(n_samples)\n",
    "            tmp2 = np.ones(n_samples) * self.C\n",
    "            h = cvxopt.matrix(np.hstack((tmp1, tmp2)))\n",
    "\n",
    "        # Stack the fairness constraint\n",
    "        if self.fairness:\n",
    "            tau = [(np.sum(K[self.set_A1, idx]) / self.n_A1) - (np.sum(K[self.set_not_A1, idx]) / self.n_not_A1)\n",
    "                   for idx in range(len(y))]\n",
    "            # print('self.n_A1:', self.n_A1)\n",
    "            # print('self.n_not_A1:', self.n_not_A1)\n",
    "            # print('tau:', tau)\n",
    "            fairness_line = matrix(y * tau, (1, n_samples), 'd')\n",
    "            A = cvxopt.matrix(np.vstack([A, fairness_line]))\n",
    "            b = cvxopt.matrix([0.0, 0.0])\n",
    "\n",
    "        # solve QP problem\n",
    "        cvxopt.solvers.options['show_progress'] = False\n",
    "        # print('A:', A)\n",
    "        # print('Rank(A):', np.linalg.matrix_rank(A))\n",
    "        # print('Rank([P; A; G])', np.linalg.matrix_rank(np.vstack([P, A, G])))\n",
    "        solution = cvxopt.solvers.qp(P, q, G, h, A, b)\n",
    "\n",
    "        # Lagrange multipliers\n",
    "        a = np.ravel(solution['x'])\n",
    "\n",
    "        # Support vectors have non zero lagrange multipliers\n",
    "        sv = a > 1e-7\n",
    "        ind = np.arange(len(a))[sv]\n",
    "        self.a = a[sv]\n",
    "        self.sv = X[sv]\n",
    "        self.sv_y = y[sv]\n",
    "        # print(\"%d support vectors out of %d points\" % (len(self.a), n_samples))\n",
    "\n",
    "        # Intercept\n",
    "        self.b = 0\n",
    "        for n in range(len(self.a)):\n",
    "            self.b += self.sv_y[n]\n",
    "            self.b -= np.sum(self.a * self.sv_y * K[ind[n], sv])\n",
    "        self.b /= len(self.a)\n",
    "\n",
    "        # Weight vector\n",
    "        if self.kernel == linear_kernel:\n",
    "            self.w = np.zeros(n_features)\n",
    "            for n in range(len(self.a)):\n",
    "                self.w += self.a[n] * self.sv_y[n] * self.sv[n]\n",
    "        else:\n",
    "            self.w = None\n",
    "\n",
    "    def project(self, X):\n",
    "        if self.w is not None:\n",
    "            return np.dot(X, self.w) + self.b\n",
    "        else:\n",
    "            XSV = self.fkernel(X, self.sv)\n",
    "            a_sv_y = np.multiply(self.a, self.sv_y)\n",
    "            y_predict = [np.sum(np.multiply(np.multiply(self.a, self.sv_y), XSV[i, :])) for i in range(len(X))]\n",
    "\n",
    "            return y_predict + self.b\n",
    "\n",
    "    def decision_function(self, X):\n",
    "        return self.project(X)\n",
    "\n",
    "    def predict(self, X):\n",
    "        return np.sign(self.project(X))\n",
    "\n",
    "    def score(self, X_test, y_test):\n",
    "        predict = self.predict(X_test)\n",
    "        acc = accuracy_score(y_test, predict)\n",
    "        return acc"
   ]
  },
  {
   "cell_type": "code",
   "execution_count": null,
   "metadata": {},
   "outputs": [],
   "source": [
    "param_grid = [{'C': [0.1, 1, 10.0], 'gamma': [0.1, 0.01], 'kernel': ['rbf']} ]\n",
    "\n",
    "# predictor must be trained (or otherwise have attribute 'estimators_'); predictor may be altered by the fit process (TODO: check this)\n",
    "svm_predictor = copy.deepcopy(svm_model)\n",
    "\n",
    "algorithm = FERM(sensible_feature=train_dataset.data[:, sensible_feature])\n",
    "clf = GridSearchCV(algorithm, param_grid, n_jobs=1)\n",
    "clf.fit(dataset_train.data, dataset_train.target)\n",
    "print('Best Fair Estimator:', clf.best_estimator_)\n",
    "\n",
    "# Accuracy and Fairness\n",
    "y_predict = clf.predict(dataset_test.data)\n",
    "pred = clf.predict(dataset_test.data)\n",
    "pred_train = clf.predict(dataset_train.data)"
   ]
  },
  {
   "cell_type": "markdown",
   "metadata": {},
   "source": [
    "----\n",
    "# Part 3 - Comparing Models <a class=\"anchor\" id=\"part3\"></a>"
   ]
  },
  {
   "cell_type": "markdown",
   "metadata": {},
   "source": [
    "Below we'll generate a set of dictionaries that will allow us to view our models in meaningful groups"
   ]
  },
  {
   "cell_type": "code",
   "execution_count": 27,
   "metadata": {},
   "outputs": [],
   "source": [
    "common_models = {'naive_bayes_model':nb_model, 'decision_tree_model':dt_model}\n"
   ]
  },
  {
   "cell_type": "code",
   "execution_count": 26,
   "metadata": {},
   "outputs": [
    {
     "ename": "NameError",
     "evalue": "name 'ermL_lr_model' is not defined",
     "output_type": "error",
     "traceback": [
      "\u001b[0;31m---------------------------------------------------------------------------\u001b[0m",
      "\u001b[0;31mNameError\u001b[0m                                 Traceback (most recent call last)",
      "\u001b[0;32m<ipython-input-26-404cc7a73a30>\u001b[0m in \u001b[0;36m<module>\u001b[0;34m\u001b[0m\n\u001b[1;32m      1\u001b[0m \u001b[0;31m#\u001b[0m\u001b[0;34m\u001b[0m\u001b[0;34m\u001b[0m\u001b[0;34m\u001b[0m\u001b[0m\n\u001b[1;32m      2\u001b[0m \u001b[0mcommon_models\u001b[0m \u001b[0;34m=\u001b[0m \u001b[0;34m{\u001b[0m\u001b[0;34m'naive_bayes_model'\u001b[0m\u001b[0;34m:\u001b[0m\u001b[0mnb_model\u001b[0m\u001b[0;34m,\u001b[0m \u001b[0;34m'decision_tree_model'\u001b[0m\u001b[0;34m:\u001b[0m\u001b[0mdt_model\u001b[0m\u001b[0;34m}\u001b[0m\u001b[0;34m\u001b[0m\u001b[0;34m\u001b[0m\u001b[0m\n\u001b[0;32m----> 3\u001b[0;31m \u001b[0mlinear_models\u001b[0m \u001b[0;34m=\u001b[0m \u001b[0;34m{\u001b[0m\u001b[0;34m'lr_model'\u001b[0m\u001b[0;34m:\u001b[0m\u001b[0mlr_model\u001b[0m\u001b[0;34m,\u001b[0m \u001b[0;34m'ermL_lr_model'\u001b[0m\u001b[0;34m:\u001b[0m\u001b[0mermL_lr_model\u001b[0m\u001b[0;34m,\u001b[0m \u001b[0;34m'svm_model'\u001b[0m\u001b[0;34m:\u001b[0m\u001b[0msvm_model\u001b[0m\u001b[0;34m,\u001b[0m \u001b[0;34m'ermL_svm_model'\u001b[0m\u001b[0;34m:\u001b[0m\u001b[0mermL_svm_model\u001b[0m\u001b[0;34m}\u001b[0m\u001b[0;34m\u001b[0m\u001b[0;34m\u001b[0m\u001b[0m\n\u001b[0m\u001b[1;32m      4\u001b[0m \u001b[0mboosted_models\u001b[0m \u001b[0;34m=\u001b[0m \u001b[0;34m{\u001b[0m\u001b[0;34m'xgboost_model'\u001b[0m\u001b[0;34m:\u001b[0m\u001b[0mxgb_model\u001b[0m\u001b[0;34m,\u001b[0m \u001b[0;34m'gs_xgb_model'\u001b[0m\u001b[0;34m:\u001b[0m\u001b[0mgs_xgb_model\u001b[0m\u001b[0;34m,\u001b[0m \u001b[0;34m'lgbm_model'\u001b[0m\u001b[0;34m:\u001b[0m\u001b[0mlgb_model\u001b[0m\u001b[0;34m,\u001b[0m \u001b[0;34m'gs_lgbm_model'\u001b[0m\u001b[0;34m:\u001b[0m\u001b[0mgs_lgb_model\u001b[0m\u001b[0;34m}\u001b[0m\u001b[0;34m\u001b[0m\u001b[0;34m\u001b[0m\u001b[0m\n\u001b[1;32m      5\u001b[0m \u001b[0;31m#rf_models ={'rf_model':rf_model, 'gs_rfEO_model':gs_rfEO_model, 'gs_rfDP_model':gs_rfDP_model, 'eg_rf_model':eg_rf_model, 'ermL_rf_model':ermL_rf_model}\u001b[0m\u001b[0;34m\u001b[0m\u001b[0;34m\u001b[0m\u001b[0;34m\u001b[0m\u001b[0m\n",
      "\u001b[0;31mNameError\u001b[0m: name 'ermL_lr_model' is not defined"
     ]
    }
   ],
   "source": [
    "#\n",
    "common_models = {'naive_bayes_model':nb_model, 'decision_tree_model':dt_model}\n",
    "linear_models = {'lr_model':lr_model, 'ermL_lr_model':ermL_lr_model, 'svm_model':svm_model, 'ermL_svm_model':ermL_svm_model}\n",
    "boosted_models = {'xgboost_model':xgb_model, 'gs_xgb_model':gs_xgb_model, 'lgbm_model':lgb_model, 'gs_lgbm_model':gs_lgb_model}\n",
    "#rf_models ={'rf_model':rf_model, 'gs_rfEO_model':gs_rfEO_model, 'gs_rfDP_model':gs_rfDP_model, 'eg_rf_model':eg_rf_model, 'ermL_rf_model':ermL_rf_model}"
   ]
  },
  {
   "cell_type": "markdown",
   "metadata": {},
   "source": [
    "## Comparison with the FairMLHealth Tool"
   ]
  },
  {
   "cell_type": "code",
   "execution_count": 28,
   "metadata": {},
   "outputs": [],
   "source": [
    "com_comp = fhmc.compare_models(X_test, y_test, X_test['LANGUAGE_ENGL'], common_models)\n"
   ]
  },
  {
   "cell_type": "code",
   "execution_count": null,
   "metadata": {},
   "outputs": [],
   "source": [
    "lin_comp = fhmc.compare_models(X_test, y_test, X_test['LANGUAGE_ENGL'], linear_models)\n",
    "\n",
    "fhmc.flag_suspicous(lin_comp)"
   ]
  },
  {
   "cell_type": "code",
   "execution_count": null,
   "metadata": {},
   "outputs": [],
   "source": [
    "aif_dataset_measures(dataset=los_dataset, \n",
    "                       models={'aif_gf_model':aif_gf_model, 'aif_prr_model':aif_prr_model}) #, 'aif_adb_model':aif_adb_model })\n"
   ]
  },
  {
   "cell_type": "code",
   "execution_count": null,
   "metadata": {},
   "outputs": [],
   "source": [
    "fhmc.compare_models(X_test, y_test, X_test['LANGUAGE_ENGL'], boosted_models) "
   ]
  },
  {
   "cell_type": "code",
   "execution_count": null,
   "metadata": {},
   "outputs": [],
   "source": [
    "fhmc.compare_models(X_test, y_test, X_test['LANGUAGE_ENGL'], rf_models)"
   ]
  },
  {
   "cell_type": "markdown",
   "metadata": {},
   "source": [
    "## Comparison with the FairLearn Dashboard"
   ]
  },
  {
   "cell_type": "code",
   "execution_count": null,
   "metadata": {},
   "outputs": [],
   "source": [
    "# (Optional) View this model in Fairlearn's fairness dashboard, and see the disparities which appear:\n",
    "from fairlearn.widget import FairlearnDashboard\n",
    "FairlearnDashboard(sensitive_features=X_test['LANGUAGE_ENGL'].to_list(), \n",
    "                   sensitive_feature_names=['LANGUAGE_ENGL'],\n",
    "                   y_true=y_test.iloc[:,0].to_list(),\n",
    "                   y_pred={k:model.predict(X_test) for k,model in common_models.items()}\n",
    "                    )"
   ]
  },
  {
   "cell_type": "markdown",
   "metadata": {},
   "source": [
    "----\n",
    "# Part 4 - Save Results <a class=\"anchor\" id=\"part4\"></a>"
   ]
  },
  {
   "cell_type": "code",
   "execution_count": null,
   "metadata": {},
   "outputs": [],
   "source": [
    "from joblib import dump"
   ]
  },
  {
   "cell_type": "code",
   "execution_count": null,
   "metadata": {},
   "outputs": [],
   "source": [
    "output_models = rf_models\n",
    "\n",
    "packet = fhmc.fairCompare(test_data=X_test, target_data=y_test, models=models, train_data=train_data)\n",
    "if not os.path.exists(os.path.dirname(output_file)):\n",
    "        os.makedirs(output_file)\n",
    "#dump(packet, output_file)"
   ]
  },
  {
   "cell_type": "code",
   "execution_count": null,
   "metadata": {},
   "outputs": [],
   "source": []
  }
 ],
 "metadata": {
  "kernelspec": {
   "display_name": "Python 3",
   "language": "python",
   "name": "python3"
  },
  "language_info": {
   "codemirror_mode": {
    "name": "ipython",
    "version": 3
   },
   "file_extension": ".py",
   "mimetype": "text/x-python",
   "name": "python",
   "nbconvert_exporter": "python",
   "pygments_lexer": "ipython3",
   "version": "3.7.8"
  }
 },
 "nbformat": 4,
 "nbformat_minor": 4
}

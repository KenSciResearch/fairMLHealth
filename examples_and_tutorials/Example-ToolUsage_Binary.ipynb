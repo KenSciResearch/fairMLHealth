{
 "cells": [
  {
   "cell_type": "markdown",
   "metadata": {},
   "source": [
    "## About\n",
    "This notebook contains simple, toy examples to help you get started with FairMLHealth tool usage. This same content is mirrored in the repository's main [README](../README.md)."
   ]
  },
  {
   "cell_type": "markdown",
   "metadata": {},
   "source": [
    "## Example Setup"
   ]
  },
  {
   "cell_type": "code",
   "execution_count": 1,
   "metadata": {},
   "outputs": [],
   "source": [
    "from fairmlhealth import report, measure, stat_utils\n",
    "\n",
    "import numpy as np\n",
    "import pandas as pd\n",
    "from sklearn.model_selection import train_test_split\n",
    "from sklearn.naive_bayes import BernoulliNB\n",
    "from sklearn.tree import DecisionTreeClassifier\n"
   ]
  },
  {
   "cell_type": "code",
   "execution_count": 2,
   "metadata": {},
   "outputs": [],
   "source": [
    "# First we'll create a semi-randomized dataframe with specific columns for our attributes of interest\n",
    "np.random.seed(506)\n",
    "N = 240\n",
    "X = pd.DataFrame({'col1': np.random.randint(1, 4, N), \n",
    "                  'col2': np.random.randint(1, 75, N),\n",
    "                  'col3': np.random.randint(0, 2, N),\n",
    "                  'gender': [0, 1]*int(N/2), \n",
    "                  'ethnicity': [1, 1, 0, 0]*int(N/4),\n",
    "                  'other': [1, 0, 0, 0, 1, 0, 0, 1]*int(N/8)\n",
    "                 })\n",
    "\n",
    "# Next we'll create a randomized target value\n",
    "y = pd.Series(X['col3'].values + np.random.randint(0, 2, N), name='Example_Target').clip(upper=1)\n",
    "\n",
    "# Third, we'll split the data and use it to train two generic models\n",
    "splits = train_test_split(X, y, stratify=y, test_size=0.5, random_state=60)\n",
    "X_train, X_test, y_train, y_test = splits\n",
    "\n",
    "model_1 = BernoulliNB().fit(X_train, y_train)\n",
    "model_2 = DecisionTreeClassifier().fit(X_train, y_train)\n",
    "\n"
   ]
  },
  {
   "cell_type": "code",
   "execution_count": 3,
   "metadata": {},
   "outputs": [
    {
     "data": {
      "text/html": [
       "<div>\n",
       "<style scoped>\n",
       "    .dataframe tbody tr th:only-of-type {\n",
       "        vertical-align: middle;\n",
       "    }\n",
       "\n",
       "    .dataframe tbody tr th {\n",
       "        vertical-align: top;\n",
       "    }\n",
       "\n",
       "    .dataframe thead th {\n",
       "        text-align: right;\n",
       "    }\n",
       "</style>\n",
       "<table border=\"1\" class=\"dataframe\">\n",
       "  <thead>\n",
       "    <tr style=\"text-align: right;\">\n",
       "      <th></th>\n",
       "      <th>col1</th>\n",
       "      <th>col2</th>\n",
       "      <th>col3</th>\n",
       "      <th>gender</th>\n",
       "      <th>ethnicity</th>\n",
       "      <th>other</th>\n",
       "    </tr>\n",
       "  </thead>\n",
       "  <tbody>\n",
       "    <tr>\n",
       "      <th>0</th>\n",
       "      <td>1</td>\n",
       "      <td>15</td>\n",
       "      <td>0</td>\n",
       "      <td>0</td>\n",
       "      <td>1</td>\n",
       "      <td>1</td>\n",
       "    </tr>\n",
       "    <tr>\n",
       "      <th>1</th>\n",
       "      <td>3</td>\n",
       "      <td>51</td>\n",
       "      <td>1</td>\n",
       "      <td>1</td>\n",
       "      <td>1</td>\n",
       "      <td>0</td>\n",
       "    </tr>\n",
       "    <tr>\n",
       "      <th>2</th>\n",
       "      <td>1</td>\n",
       "      <td>30</td>\n",
       "      <td>1</td>\n",
       "      <td>0</td>\n",
       "      <td>0</td>\n",
       "      <td>0</td>\n",
       "    </tr>\n",
       "    <tr>\n",
       "      <th>3</th>\n",
       "      <td>2</td>\n",
       "      <td>28</td>\n",
       "      <td>1</td>\n",
       "      <td>1</td>\n",
       "      <td>0</td>\n",
       "      <td>0</td>\n",
       "    </tr>\n",
       "    <tr>\n",
       "      <th>4</th>\n",
       "      <td>1</td>\n",
       "      <td>72</td>\n",
       "      <td>0</td>\n",
       "      <td>0</td>\n",
       "      <td>1</td>\n",
       "      <td>1</td>\n",
       "    </tr>\n",
       "  </tbody>\n",
       "</table>\n",
       "</div>"
      ],
      "text/plain": [
       "   col1  col2  col3  gender  ethnicity  other\n",
       "0     1    15     0       0          1      1\n",
       "1     3    51     1       1          1      0\n",
       "2     1    30     1       0          0      0\n",
       "3     2    28     1       1          0      0\n",
       "4     1    72     0       0          1      1"
      ]
     },
     "metadata": {},
     "output_type": "display_data"
    },
    {
     "data": {
      "text/plain": [
       "0    0\n",
       "1    1\n",
       "2    1\n",
       "3    1\n",
       "4    1\n",
       "Name: Example_Target, dtype: int64"
      ]
     },
     "metadata": {},
     "output_type": "display_data"
    }
   ],
   "source": [
    "display(X.head(), y.head())"
   ]
  },
  {
   "cell_type": "markdown",
   "metadata": {},
   "source": [
    "## Generalized Reports\n",
    "fairMLHealth has tools to create generalized reports of model bias and performance.\n",
    "\n",
    "The primary reporting tool is now the **compare** function, which can be used to generate side-by-side comparisons for any number of models, and for either binary classifcation or for regression problems. Model performance metrics such as accuracy and precision (or MAE and RSquared for regression problems) are also provided to facilitate comparison. Below is an example output comparing the two example models defined above. Missing values have been added for metrics requiring prediction probabilities (which the second model does not have).\n",
    "\n",
    "A flagging protocol is applied by default to highlight any cells with values that are out of range.  This can be turned off by passing ***flag_oor = False*** to report.compare().\n",
    "\n",
    "*Note that the Equal Odds Ratio has been dropped from the example below*. This because the false positive rate is approximately zero for both the entire dataset and for the privileged class, leading to a zero in the denominator of the False Positive Rate Ratio: $\\frac{{FPR}_{unprivileged}}{{FPR}_{privileged}}$. The result is therefore undefined and cannot be compared in the Equal Odds Ratio. "
   ]
  },
  {
   "cell_type": "code",
   "execution_count": 4,
   "metadata": {
    "scrolled": false
   },
   "outputs": [
    {
     "name": "stderr",
     "output_type": "stream",
     "text": [
      "~/fairMLHealth/fairmlhealth/measure.py:703: UserWarning: The following measures are undefined and have been dropped: ['Equal Odds Ratio']\n",
      "  warn(f\"The following measures are undefined and have been dropped: {undefined}\")\n"
     ]
    },
    {
     "data": {
      "text/html": [
       "<style  type=\"text/css\" >\n",
       "#T_1acba_row0_col0,#T_1acba_row1_col0,#T_1acba_row2_col0{\n",
       "            background-color: #c2bae3;\n",
       "        }</style><table id=\"T_1acba_\" ><thead>    <tr>        <th class=\"blank\" ></th>        <th class=\"blank level0\" ></th>        <th class=\"col_heading level0 col0\" >model 1</th>    </tr>    <tr>        <th class=\"index_name level0\" >Metric</th>        <th class=\"index_name level1\" >Measure</th>        <th class=\"blank\" ></th>    </tr></thead><tbody>\n",
       "                <tr>\n",
       "                        <th id=\"T_1acba_level0_row0\" class=\"row_heading level0 row0\" rowspan=\"8\">Group Fairness</th>\n",
       "                        <th id=\"T_1acba_level1_row0\" class=\"row_heading level1 row0\" >Balanced Accuracy Difference</th>\n",
       "                        <td id=\"T_1acba_row0_col0\" class=\"data row0 col0\" >-0.3667</td>\n",
       "            </tr>\n",
       "            <tr>\n",
       "                                <th id=\"T_1acba_level1_row1\" class=\"row_heading level1 row1\" >Balanced Accuracy Ratio</th>\n",
       "                        <td id=\"T_1acba_row1_col0\" class=\"data row1 col0\" >0.5769</td>\n",
       "            </tr>\n",
       "            <tr>\n",
       "                                <th id=\"T_1acba_level1_row2\" class=\"row_heading level1 row2\" >Statistical Parity Difference</th>\n",
       "                        <td id=\"T_1acba_row2_col0\" class=\"data row2 col0\" >0.4500</td>\n",
       "            </tr>\n",
       "            <tr>\n",
       "                                <th id=\"T_1acba_level1_row3\" class=\"row_heading level1 row3\" >Disparate Impact Ratio</th>\n",
       "                        <td id=\"T_1acba_row3_col0\" class=\"data row3 col0\" >1.8182</td>\n",
       "            </tr>\n",
       "            <tr>\n",
       "                                <th id=\"T_1acba_level1_row4\" class=\"row_heading level1 row4\" >Positive Predictive Parity Difference</th>\n",
       "                        <td id=\"T_1acba_row4_col0\" class=\"data row4 col0\" >-0.2500</td>\n",
       "            </tr>\n",
       "            <tr>\n",
       "                                <th id=\"T_1acba_level1_row5\" class=\"row_heading level1 row5\" >Positive Predictive Parity Ratio</th>\n",
       "                        <td id=\"T_1acba_row5_col0\" class=\"data row5 col0\" >0.7500</td>\n",
       "            </tr>\n",
       "            <tr>\n",
       "                                <th id=\"T_1acba_level1_row6\" class=\"row_heading level1 row6\" >Equal Odds Difference</th>\n",
       "                        <td id=\"T_1acba_row6_col0\" class=\"data row6 col0\" >1.0000</td>\n",
       "            </tr>\n",
       "            <tr>\n",
       "                                <th id=\"T_1acba_level1_row7\" class=\"row_heading level1 row7\" >AUC Difference</th>\n",
       "                        <td id=\"T_1acba_row7_col0\" class=\"data row7 col0\" >-0.0778</td>\n",
       "            </tr>\n",
       "            <tr>\n",
       "                        <th id=\"T_1acba_level0_row8\" class=\"row_heading level0 row8\" rowspan=\"2\">Individual Fairness</th>\n",
       "                        <th id=\"T_1acba_level1_row8\" class=\"row_heading level1 row8\" >Consistency Score</th>\n",
       "                        <td id=\"T_1acba_row8_col0\" class=\"data row8 col0\" >0.7683</td>\n",
       "            </tr>\n",
       "            <tr>\n",
       "                                <th id=\"T_1acba_level1_row9\" class=\"row_heading level1 row9\" >Between-Group Gen. Entropy Error</th>\n",
       "                        <td id=\"T_1acba_row9_col0\" class=\"data row9 col0\" >0.0241</td>\n",
       "            </tr>\n",
       "            <tr>\n",
       "                        <th id=\"T_1acba_level0_row10\" class=\"row_heading level0 row10\" rowspan=\"6\">Model Performance</th>\n",
       "                        <th id=\"T_1acba_level1_row10\" class=\"row_heading level1 row10\" >Accuracy</th>\n",
       "                        <td id=\"T_1acba_row10_col0\" class=\"data row10 col0\" >1.0000</td>\n",
       "            </tr>\n",
       "            <tr>\n",
       "                                <th id=\"T_1acba_level1_row11\" class=\"row_heading level1 row11\" >FPR</th>\n",
       "                        <td id=\"T_1acba_row11_col0\" class=\"data row11 col0\" >0.0000</td>\n",
       "            </tr>\n",
       "            <tr>\n",
       "                                <th id=\"T_1acba_level1_row12\" class=\"row_heading level1 row12\" >F1-Score</th>\n",
       "                        <td id=\"T_1acba_row12_col0\" class=\"data row12 col0\" >1.0000</td>\n",
       "            </tr>\n",
       "            <tr>\n",
       "                                <th id=\"T_1acba_level1_row13\" class=\"row_heading level1 row13\" >Mean Example_Target</th>\n",
       "                        <td id=\"T_1acba_row13_col0\" class=\"data row13 col0\" >0.7750</td>\n",
       "            </tr>\n",
       "            <tr>\n",
       "                                <th id=\"T_1acba_level1_row14\" class=\"row_heading level1 row14\" >Precision</th>\n",
       "                        <td id=\"T_1acba_row14_col0\" class=\"data row14 col0\" >1.0000</td>\n",
       "            </tr>\n",
       "            <tr>\n",
       "                                <th id=\"T_1acba_level1_row15\" class=\"row_heading level1 row15\" >TPR</th>\n",
       "                        <td id=\"T_1acba_row15_col0\" class=\"data row15 col0\" >1.0000</td>\n",
       "            </tr>\n",
       "            <tr>\n",
       "                        <th id=\"T_1acba_level0_row16\" class=\"row_heading level0 row16\" >Data Metrics</th>\n",
       "                        <th id=\"T_1acba_level1_row16\" class=\"row_heading level1 row16\" >Prevalence of Privileged Class (%)</th>\n",
       "                        <td id=\"T_1acba_row16_col0\" class=\"data row16 col0\" >75.0000</td>\n",
       "            </tr>\n",
       "    </tbody></table>"
      ],
      "text/plain": [
       "<pandas.io.formats.style.Styler at 0x7fb01d0aaa60>"
      ]
     },
     "execution_count": 4,
     "metadata": {},
     "output_type": "execute_result"
    }
   ],
   "source": [
    "# Generate a measure report\n",
    "report.compare(X_test, y_test, X_test['ethnicity'], model_1, flag_oor=True)\n"
   ]
  },
  {
   "cell_type": "code",
   "execution_count": 5,
   "metadata": {},
   "outputs": [
    {
     "data": {
      "text/html": [
       "<style  type=\"text/css\" >\n",
       "</style><table id=\"T_bf36b_\" ><thead>    <tr>        <th class=\"blank\" ></th>        <th class=\"blank level0\" ></th>        <th class=\"col_heading level0 col0\" >model 1</th>    </tr>    <tr>        <th class=\"index_name level0\" >Metric</th>        <th class=\"index_name level1\" >Measure</th>        <th class=\"blank\" ></th>    </tr></thead><tbody>\n",
       "                <tr>\n",
       "                        <th id=\"T_bf36b_level0_row0\" class=\"row_heading level0 row0\" rowspan=\"9\">Group Fairness</th>\n",
       "                        <th id=\"T_bf36b_level1_row0\" class=\"row_heading level1 row0\" >Balanced Accuracy Difference</th>\n",
       "                        <td id=\"T_bf36b_row0_col0\" class=\"data row0 col0\" >0.0988</td>\n",
       "            </tr>\n",
       "            <tr>\n",
       "                                <th id=\"T_bf36b_level1_row1\" class=\"row_heading level1 row1\" >Equal Odds Ratio</th>\n",
       "                        <td id=\"T_bf36b_row1_col0\" class=\"data row1 col0\" >0.6691</td>\n",
       "            </tr>\n",
       "            <tr>\n",
       "                                <th id=\"T_bf36b_level1_row2\" class=\"row_heading level1 row2\" >Equal Odds Difference</th>\n",
       "                        <td id=\"T_bf36b_row2_col0\" class=\"data row2 col0\" >-0.2036</td>\n",
       "            </tr>\n",
       "            <tr>\n",
       "                                <th id=\"T_bf36b_level1_row3\" class=\"row_heading level1 row3\" >Positive Predictive Parity Ratio</th>\n",
       "                        <td id=\"T_bf36b_row3_col0\" class=\"data row3 col0\" >1.0133</td>\n",
       "            </tr>\n",
       "            <tr>\n",
       "                                <th id=\"T_bf36b_level1_row4\" class=\"row_heading level1 row4\" >AUC Difference</th>\n",
       "                        <td id=\"T_bf36b_row4_col0\" class=\"data row4 col0\" >-0.0250</td>\n",
       "            </tr>\n",
       "            <tr>\n",
       "                                <th id=\"T_bf36b_level1_row5\" class=\"row_heading level1 row5\" >Disparate Impact Ratio</th>\n",
       "                        <td id=\"T_bf36b_row5_col0\" class=\"data row5 col0\" >0.9068</td>\n",
       "            </tr>\n",
       "            <tr>\n",
       "                                <th id=\"T_bf36b_level1_row6\" class=\"row_heading level1 row6\" >Statistical Parity Difference</th>\n",
       "                        <td id=\"T_bf36b_row6_col0\" class=\"data row6 col0\" >-0.0759</td>\n",
       "            </tr>\n",
       "            <tr>\n",
       "                                <th id=\"T_bf36b_level1_row7\" class=\"row_heading level1 row7\" >Balanced Accuracy Ratio</th>\n",
       "                        <td id=\"T_bf36b_row7_col0\" class=\"data row7 col0\" >1.1576</td>\n",
       "            </tr>\n",
       "            <tr>\n",
       "                                <th id=\"T_bf36b_level1_row8\" class=\"row_heading level1 row8\" >Positive Predictive Parity Difference</th>\n",
       "                        <td id=\"T_bf36b_row8_col0\" class=\"data row8 col0\" >0.0111</td>\n",
       "            </tr>\n",
       "            <tr>\n",
       "                        <th id=\"T_bf36b_level0_row9\" class=\"row_heading level0 row9\" rowspan=\"2\">Individual Fairness</th>\n",
       "                        <th id=\"T_bf36b_level1_row9\" class=\"row_heading level1 row9\" >Consistency Score</th>\n",
       "                        <td id=\"T_bf36b_row9_col0\" class=\"data row9 col0\" >0.7683</td>\n",
       "            </tr>\n",
       "            <tr>\n",
       "                                <th id=\"T_bf36b_level1_row10\" class=\"row_heading level1 row10\" >Between-Group Gen. Entropy Error</th>\n",
       "                        <td id=\"T_bf36b_row10_col0\" class=\"data row10 col0\" >0.0000</td>\n",
       "            </tr>\n",
       "            <tr>\n",
       "                        <th id=\"T_bf36b_level0_row11\" class=\"row_heading level0 row11\" rowspan=\"6\">Model Performance</th>\n",
       "                        <th id=\"T_bf36b_level1_row11\" class=\"row_heading level1 row11\" >Precision</th>\n",
       "                        <td id=\"T_bf36b_row11_col0\" class=\"data row11 col0\" >1.0000</td>\n",
       "            </tr>\n",
       "            <tr>\n",
       "                                <th id=\"T_bf36b_level1_row12\" class=\"row_heading level1 row12\" >Mean Example_Target</th>\n",
       "                        <td id=\"T_bf36b_row12_col0\" class=\"data row12 col0\" >0.7750</td>\n",
       "            </tr>\n",
       "            <tr>\n",
       "                                <th id=\"T_bf36b_level1_row13\" class=\"row_heading level1 row13\" >TPR</th>\n",
       "                        <td id=\"T_bf36b_row13_col0\" class=\"data row13 col0\" >1.0000</td>\n",
       "            </tr>\n",
       "            <tr>\n",
       "                                <th id=\"T_bf36b_level1_row14\" class=\"row_heading level1 row14\" >FPR</th>\n",
       "                        <td id=\"T_bf36b_row14_col0\" class=\"data row14 col0\" >0.0000</td>\n",
       "            </tr>\n",
       "            <tr>\n",
       "                                <th id=\"T_bf36b_level1_row15\" class=\"row_heading level1 row15\" >Accuracy</th>\n",
       "                        <td id=\"T_bf36b_row15_col0\" class=\"data row15 col0\" >1.0000</td>\n",
       "            </tr>\n",
       "            <tr>\n",
       "                                <th id=\"T_bf36b_level1_row16\" class=\"row_heading level1 row16\" >F1-Score</th>\n",
       "                        <td id=\"T_bf36b_row16_col0\" class=\"data row16 col0\" >1.0000</td>\n",
       "            </tr>\n",
       "            <tr>\n",
       "                        <th id=\"T_bf36b_level0_row17\" class=\"row_heading level0 row17\" >Data Metrics</th>\n",
       "                        <th id=\"T_bf36b_level1_row17\" class=\"row_heading level1 row17\" >Prevalence of Privileged Class (%)</th>\n",
       "                        <td id=\"T_bf36b_row17_col0\" class=\"data row17 col0\" >75.0000</td>\n",
       "            </tr>\n",
       "    </tbody></table>"
      ],
      "text/plain": [
       "<IPython.core.display.HTML object>"
      ]
     },
     "execution_count": 5,
     "metadata": {},
     "output_type": "execute_result"
    }
   ],
   "source": [
    "# Return the report as embedded html\n",
    "from IPython.core.display import HTML\n",
    "html_output = report.compare(X_test, y_test, X_test['gender'], model_1, pred_type=\"classification\", output_type=\"html\")\n",
    "HTML(html_output)"
   ]
  },
  {
   "cell_type": "markdown",
   "metadata": {},
   "source": [
    "### Comparing Results for Multiple Models\n",
    "\n",
    "The **compare** tool can also be used to measure two different models or two different protected attributes. Protected attributes are measured separately and cannot yet be combined together with the **compare** tool, although they can be grouped as cohorts in the stratified tables [as shown below](#cohort). \n",
    "\n",
    "Below is an example output comparing the two test models defined above. "
   ]
  },
  {
   "cell_type": "code",
   "execution_count": 7,
   "metadata": {},
   "outputs": [
    {
     "data": {
      "text/html": [
       "<style  type=\"text/css\" >\n",
       "#T_a8723_row6_col1{\n",
       "            background-color: #c2bae3;\n",
       "        }</style><table id=\"T_a8723_\" ><thead>    <tr>        <th class=\"blank\" ></th>        <th class=\"blank level0\" ></th>        <th class=\"col_heading level0 col0\" >model 1</th>        <th class=\"col_heading level0 col1\" >model 2</th>    </tr>    <tr>        <th class=\"index_name level0\" >Metric</th>        <th class=\"index_name level1\" >Measure</th>        <th class=\"blank\" ></th>        <th class=\"blank\" ></th>    </tr></thead><tbody>\n",
       "                <tr>\n",
       "                        <th id=\"T_a8723_level0_row0\" class=\"row_heading level0 row0\" rowspan=\"9\">Group Fairness</th>\n",
       "                        <th id=\"T_a8723_level1_row0\" class=\"row_heading level1 row0\" >Balanced Accuracy Difference</th>\n",
       "                        <td id=\"T_a8723_row0_col0\" class=\"data row0 col0\" >0.0988</td>\n",
       "                        <td id=\"T_a8723_row0_col1\" class=\"data row0 col1\" >0.0054</td>\n",
       "            </tr>\n",
       "            <tr>\n",
       "                                <th id=\"T_a8723_level1_row1\" class=\"row_heading level1 row1\" >Equal Odds Ratio</th>\n",
       "                        <td id=\"T_a8723_row1_col0\" class=\"data row1 col0\" >0.6691</td>\n",
       "                        <td id=\"T_a8723_row1_col1\" class=\"data row1 col1\" >0.7647</td>\n",
       "            </tr>\n",
       "            <tr>\n",
       "                                <th id=\"T_a8723_level1_row2\" class=\"row_heading level1 row2\" >Equal Odds Difference</th>\n",
       "                        <td id=\"T_a8723_row2_col0\" class=\"data row2 col0\" >-0.2036</td>\n",
       "                        <td id=\"T_a8723_row2_col1\" class=\"data row2 col1\" >-0.1086</td>\n",
       "            </tr>\n",
       "            <tr>\n",
       "                                <th id=\"T_a8723_level1_row3\" class=\"row_heading level1 row3\" >Positive Predictive Parity Ratio</th>\n",
       "                        <td id=\"T_a8723_row3_col0\" class=\"data row3 col0\" >1.0133</td>\n",
       "                        <td id=\"T_a8723_row3_col1\" class=\"data row3 col1\" >0.9763</td>\n",
       "            </tr>\n",
       "            <tr>\n",
       "                                <th id=\"T_a8723_level1_row4\" class=\"row_heading level1 row4\" >AUC Difference</th>\n",
       "                        <td id=\"T_a8723_row4_col0\" class=\"data row4 col0\" >-0.0250</td>\n",
       "                        <td id=\"T_a8723_row4_col1\" class=\"data row4 col1\" >-0.0020</td>\n",
       "            </tr>\n",
       "            <tr>\n",
       "                                <th id=\"T_a8723_level1_row5\" class=\"row_heading level1 row5\" >Disparate Impact Ratio</th>\n",
       "                        <td id=\"T_a8723_row5_col0\" class=\"data row5 col0\" >0.9068</td>\n",
       "                        <td id=\"T_a8723_row5_col1\" class=\"data row5 col1\" >0.8383</td>\n",
       "            </tr>\n",
       "            <tr>\n",
       "                                <th id=\"T_a8723_level1_row6\" class=\"row_heading level1 row6\" >Statistical Parity Difference</th>\n",
       "                        <td id=\"T_a8723_row6_col0\" class=\"data row6 col0\" >-0.0759</td>\n",
       "                        <td id=\"T_a8723_row6_col1\" class=\"data row6 col1\" >-0.1234</td>\n",
       "            </tr>\n",
       "            <tr>\n",
       "                                <th id=\"T_a8723_level1_row7\" class=\"row_heading level1 row7\" >Balanced Accuracy Ratio</th>\n",
       "                        <td id=\"T_a8723_row7_col0\" class=\"data row7 col0\" >1.1576</td>\n",
       "                        <td id=\"T_a8723_row7_col1\" class=\"data row7 col1\" >1.0078</td>\n",
       "            </tr>\n",
       "            <tr>\n",
       "                                <th id=\"T_a8723_level1_row8\" class=\"row_heading level1 row8\" >Positive Predictive Parity Difference</th>\n",
       "                        <td id=\"T_a8723_row8_col0\" class=\"data row8 col0\" >0.0111</td>\n",
       "                        <td id=\"T_a8723_row8_col1\" class=\"data row8 col1\" >-0.0205</td>\n",
       "            </tr>\n",
       "            <tr>\n",
       "                        <th id=\"T_a8723_level0_row9\" class=\"row_heading level0 row9\" rowspan=\"2\">Individual Fairness</th>\n",
       "                        <th id=\"T_a8723_level1_row9\" class=\"row_heading level1 row9\" >Consistency Score</th>\n",
       "                        <td id=\"T_a8723_row9_col0\" class=\"data row9 col0\" >0.7683</td>\n",
       "                        <td id=\"T_a8723_row9_col1\" class=\"data row9 col1\" >0.7267</td>\n",
       "            </tr>\n",
       "            <tr>\n",
       "                                <th id=\"T_a8723_level1_row10\" class=\"row_heading level1 row10\" >Between-Group Gen. Entropy Error</th>\n",
       "                        <td id=\"T_a8723_row10_col0\" class=\"data row10 col0\" >0.0000</td>\n",
       "                        <td id=\"T_a8723_row10_col1\" class=\"data row10 col1\" >0.0006</td>\n",
       "            </tr>\n",
       "            <tr>\n",
       "                        <th id=\"T_a8723_level0_row11\" class=\"row_heading level0 row11\" rowspan=\"6\">Model Performance</th>\n",
       "                        <th id=\"T_a8723_level1_row11\" class=\"row_heading level1 row11\" >Precision</th>\n",
       "                        <td id=\"T_a8723_row11_col0\" class=\"data row11 col0\" >1.0000</td>\n",
       "                        <td id=\"T_a8723_row11_col1\" class=\"data row11 col1\" >1.0000</td>\n",
       "            </tr>\n",
       "            <tr>\n",
       "                                <th id=\"T_a8723_level1_row12\" class=\"row_heading level1 row12\" >Mean Example_Target</th>\n",
       "                        <td id=\"T_a8723_row12_col0\" class=\"data row12 col0\" >0.7750</td>\n",
       "                        <td id=\"T_a8723_row12_col1\" class=\"data row12 col1\" >0.7000</td>\n",
       "            </tr>\n",
       "            <tr>\n",
       "                                <th id=\"T_a8723_level1_row13\" class=\"row_heading level1 row13\" >TPR</th>\n",
       "                        <td id=\"T_a8723_row13_col0\" class=\"data row13 col0\" >1.0000</td>\n",
       "                        <td id=\"T_a8723_row13_col1\" class=\"data row13 col1\" >1.0000</td>\n",
       "            </tr>\n",
       "            <tr>\n",
       "                                <th id=\"T_a8723_level1_row14\" class=\"row_heading level1 row14\" >FPR</th>\n",
       "                        <td id=\"T_a8723_row14_col0\" class=\"data row14 col0\" >0.0000</td>\n",
       "                        <td id=\"T_a8723_row14_col1\" class=\"data row14 col1\" >0.0000</td>\n",
       "            </tr>\n",
       "            <tr>\n",
       "                                <th id=\"T_a8723_level1_row15\" class=\"row_heading level1 row15\" >Accuracy</th>\n",
       "                        <td id=\"T_a8723_row15_col0\" class=\"data row15 col0\" >1.0000</td>\n",
       "                        <td id=\"T_a8723_row15_col1\" class=\"data row15 col1\" >1.0000</td>\n",
       "            </tr>\n",
       "            <tr>\n",
       "                                <th id=\"T_a8723_level1_row16\" class=\"row_heading level1 row16\" >F1-Score</th>\n",
       "                        <td id=\"T_a8723_row16_col0\" class=\"data row16 col0\" >1.0000</td>\n",
       "                        <td id=\"T_a8723_row16_col1\" class=\"data row16 col1\" >1.0000</td>\n",
       "            </tr>\n",
       "            <tr>\n",
       "                        <th id=\"T_a8723_level0_row17\" class=\"row_heading level0 row17\" >Data Metrics</th>\n",
       "                        <th id=\"T_a8723_level1_row17\" class=\"row_heading level1 row17\" >Prevalence of Privileged Class (%)</th>\n",
       "                        <td id=\"T_a8723_row17_col0\" class=\"data row17 col0\" >75.0000</td>\n",
       "                        <td id=\"T_a8723_row17_col1\" class=\"data row17 col1\" >75.0000</td>\n",
       "            </tr>\n",
       "    </tbody></table>"
      ],
      "text/plain": [
       "<pandas.io.formats.style.Styler at 0x7fb01e01e520>"
      ]
     },
     "execution_count": 7,
     "metadata": {},
     "output_type": "execute_result"
    }
   ],
   "source": [
    "# Example with multiple models\n",
    "report.compare(X_test, y_test, X_test['gender'],\n",
    "               {'model 1':model_1, 'model 2':model_2})"
   ]
  },
  {
   "cell_type": "code",
   "execution_count": null,
   "metadata": {},
   "outputs": [],
   "source": [
    "# Example with different protected attributes. \n",
    "# Note that the same model is passed with two different keys to clarify the column names.\n",
    "report.compare(X_test, y_test, \n",
    "                    [X_test['gender'], X_test['ethnicity']], \n",
    "                    {'gender':model_1, 'ethnicity':model_1},\n",
    "                    flag_oor=True)\n"
   ]
  },
  {
   "cell_type": "markdown",
   "metadata": {},
   "source": [
    "## Detailed Analyses\n"
   ]
  },
  {
   "cell_type": "markdown",
   "metadata": {},
   "source": [
    "### Significance Testing\n",
    "\n",
    "It's recommended to test for the statistical significance of discrepancies in the distribution of results. This is particularly true for attributes with skewed distributions, for which small sample sizes for less common labels may affect fairness measures. However it is still generally recommended to validate whether the test sample for which fairness measures are generated is reflective of the full dataset.\n",
    "\n",
    "FairMLHealth comes with a bootstrapping utility and supporting funcitons that can be used in some statistical testing. While the selection of proper statistical tests is beyond the scope of this notebooks, two examples using the bootstrap_significance tool with built-in test functions are shown below."
   ]
  },
  {
   "cell_type": "code",
   "execution_count": null,
   "metadata": {},
   "outputs": [],
   "source": [
    "model_1_preds = pd.Series(model_1.predict(X_test))"
   ]
  },
  {
   "cell_type": "code",
   "execution_count": null,
   "metadata": {},
   "outputs": [],
   "source": [
    "# Example Significance Test Results Applying Kruskal-Wallis to Predictions\n",
    "isMale = X_test.reset_index(drop=True)['gender'].eq(1)\n",
    "reject_h0 = stat_utils.bootstrap_significance(alpha=0.05,\n",
    "                                              func=stat_utils.kruskal_pval, \n",
    "                                              dist_a=model_1_preds.loc[isMale], \n",
    "                                              dist_b=model_1_preds.loc[~isMale])\n",
    "print(\"Is it likely that the difference in the mean y value is related to gender?\\n\",\n",
    "      reject_h0)"
   ]
  },
  {
   "cell_type": "code",
   "execution_count": null,
   "metadata": {},
   "outputs": [],
   "source": [
    "# Example Significance Test Results Applying Chi-Square to the Distribution of Prediction Successes/Failures\n",
    "model_1_results = stat_utils.binary_result_labels(y_test, model_1_preds)\n",
    "reject_h0 = stat_utils.bootstrap_significance(alpha=0.05,\n",
    "                                              func=stat_utils.chisquare_pval, \n",
    "                                              group=X_test['gender'], \n",
    "                                              values=model_1_results)\n",
    "print(\"Can we reject the hypothesis that prediction results are from the same\", \n",
    "      \"distribution for each gender?\\n\", reject_h0)"
   ]
  },
  {
   "cell_type": "markdown",
   "metadata": {},
   "source": [
    "### Stratified Tables\n",
    "FairMLHealth also provides tools for detailed analysis of model variance by way of stratified data, performance, and bias tables. Beyond evaluating fairness, these tools are intended for flexible use in any generic assessment of model bais. Tables can evaluate multiple features at once. *An important update starting in Version 1.0.0 is that all of these features are now contained in the **measure.py** module (previously named reports.py).*\n",
    "\n",
    "All tables display a summary row for \"All Features, All Values\". This summary can be turned off by passing ***add_overview=False*** to measure.data().\n",
    "\n"
   ]
  },
  {
   "cell_type": "markdown",
   "metadata": {},
   "source": [
    "#### Data Tables\n",
    "\n",
    "The stratified data table can be used to evaluate data against one or multiple targets. Two methods are available for identifying which features to assess, as shown in the examples below. \n"
   ]
  },
  {
   "cell_type": "code",
   "execution_count": null,
   "metadata": {},
   "outputs": [],
   "source": [
    "# Arguments Option 1: pass full set of data, subsetting with *features* argument\n",
    "measure.data(X_test, y_test, features=['gender', 'other', 'col1'])"
   ]
  },
  {
   "cell_type": "code",
   "execution_count": null,
   "metadata": {
    "scrolled": true
   },
   "outputs": [],
   "source": [
    "# Arguments Option 2: pass the data subset of interest without using the *features* argument\n",
    "measure.data(X_test, X_test, features=['gender', 'col1'], targets=['col2', 'col3'])"
   ]
  },
  {
   "cell_type": "code",
   "execution_count": null,
   "metadata": {},
   "outputs": [],
   "source": [
    "# Display a similar report for multiple targets, dropping the summary row\n",
    "measure.data(X=X_test, # used to define rows\n",
    "             Y=X_test, # used to define columns\n",
    "             features=['gender', 'col1'], # optional subset of X\n",
    "             targets=['col2', 'col3'], # optional subset of Y\n",
    "             add_overview=False # turns off \"All Features, All Values\" row\n",
    "             )"
   ]
  },
  {
   "cell_type": "markdown",
   "metadata": {},
   "source": [
    "#### Stratified Performance Tables\n",
    "\n",
    "The stratified performance table evaluates model performance specific to each feature-value subset. These tables are compatible with both classification and regression models. For classification models with the *predict_proba()* method, additional ROC_AUC and PR_AUC values will be included if possible."
   ]
  },
  {
   "cell_type": "code",
   "execution_count": null,
   "metadata": {},
   "outputs": [],
   "source": [
    "# Performance table example\n",
    "measure.performance(X_test[['gender']], y_test, model_1.predict(X_test))"
   ]
  },
  {
   "cell_type": "code",
   "execution_count": null,
   "metadata": {},
   "outputs": [],
   "source": [
    "# Performance table example with probabilities included\n",
    "measure.performance(X_test[['gender']], \n",
    "                    y_true=y_test, \n",
    "                    y_pred=model_1.predict(X_test), \n",
    "                    y_prob=model_1.predict_proba(X_test)[:,1])"
   ]
  },
  {
   "cell_type": "markdown",
   "metadata": {},
   "source": [
    "#### Stratified Bias Tables\n",
    "\n",
    "The stratified bias analysis table apply fairness-related metrics for each feature-value pair. It assumes a given feature-value as the \"privileged\" group relative to all other possible values for the feature. For example, row **2** in the table below displays measures for **\"col1\"** with a value of **\"2\"**. For this row, \"2\" is considered to be the privileged group, while all other non-null values (namely \"1\" and \"3\") are considered unprivileged.\n",
    "\n",
    "To simplify the table, fairness measures have been reduced to their component parts. For example, the Equal Odds Ratio has been reduced to the True Positive Rate (TPR) Ratio and False Positive Rate (FPR) Ratio.\n",
    "\n",
    "Note that the *flag* function is compatible with both **measure.bias()** and **measure.summary()** (which is demonstrated below). However, to enable colored cells the tool returns a pandas Styler rather than a DataTable. For this reason, *flag_oor* is set to False by default (as shown in the example above). Flagging can be turned on by passing *flag_oor=True* to either function. As an added feature, optional custom ranges can be passed to either **measure.bias()** or **measure.summary()** to facilitate regression evaluation, shown in [Example-ToolUsage_Regression](https://nbviewer.jupyter.org/github/KenSciResearch/fairMLHealth/blob/integration/examples_and_tutorials/Example-ToolUsage_Regression.ipynb)."
   ]
  },
  {
   "cell_type": "code",
   "execution_count": null,
   "metadata": {},
   "outputs": [],
   "source": [
    "# Example of bias table with flag turned on\n",
    "measure.bias(X_test[['gender', 'col3']], y_test, model_1.predict(X_test), flag_oor=True)"
   ]
  },
  {
   "cell_type": "markdown",
   "metadata": {},
   "source": [
    "The **measure** module also contains a summary function that works similarly to report.compare(). While it can only be applied to one model at a time, it can accept custom \"fair\" ranges, and accept cohort groups as will be [shown in the next section](#cohort)."
   ]
  },
  {
   "cell_type": "code",
   "execution_count": null,
   "metadata": {},
   "outputs": [],
   "source": [
    "# Example summary with performance skipped\n",
    "measure.summary(X_test[['col2']], \n",
    "                y_test, \n",
    "                model_1.predict(X_test),\n",
    "                prtc_attr=X_test['gender'], \n",
    "                pred_type=\"classification\",\n",
    "                skip_performance=True\n",
    "               )"
   ]
  },
  {
   "cell_type": "markdown",
   "metadata": {},
   "source": [
    "## <a name=\"cohort\"></a>Analysis by Cohort\n",
    "\n",
    "Table-generating functions in the **measure** module can all be additionally grouped using the *cohorts* argument to specify additional labels for each observation. Cohorts may consist of either a single label or a set of labels, and may be either separate from or attached to the existing data."
   ]
  },
  {
   "cell_type": "code",
   "execution_count": null,
   "metadata": {},
   "outputs": [],
   "source": [
    "# Separate, Single-Level Cohorts\n",
    "cohort_labels = X_test['gender']\n",
    "measure.bias(X_test['col3'], y_test, model_1.predict(X_test), \n",
    "                    flag_oor=True, cohorts=cohort_labels)"
   ]
  },
  {
   "cell_type": "code",
   "execution_count": null,
   "metadata": {},
   "outputs": [],
   "source": [
    "## Associated, Multi-Level Cohorts\n",
    "measure.data(X=X_test['col3'], Y=y_test, cohorts=X_test[['gender', 'ethnicity']])"
   ]
  },
  {
   "cell_type": "code",
   "execution_count": null,
   "metadata": {},
   "outputs": [],
   "source": [
    "# Cohorts for summary tables\n",
    "measure.summary(X_test[['col2']], \n",
    "                y_test, \n",
    "                model_1.predict(X_test),\n",
    "                prtc_attr=X_test['gender'], \n",
    "                pred_type=\"classification\",\n",
    "                flag_oor=False,\n",
    "                skip_performance=True,\n",
    "                cohorts=X_test[['ethnicity', 'col3']]\n",
    "               )"
   ]
  }
 ],
 "metadata": {
  "kernelspec": {
   "display_name": "Python 3",
   "language": "python",
   "name": "python3"
  },
  "language_info": {
   "codemirror_mode": {
    "name": "ipython",
    "version": 3
   },
   "file_extension": ".py",
   "mimetype": "text/x-python",
   "name": "python",
   "nbconvert_exporter": "python",
   "pygments_lexer": "ipython3",
   "version": "3.8.8"
  }
 },
 "nbformat": 4,
 "nbformat_minor": 4
}

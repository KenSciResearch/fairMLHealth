{
 "cells": [
  {
   "cell_type": "markdown",
   "metadata": {},
   "source": [
    "# Binary Classification Fairness Assessment Template - Example\n",
    "\n",
    "## About\n",
    "This example is intended as a simple illustration of the [Binary Classification Fairness Assessment Template](../templates/Template-BinaryClassificationAssessment.ipynb). It compares a Random Forest Classifier against fairness-aware alternative versions of that same classifier. For more information about the specific measures used, please see the [Measuring Fairness in Binary Classification Tutorial](../tutorials_and_examples/Tutorial-MeasuringFairnessInBinaryClassification.ipynb).\n",
    "\n",
    "For simplicity, only two fairness-aware algorithms are compared in this notebook. However, several other fairness-aware models were tested during development. For a peek at that process, see [Supplemental - Models for Binary Classification Example](../tutorials_and_examples/Supplemental-ModelsForBinaryClassificationExample.ipynb).\n",
    "\n",
    "## Example Contents\n",
    "\n",
    "[Part 1](#part1) - Data Loading and Model Setup\n",
    "\n",
    "[Part 2](#part2) - Fairness-Aware Models\n",
    "\n",
    "[Part 3](#part3) - Model Comparison\n"
   ]
  },
  {
   "cell_type": "code",
   "execution_count": 1,
   "metadata": {},
   "outputs": [],
   "source": [
    "from IPython.display import Markdown, HTML\n",
    "from fairmlhealth import model_comparison as fhmc, reports, stratified_reports, tutorial_helpers as helpers\n",
    "import numpy as np\n",
    "import pandas as pd\n",
    "\n",
    "\n",
    "# Functions and pointers to make this tutorial more colorful\n",
    "ks_magenta = '#d00095'\n",
    "ks_magenta_lt = '#ff05b8'\n",
    "ks_purple = '#947fed'\n",
    "\n",
    "import warnings\n",
    "#warnings.filterwarnings('ignore', module='numpy')\n",
    "warnings.filterwarnings('ignore', module='tensorflow')"
   ]
  },
  {
   "cell_type": "markdown",
   "metadata": {},
   "source": [
    "----\n",
    "# Load Data and Generate Baseline Model <a name=\"part1\"></a>"
   ]
  },
  {
   "cell_type": "markdown",
   "metadata": {},
   "source": [
    "## MIMIC-III\n",
    "\n",
    "This example uses a simple data subset from the [MIMIC-III clinical database](https://mimic.physionet.org/gettingstarted/access/) to predict the length of ICU stay (LOS) for a set of encounters. MIMIC-III is a freely available database, however all users must pass a quick human subjects certification course. For the example, LOS is the total intensive care unit (ICU) time for a given hospital admission in patients 65 and above. The raw LOS value is then converted to a binary value specifying whether an admission's length of stay is greater than the sample mean. \n",
    "\n",
    "Note that the code below will automatically unzip and format all necessary data for these experiments from a raw download of MIMIC-III data (saving the formatted data in the same MIMIC folder). If you would like to run this example on your own, [follow these steps to be granted access to MIMIC III](https://mimic.physionet.org/gettingstarted/access/) and download the data.\n"
   ]
  },
  {
   "cell_type": "markdown",
   "metadata": {},
   "source": [
    "## Data Subset\n",
    "\n",
    "Data are imported at the encounter level with all additional patient identification dropped. Boolean diagnosis and procedure features are categorized through the Clinical Classifications Software system ([HCUP](https://www.hcup-us.ahrq.gov/toolssoftware/ccs/ccs.jsp)). All features other than age are one-hot encoded and prefixed with their variable type (e.g. \"GENDER_\", \"ETHNICITY_\").  \n"
   ]
  },
  {
   "cell_type": "code",
   "execution_count": 2,
   "metadata": {},
   "outputs": [],
   "source": [
    "# path_to_mimic_data_folder = \"[path to folder containing your MIMIC-III zip files]\"\n",
    "path_to_mimic_data_folder = \"~/data/MIMIC\""
   ]
  },
  {
   "cell_type": "code",
   "execution_count": 3,
   "metadata": {
    "tags": []
   },
   "outputs": [
    {
     "data": {
      "text/html": [
       "<div>\n",
       "<style scoped>\n",
       "    .dataframe tbody tr th:only-of-type {\n",
       "        vertical-align: middle;\n",
       "    }\n",
       "\n",
       "    .dataframe tbody tr th {\n",
       "        vertical-align: top;\n",
       "    }\n",
       "\n",
       "    .dataframe thead th {\n",
       "        text-align: right;\n",
       "    }\n",
       "</style>\n",
       "<table border=\"1\" class=\"dataframe\">\n",
       "  <thead>\n",
       "    <tr style=\"text-align: right;\">\n",
       "      <th></th>\n",
       "      <th>ADMIT_ID</th>\n",
       "      <th>AGE</th>\n",
       "      <th>GENDER_M</th>\n",
       "      <th>ETHNICITY_AMERICAN INDIAN/ALASKA NATIVE</th>\n",
       "      <th>ETHNICITY_AMERICAN INDIAN/ALASKA NATIVE FEDERALLY RECOGNIZED TRIBE</th>\n",
       "      <th>ETHNICITY_ASIAN</th>\n",
       "      <th>ETHNICITY_ASIAN - ASIAN INDIAN</th>\n",
       "      <th>ETHNICITY_ASIAN - CAMBODIAN</th>\n",
       "      <th>ETHNICITY_ASIAN - CHINESE</th>\n",
       "      <th>ETHNICITY_ASIAN - FILIPINO</th>\n",
       "      <th>...</th>\n",
       "      <th>PROCEDURE_CCS_223</th>\n",
       "      <th>PROCEDURE_CCS_224</th>\n",
       "      <th>PROCEDURE_CCS_225</th>\n",
       "      <th>PROCEDURE_CCS_226</th>\n",
       "      <th>PROCEDURE_CCS_227</th>\n",
       "      <th>PROCEDURE_CCS_228</th>\n",
       "      <th>PROCEDURE_CCS_229</th>\n",
       "      <th>PROCEDURE_CCS_231</th>\n",
       "      <th>length_of_stay</th>\n",
       "      <th>long_los</th>\n",
       "    </tr>\n",
       "  </thead>\n",
       "  <tbody>\n",
       "    <tr>\n",
       "      <th>0</th>\n",
       "      <td>1039187</td>\n",
       "      <td>65.0</td>\n",
       "      <td>0</td>\n",
       "      <td>0</td>\n",
       "      <td>0</td>\n",
       "      <td>0</td>\n",
       "      <td>0</td>\n",
       "      <td>0</td>\n",
       "      <td>0</td>\n",
       "      <td>0</td>\n",
       "      <td>...</td>\n",
       "      <td>0</td>\n",
       "      <td>0</td>\n",
       "      <td>0</td>\n",
       "      <td>0</td>\n",
       "      <td>0</td>\n",
       "      <td>0</td>\n",
       "      <td>0</td>\n",
       "      <td>0</td>\n",
       "      <td>1.144444</td>\n",
       "      <td>0</td>\n",
       "    </tr>\n",
       "    <tr>\n",
       "      <th>1</th>\n",
       "      <td>1026095</td>\n",
       "      <td>70.0</td>\n",
       "      <td>1</td>\n",
       "      <td>0</td>\n",
       "      <td>0</td>\n",
       "      <td>0</td>\n",
       "      <td>0</td>\n",
       "      <td>0</td>\n",
       "      <td>0</td>\n",
       "      <td>0</td>\n",
       "      <td>...</td>\n",
       "      <td>0</td>\n",
       "      <td>0</td>\n",
       "      <td>0</td>\n",
       "      <td>0</td>\n",
       "      <td>0</td>\n",
       "      <td>0</td>\n",
       "      <td>0</td>\n",
       "      <td>0</td>\n",
       "      <td>5.496528</td>\n",
       "      <td>0</td>\n",
       "    </tr>\n",
       "  </tbody>\n",
       "</table>\n",
       "<p>2 rows × 651 columns</p>\n",
       "</div>"
      ],
      "text/plain": [
       "   ADMIT_ID   AGE  GENDER_M  ETHNICITY_AMERICAN INDIAN/ALASKA NATIVE  \\\n",
       "0   1039187  65.0         0                                        0   \n",
       "1   1026095  70.0         1                                        0   \n",
       "\n",
       "   ETHNICITY_AMERICAN INDIAN/ALASKA NATIVE FEDERALLY RECOGNIZED TRIBE  \\\n",
       "0                                                  0                    \n",
       "1                                                  0                    \n",
       "\n",
       "   ETHNICITY_ASIAN  ETHNICITY_ASIAN - ASIAN INDIAN  \\\n",
       "0                0                               0   \n",
       "1                0                               0   \n",
       "\n",
       "   ETHNICITY_ASIAN - CAMBODIAN  ETHNICITY_ASIAN - CHINESE  \\\n",
       "0                            0                          0   \n",
       "1                            0                          0   \n",
       "\n",
       "   ETHNICITY_ASIAN - FILIPINO  ...  PROCEDURE_CCS_223  PROCEDURE_CCS_224  \\\n",
       "0                           0  ...                  0                  0   \n",
       "1                           0  ...                  0                  0   \n",
       "\n",
       "   PROCEDURE_CCS_225  PROCEDURE_CCS_226  PROCEDURE_CCS_227  PROCEDURE_CCS_228  \\\n",
       "0                  0                  0                  0                  0   \n",
       "1                  0                  0                  0                  0   \n",
       "\n",
       "   PROCEDURE_CCS_229  PROCEDURE_CCS_231  length_of_stay  long_los  \n",
       "0                  0                  0        1.144444         0  \n",
       "1                  0                  0        5.496528         0  \n",
       "\n",
       "[2 rows x 651 columns]"
      ]
     },
     "metadata": {},
     "output_type": "display_data"
    }
   ],
   "source": [
    "# Load data and subset to ages 65+\n",
    "df = helpers.load_mimic3_example(path_to_mimic_data_folder) \n",
    "df = df.loc[df['AGE'].ge(65), :]\n",
    "df.drop('GENDER_F', axis=1, inplace=True) # Redundant with GENDER_M\n",
    "\n",
    "# Generate a binary target flagging whether an observation's length_of_stay value is above or below the mean. \n",
    "mean_val = df['length_of_stay'].mean()\n",
    "df['long_los'] = df['length_of_stay'].apply(lambda x: 1 if x > mean_val else 0)\n",
    "\n",
    "display(df.head(2))"
   ]
  },
  {
   "cell_type": "markdown",
   "metadata": {},
   "source": [
    "## Split Data"
   ]
  },
  {
   "cell_type": "code",
   "execution_count": 4,
   "metadata": {},
   "outputs": [],
   "source": [
    "from sklearn.model_selection import train_test_split\n",
    "\n",
    "# Subset and Split Data\n",
    "X = df.loc[:, [c for c in df.columns \n",
    "                if c not in ['ADMIT_ID', 'length_of_stay', 'long_los']]]\n",
    "y = df.loc[:, ['long_los']]\n",
    "splits = train_test_split(X, y, stratify=y, test_size=0.33, random_state=42)\n",
    "X_train, X_test, y_train, y_test=splits"
   ]
  },
  {
   "cell_type": "markdown",
   "metadata": {},
   "source": [
    "## Test Baseline\n",
    "\n",
    "A Scikit-Learn Random Forest Classifier serves as our basis for comparison. Parameters were tuned using Scikit-Learn's GridSearch in the [Supplemental - Models for Binary Classification Example](../tutorials_and_examples/Supplemental-ModelsForBinaryClassificationExample.ipynb)."
   ]
  },
  {
   "cell_type": "code",
   "execution_count": 5,
   "metadata": {},
   "outputs": [],
   "source": [
    "from sklearn.metrics import classification_report\n",
    "from sklearn.ensemble import RandomForestClassifier"
   ]
  },
  {
   "cell_type": "code",
   "execution_count": 6,
   "metadata": {
    "tags": []
   },
   "outputs": [
    {
     "name": "stdout",
     "output_type": "stream",
     "text": [
      "\n",
      " Random Forest Prediction Scores: \n",
      "               precision    recall  f1-score   support\n",
      "\n",
      " LOS <= mean       0.77      0.89      0.83      4531\n",
      "  LOS > mean       0.77      0.58      0.66      2873\n",
      "\n",
      "    accuracy                           0.77      7404\n",
      "   macro avg       0.77      0.74      0.74      7404\n",
      "weighted avg       0.77      0.77      0.76      7404\n",
      "\n"
     ]
    }
   ],
   "source": [
    "# Set model parameters (currently set as default values, but defined here to be explicit)\n",
    "rf_params = {'n_estimators': 1800, 'min_samples_split': 5, 'bootstrap': False}\n",
    "\n",
    "# Train Model\n",
    "rf_model = RandomForestClassifier(**rf_params)\n",
    "rf_model.fit(X_train, y_train.iloc[:, 0])\n",
    "y_pred_rf = rf_model.predict(X_test)\n",
    "\n",
    "# display performance \n",
    "print(\"\\n\", \"Random Forest Prediction Scores:\", \"\\n\", \n",
    "      classification_report(y_test, y_pred_rf, target_names=['LOS <= mean', 'LOS > mean']))"
   ]
  },
  {
   "cell_type": "code",
   "execution_count": 7,
   "metadata": {},
   "outputs": [
    {
     "data": {
      "text/html": [
       "<style  type=\"text/css\" >\n",
       "</style><table id=\"T_80b76ce6_663f_11eb_8813_f0189849bf4b\" ><thead>    <tr>        <th class=\"blank\" ></th>        <th class=\"blank level0\" ></th>        <th class=\"col_heading level0 col0\" >Value</th>    </tr>    <tr>        <th class=\"index_name level0\" >Metric</th>        <th class=\"index_name level1\" >Measure</th>        <th class=\"blank\" ></th>    </tr></thead><tbody>\n",
       "                <tr>\n",
       "                        <th id=\"T_80b76ce6_663f_11eb_8813_f0189849bf4blevel0_row0\" class=\"row_heading level0 row0\" rowspan=8>Group Fairness</th>\n",
       "                        <th id=\"T_80b76ce6_663f_11eb_8813_f0189849bf4blevel1_row0\" class=\"row_heading level1 row0\" >Statistical Parity Difference</th>\n",
       "                        <td id=\"T_80b76ce6_663f_11eb_8813_f0189849bf4brow0_col0\" class=\"data row0 col0\" >0.045100</td>\n",
       "            </tr>\n",
       "            <tr>\n",
       "                                <th id=\"T_80b76ce6_663f_11eb_8813_f0189849bf4blevel1_row1\" class=\"row_heading level1 row1\" >Disparate Impact Ratio</th>\n",
       "                        <td id=\"T_80b76ce6_663f_11eb_8813_f0189849bf4brow1_col0\" class=\"data row1 col0\" >1.167500</td>\n",
       "            </tr>\n",
       "            <tr>\n",
       "                                <th id=\"T_80b76ce6_663f_11eb_8813_f0189849bf4blevel1_row2\" class=\"row_heading level1 row2\" >Equalized Odds Difference</th>\n",
       "                        <td id=\"T_80b76ce6_663f_11eb_8813_f0189849bf4brow2_col0\" class=\"data row2 col0\" >0.018300</td>\n",
       "            </tr>\n",
       "            <tr>\n",
       "                                <th id=\"T_80b76ce6_663f_11eb_8813_f0189849bf4blevel1_row3\" class=\"row_heading level1 row3\" >Equalized Odds Ratio</th>\n",
       "                        <td id=\"T_80b76ce6_663f_11eb_8813_f0189849bf4brow3_col0\" class=\"data row3 col0\" >0.843500</td>\n",
       "            </tr>\n",
       "            <tr>\n",
       "                                <th id=\"T_80b76ce6_663f_11eb_8813_f0189849bf4blevel1_row4\" class=\"row_heading level1 row4\" >Positive Predictive Parity Difference</th>\n",
       "                        <td id=\"T_80b76ce6_663f_11eb_8813_f0189849bf4brow4_col0\" class=\"data row4 col0\" >0.017800</td>\n",
       "            </tr>\n",
       "            <tr>\n",
       "                                <th id=\"T_80b76ce6_663f_11eb_8813_f0189849bf4blevel1_row5\" class=\"row_heading level1 row5\" >Balanced Accuracy Difference</th>\n",
       "                        <td id=\"T_80b76ce6_663f_11eb_8813_f0189849bf4brow5_col0\" class=\"data row5 col0\" >-0.000500</td>\n",
       "            </tr>\n",
       "            <tr>\n",
       "                                <th id=\"T_80b76ce6_663f_11eb_8813_f0189849bf4blevel1_row6\" class=\"row_heading level1 row6\" >Balanced Accuracy Ratio</th>\n",
       "                        <td id=\"T_80b76ce6_663f_11eb_8813_f0189849bf4brow6_col0\" class=\"data row6 col0\" >0.999400</td>\n",
       "            </tr>\n",
       "            <tr>\n",
       "                                <th id=\"T_80b76ce6_663f_11eb_8813_f0189849bf4blevel1_row7\" class=\"row_heading level1 row7\" >AUC Difference</th>\n",
       "                        <td id=\"T_80b76ce6_663f_11eb_8813_f0189849bf4brow7_col0\" class=\"data row7 col0\" >0.003700</td>\n",
       "            </tr>\n",
       "            <tr>\n",
       "                        <th id=\"T_80b76ce6_663f_11eb_8813_f0189849bf4blevel0_row8\" class=\"row_heading level0 row8\" rowspan=2>Individual Fairness</th>\n",
       "                        <th id=\"T_80b76ce6_663f_11eb_8813_f0189849bf4blevel1_row8\" class=\"row_heading level1 row8\" >Consistency Score</th>\n",
       "                        <td id=\"T_80b76ce6_663f_11eb_8813_f0189849bf4brow8_col0\" class=\"data row8 col0\" >0.807900</td>\n",
       "            </tr>\n",
       "            <tr>\n",
       "                                <th id=\"T_80b76ce6_663f_11eb_8813_f0189849bf4blevel1_row9\" class=\"row_heading level1 row9\" >Between-Group Gen. Entropy Error</th>\n",
       "                        <td id=\"T_80b76ce6_663f_11eb_8813_f0189849bf4brow9_col0\" class=\"data row9 col0\" >0.000000</td>\n",
       "            </tr>\n",
       "            <tr>\n",
       "                        <th id=\"T_80b76ce6_663f_11eb_8813_f0189849bf4blevel0_row10\" class=\"row_heading level0 row10\" >Data Metrics</th>\n",
       "                        <th id=\"T_80b76ce6_663f_11eb_8813_f0189849bf4blevel1_row10\" class=\"row_heading level1 row10\" >Prevalence of Privileged Class (%)</th>\n",
       "                        <td id=\"T_80b76ce6_663f_11eb_8813_f0189849bf4brow10_col0\" class=\"data row10 col0\" >39.000000</td>\n",
       "            </tr>\n",
       "    </tbody></table>"
      ],
      "text/plain": [
       "<IPython.core.display.HTML object>"
      ]
     },
     "execution_count": 7,
     "metadata": {},
     "output_type": "execute_result"
    }
   ],
   "source": [
    "# Generate comparison table (returned as a pandas dataframe)\n",
    "meas = fhmc.measure_model(X_test, y_test, X_test['LANGUAGE_ENGL'], rf_model)\n",
    "reports.flag(meas)"
   ]
  },
  {
   "cell_type": "code",
   "execution_count": 8,
   "metadata": {},
   "outputs": [
    {
     "data": {
      "text/html": [
       "<div>\n",
       "<style scoped>\n",
       "    .dataframe tbody tr th:only-of-type {\n",
       "        vertical-align: middle;\n",
       "    }\n",
       "\n",
       "    .dataframe tbody tr th {\n",
       "        vertical-align: top;\n",
       "    }\n",
       "\n",
       "    .dataframe thead th {\n",
       "        text-align: right;\n",
       "    }\n",
       "</style>\n",
       "<table border=\"1\" class=\"dataframe\">\n",
       "  <thead>\n",
       "    <tr style=\"text-align: right;\">\n",
       "      <th></th>\n",
       "      <th>FEATURE</th>\n",
       "      <th>FEATURE VALUE</th>\n",
       "      <th>N OBS</th>\n",
       "      <th>POSITIVE CLASS RATE</th>\n",
       "      <th>POSITIVE PREDICTION RATE</th>\n",
       "      <th>ACCURACY</th>\n",
       "      <th>PRECISION</th>\n",
       "      <th>TPR</th>\n",
       "      <th>TNR</th>\n",
       "      <th>FPR</th>\n",
       "      <th>FNR</th>\n",
       "      <th>ROC_AUC</th>\n",
       "      <th>PR_AUC</th>\n",
       "    </tr>\n",
       "  </thead>\n",
       "  <tbody>\n",
       "    <tr>\n",
       "      <th>0</th>\n",
       "      <td>ALL_FEATURES</td>\n",
       "      <td>ALL_VALUES</td>\n",
       "      <td>7404.0</td>\n",
       "      <td>0.3880</td>\n",
       "      <td>0.2897</td>\n",
       "      <td>0.7712</td>\n",
       "      <td>0.7748</td>\n",
       "      <td>0.5785</td>\n",
       "      <td>0.8934</td>\n",
       "      <td>0.1066</td>\n",
       "      <td>0.4215</td>\n",
       "      <td>0.5</td>\n",
       "      <td>0.3060</td>\n",
       "    </tr>\n",
       "    <tr>\n",
       "      <th>1</th>\n",
       "      <td>LANGUAGE_ENGL</td>\n",
       "      <td>0</td>\n",
       "      <td>3356.0</td>\n",
       "      <td>0.4195</td>\n",
       "      <td>0.3144</td>\n",
       "      <td>0.7589</td>\n",
       "      <td>0.7839</td>\n",
       "      <td>0.5874</td>\n",
       "      <td>0.8830</td>\n",
       "      <td>0.1170</td>\n",
       "      <td>0.4126</td>\n",
       "      <td>0.5</td>\n",
       "      <td>0.2902</td>\n",
       "    </tr>\n",
       "    <tr>\n",
       "      <th>2</th>\n",
       "      <td>LANGUAGE_ENGL</td>\n",
       "      <td>1</td>\n",
       "      <td>4048.0</td>\n",
       "      <td>0.3619</td>\n",
       "      <td>0.2693</td>\n",
       "      <td>0.7814</td>\n",
       "      <td>0.7661</td>\n",
       "      <td>0.5700</td>\n",
       "      <td>0.9013</td>\n",
       "      <td>0.0987</td>\n",
       "      <td>0.4300</td>\n",
       "      <td>0.5</td>\n",
       "      <td>0.3190</td>\n",
       "    </tr>\n",
       "  </tbody>\n",
       "</table>\n",
       "</div>"
      ],
      "text/plain": [
       "         FEATURE FEATURE VALUE   N OBS  POSITIVE CLASS RATE  \\\n",
       "0   ALL_FEATURES    ALL_VALUES  7404.0               0.3880   \n",
       "1  LANGUAGE_ENGL             0  3356.0               0.4195   \n",
       "2  LANGUAGE_ENGL             1  4048.0               0.3619   \n",
       "\n",
       "   POSITIVE PREDICTION RATE  ACCURACY  PRECISION     TPR     TNR     FPR  \\\n",
       "0                    0.2897    0.7712     0.7748  0.5785  0.8934  0.1066   \n",
       "1                    0.3144    0.7589     0.7839  0.5874  0.8830  0.1170   \n",
       "2                    0.2693    0.7814     0.7661  0.5700  0.9013  0.0987   \n",
       "\n",
       "      FNR  ROC_AUC  PR_AUC  \n",
       "0  0.4215      0.5  0.3060  \n",
       "1  0.4126      0.5  0.2902  \n",
       "2  0.4300      0.5  0.3190  "
      ]
     },
     "execution_count": 8,
     "metadata": {},
     "output_type": "execute_result"
    }
   ],
   "source": [
    "stratified_reports.classification_performance(X_test, y_test, y_pred_rf, features=['LANGUAGE_ENGL'])"
   ]
  },
  {
   "cell_type": "code",
   "execution_count": 9,
   "metadata": {},
   "outputs": [
    {
     "data": {
      "text/html": [
       "<div>\n",
       "<style scoped>\n",
       "    .dataframe tbody tr th:only-of-type {\n",
       "        vertical-align: middle;\n",
       "    }\n",
       "\n",
       "    .dataframe tbody tr th {\n",
       "        vertical-align: top;\n",
       "    }\n",
       "\n",
       "    .dataframe thead th {\n",
       "        text-align: right;\n",
       "    }\n",
       "</style>\n",
       "<table border=\"1\" class=\"dataframe\">\n",
       "  <thead>\n",
       "    <tr style=\"text-align: right;\">\n",
       "      <th></th>\n",
       "      <th>FEATURE</th>\n",
       "      <th>FEATURE VALUE</th>\n",
       "      <th>PPV Ratio</th>\n",
       "      <th>TPR Ratio</th>\n",
       "      <th>FPR Ratio</th>\n",
       "      <th>TNR Ratio</th>\n",
       "      <th>FNR Ratio</th>\n",
       "      <th>PPV Difference</th>\n",
       "      <th>TPR Difference</th>\n",
       "      <th>FPR Difference</th>\n",
       "      <th>TNR Difference</th>\n",
       "      <th>FNR Difference</th>\n",
       "      <th>N OBS</th>\n",
       "    </tr>\n",
       "  </thead>\n",
       "  <tbody>\n",
       "    <tr>\n",
       "      <th>0</th>\n",
       "      <td>LANGUAGE_ENGL</td>\n",
       "      <td>0</td>\n",
       "      <td>-0.0178</td>\n",
       "      <td>0.9704</td>\n",
       "      <td>0.8435</td>\n",
       "      <td>1.0207</td>\n",
       "      <td>1.0421</td>\n",
       "      <td>-0.0178</td>\n",
       "      <td>-0.0174</td>\n",
       "      <td>-0.0183</td>\n",
       "      <td>0.0183</td>\n",
       "      <td>0.0174</td>\n",
       "      <td>3356.0</td>\n",
       "    </tr>\n",
       "    <tr>\n",
       "      <th>1</th>\n",
       "      <td>LANGUAGE_ENGL</td>\n",
       "      <td>1</td>\n",
       "      <td>0.0178</td>\n",
       "      <td>1.0305</td>\n",
       "      <td>1.1856</td>\n",
       "      <td>0.9797</td>\n",
       "      <td>0.9596</td>\n",
       "      <td>0.0178</td>\n",
       "      <td>0.0174</td>\n",
       "      <td>0.0183</td>\n",
       "      <td>-0.0183</td>\n",
       "      <td>-0.0174</td>\n",
       "      <td>4048.0</td>\n",
       "    </tr>\n",
       "  </tbody>\n",
       "</table>\n",
       "</div>"
      ],
      "text/plain": [
       "         FEATURE FEATURE VALUE  PPV Ratio  TPR Ratio  FPR Ratio  TNR Ratio  \\\n",
       "0  LANGUAGE_ENGL             0    -0.0178     0.9704     0.8435     1.0207   \n",
       "1  LANGUAGE_ENGL             1     0.0178     1.0305     1.1856     0.9797   \n",
       "\n",
       "   FNR Ratio  PPV Difference  TPR Difference  FPR Difference  TNR Difference  \\\n",
       "0     1.0421         -0.0178         -0.0174         -0.0183          0.0183   \n",
       "1     0.9596          0.0178          0.0174          0.0183         -0.0183   \n",
       "\n",
       "   FNR Difference   N OBS  \n",
       "0          0.0174  3356.0  \n",
       "1         -0.0174  4048.0  "
      ]
     },
     "execution_count": 9,
     "metadata": {},
     "output_type": "execute_result"
    }
   ],
   "source": [
    "stratified_reports.classification_fairness(X_test, y_test, y_pred_rf, features=['LANGUAGE_ENGL'])"
   ]
  },
  {
   "cell_type": "markdown",
   "metadata": {},
   "source": [
    "----\n",
    "# Fairness-Aware Models <a name=\"part2\"></a>\n"
   ]
  },
  {
   "cell_type": "markdown",
   "metadata": {},
   "source": [
    "## Fairlearn Models\n",
    "\n",
    "The [Fairlearn](https://fairlearn.github.io/) package includes three [mitigation algorithms](https://fairlearn.github.io/user_guide/mitigation.html) designed to increase the fairness of an existing model relative to one of two user-specified fairness metrics. Both algorithms and metrics are listed in the cell below.\n",
    "\n",
    "For more information about the specifics of these fairness metrics, see [Part 5 of the Measuring Fairness in Binary Classification Tutorial](../tutorials_and_examples/Tutorial-MeasuringFairnessInBinaryClassification.ipynb#part5)."
   ]
  },
  {
   "cell_type": "code",
   "execution_count": null,
   "metadata": {},
   "outputs": [],
   "source": [
    "# Mitigation Algorithms\n",
    "from fairlearn.reductions import GridSearch, ExponentiatedGradient\n",
    "\n",
    "# Fairness Measures\n",
    "from fairlearn.reductions import EqualizedOdds, DemographicParity "
   ]
  },
  {
   "cell_type": "markdown",
   "metadata": {},
   "source": [
    "### Fair ExponentiatedGradient\n",
    "\n",
    "Fairlearn's ExponentiatedGradient is a wrapper that runs a constrained optimization using the Exponentiated Gradient approach on a binary classification model. It treats the prediction as a sequence of cost-sensitive classification problems, returning the solution with the smallest error (constrained by the metric of choice). This approach has been demonstrated to have minimal effect on model performance by some measures. [[Agarwal2018]](#Agarwal2018)\n",
    "\n",
    "This approach is applicable to sensitive attributes that are either categorical or binary/Boolean. It can be used for classification problems only.\n",
    "\n",
    "Note: solutions are not guaranteed for this approach.\n"
   ]
  },
  {
   "cell_type": "code",
   "execution_count": null,
   "metadata": {},
   "outputs": [],
   "source": [
    "# Set seed for consistent results with Fairlearn's ExponentiatedGradient\n",
    "np.random.seed(36)  "
   ]
  },
  {
   "cell_type": "markdown",
   "metadata": {},
   "source": [
    "#### Fair ExponentiatedGradient Using Demographic Parity as Constraint"
   ]
  },
  {
   "cell_type": "code",
   "execution_count": null,
   "metadata": {
    "tags": []
   },
   "outputs": [],
   "source": [
    "eg_rfDP_model = ExponentiatedGradient(RandomForestClassifier(**rf_params), \n",
    "                                      constraints=DemographicParity()) \n",
    "eg_rfDP_model.fit(X_train, y_train,\n",
    "                  sensitive_features=X_train['LANGUAGE_ENGL'])\n",
    "y_pred_eg_rfDP = eg_rfDP_model.predict(X_test)\n",
    "\n",
    "# display performance \n",
    "print(\"\\n\", \"Prediction Scores:\", \"\\n\", \n",
    "      classification_report(y_test, y_pred_eg_rfDP, \n",
    "       target_names=['LOS <= mean', 'LOS > mean']))\n"
   ]
  },
  {
   "cell_type": "markdown",
   "metadata": {},
   "source": [
    "#### Fair ExponentiatedGradient Using Equalized Odds as Constraint"
   ]
  },
  {
   "cell_type": "code",
   "execution_count": null,
   "metadata": {
    "tags": []
   },
   "outputs": [],
   "source": [
    "eg_rfEO_model = ExponentiatedGradient(RandomForestClassifier(**rf_params), \n",
    "                                      constraints=EqualizedOdds())  \n",
    "eg_rfEO_model.fit(X_train, y_train, \n",
    "                  sensitive_features=X_train['LANGUAGE_ENGL'])\n",
    "y_pred_eg_rfEO = eg_rfEO_model.predict(X_test)\n",
    "\n",
    "# display performance \n",
    "print(\"\\n\", \"Prediction Scores:\", \"\\n\", \n",
    "      classification_report(y_test, y_pred_eg_rfEO, \n",
    "       target_names=['LOS <= mean', 'LOS > mean']))\n"
   ]
  },
  {
   "cell_type": "markdown",
   "metadata": {},
   "source": [
    "### Fair GridSearch\n",
    "\n",
    "Fairlearn's GridSearch is a wrapper that runs a constrained optimization using the Grid Search approach  on a binary classification or a regression model. It treats the prediction as a sequence of cost-sensitive classification problems, returning the solution with the smallest error (constrained by the metric of choice). This approach has been demonstrated to have minimal effect on model performance by some measures [[Agarwal2018]](#Agarwal2018).\n",
    "\n",
    "This approach is applicable to sensitive attributes that are binary/Boolean only. It can be used for either binary classification or regression problems.\n"
   ]
  },
  {
   "cell_type": "markdown",
   "metadata": {},
   "source": [
    "#### Fair GridSearch Using Equalized Odds as Constraint"
   ]
  },
  {
   "cell_type": "code",
   "execution_count": null,
   "metadata": {
    "tags": []
   },
   "outputs": [],
   "source": [
    "# Train GridSearch\n",
    "gs_rfEO_model = GridSearch(RandomForestClassifier(**rf_params),\n",
    "                           constraints=EqualizedOdds(),\n",
    "                           grid_size=45)\n",
    "\n",
    "gs_rfEO_model.fit(X_train, y_train, \n",
    "                  sensitive_features = X_train['LANGUAGE_ENGL'])\n",
    "y_pred_gs_rfEO = gs_rfEO_model.predict(X_test)\n",
    "\n",
    "# display performance \n",
    "print(\"\\n\", \"Prediction Scores:\", \"\\n\", \n",
    "      classification_report(y_test, y_pred_gs_rfEO, \n",
    "       target_names=['LOS <= mean', 'LOS > mean']))\n"
   ]
  },
  {
   "cell_type": "markdown",
   "metadata": {},
   "source": [
    "#### Fair GridSearch Using Demographic Parity as Constraint"
   ]
  },
  {
   "cell_type": "code",
   "execution_count": null,
   "metadata": {
    "tags": []
   },
   "outputs": [],
   "source": [
    "# Train GridSearch\n",
    "gs_rfDP_model = GridSearch(RandomForestClassifier(**rf_params),\n",
    "                           constraints=DemographicParity(),\n",
    "                           grid_size=45)\n",
    "\n",
    "gs_rfDP_model.fit(X_train, y_train, \n",
    "                  sensitive_features=X_train['LANGUAGE_ENGL'])\n",
    "y_pred_gs_rfDP = gs_rfDP_model.predict(X_test)\n",
    "\n",
    "# display performance \n",
    "print(\"\\n\", \"Prediction Scores:\", \"\\n\", \n",
    "      classification_report(y_test, y_pred_gs_rfDP, \n",
    "       target_names=['LOS <= mean', 'LOS > mean']))\n"
   ]
  },
  {
   "cell_type": "markdown",
   "metadata": {},
   "source": [
    "----\n",
    "# Model Comparison <a name=\"part3\"></a>\n"
   ]
  },
  {
   "cell_type": "markdown",
   "metadata": {},
   "source": [
    "## Set the Required Variables  \n",
    "\n",
    "* X (NumPy array or similar pandas object): test data to be passed to the models to generate predictions. It's recommended that these be separate data from those used to train the model.\n",
    "\n",
    "* y (NumPy array or similar pandas object): target data array corresponding to X. It is recommended that the target is not present in the test_data.\n",
    "\n",
    "* models (list or dict-like): the set of trained models to be evaluated. Note that the dictionary keys are assumed as model names. If a list-like object is passed, the function will set model names relative to their index (i.e. \"model_0\", \"model_1\", etc.)\n",
    "\n",
    "* protected_attr (NumPy array or similar pandas object): protected attributes corresponding to X, optionally also included in X. Note that values must currently be binary- or Boolean-type.\n"
   ]
  },
  {
   "cell_type": "code",
   "execution_count": null,
   "metadata": {
    "tags": []
   },
   "outputs": [],
   "source": [
    "X = X_test\n",
    "y = y_test\n",
    "protected_attr = X_test['LANGUAGE_ENGL']\n",
    "models = {'rf_model': rf_model,\n",
    "         'gs_rfEO_model': gs_rfEO_model, 'gs_rfDP_model': gs_rfDP_model,\n",
    "         'eg_rfEO_model': eg_rfEO_model, 'eg_rfDP_model': eg_rfDP_model}\n",
    "display(\"Models being compared in this example:\", list(models.keys()))\n"
   ]
  },
  {
   "cell_type": "markdown",
   "metadata": {},
   "source": [
    "## Comparison with the FairMLHealth Tool\n",
    "\n",
    "The FairMLHealth model comparison tool generates a table of fairness measures that can be used to quickly compare the fairness-performance tradeoff for a set of fairness-aware models. \n",
    "\n",
    "Note that there is some additional formatting added to the cell below simply to add highlighting for this example."
   ]
  },
  {
   "cell_type": "code",
   "execution_count": null,
   "metadata": {
    "tags": []
   },
   "outputs": [],
   "source": [
    "# Generate comparison table (returned as a pandas dataframe)\n",
    "comparison = fhmc.compare_models(X, y, protected_attr, models)\n",
    "\n",
    "# Here we determine the indices for equal odds measures so that we can highlight according\n",
    "#    to those indices later\n",
    "idx = pd.IndexSlice\n",
    "eotag = idx[:, ['Equal Opportunity Difference', 'Equalized Odds Difference',\n",
    "                 'Equalized Odds Ratio']\n",
    "            ]\n",
    "equal_odds = comparison.loc[eotag, :].index\n",
    "\n",
    "# Here we return the flagged table as a pandas styler so we can also highlight \n",
    "#       measures of Equal Odds\n",
    "reports.flag_suspicious(comparison, as_styler=True\n",
    "       ).apply(lambda x: ['background-color:' + ks_magenta_lt \n",
    "                          if x.name in equal_odds else '' for i in x]\n",
    "                , axis=1)\n",
    "\n"
   ]
  },
  {
   "cell_type": "markdown",
   "metadata": {},
   "source": [
    "# References\n",
    "\n",
    "<a name=\"Agarwal2018\"></a>\n",
    "Agarwal, A., Beygelzimer, A., Dudík, M., Langford, J., & Wallach, H. (2018). A reductions approach to fair classification. [rXiv preprint arXiv:1803.02453](https://arxiv.org/pdf/1803.02453.pdf)."
   ]
  }
 ],
 "metadata": {
  "kernelspec": {
   "display_name": "Python 3",
   "language": "python",
   "name": "python3"
  },
  "language_info": {
   "codemirror_mode": {
    "name": "ipython",
    "version": 3
   },
   "file_extension": ".py",
   "mimetype": "text/x-python",
   "name": "python",
   "nbconvert_exporter": "python",
   "pygments_lexer": "ipython3",
   "version": "3.7.7"
  }
 },
 "nbformat": 4,
 "nbformat_minor": 2
}

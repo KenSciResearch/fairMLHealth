{
 "cells": [
  {
   "cell_type": "markdown",
   "metadata": {},
   "source": [
    "# Binary Classification Fairness Assessment Template - Example\n",
    "\n",
    "## About\n",
    "This example is intended as a simple illustration of the [Binary Classification Fairness Assessment Template](../templates/Template-BinaryClassificationAssessment.ipynb). It compares a Random Forest Classifier against fairness-aware alternative versions of that same classifier. For more information about the specific measures used, please see the [Measuring Fairness in Binary Classification Tutorial](../tutorials_and_examples/Tutorial-MeasuringFairnessInBinaryClassification.ipynb).\n",
    "\n",
    "For simplicity, only two fairness-aware algorithms are compared in this notebook. However, several other fairness-aware models were tested during development. For a peek at that process, see [Supplemental - Models for Binary Classification Example](../tutorials_and_examples/Supplemental-ModelsForBinaryClassificationExample.ipynb).\n",
    "\n",
    "## Example Contents\n",
    "\n",
    "[Part 0](#part0) - Data Loading and Baseline Model Setup\n",
    "\n",
    "[Part 1](#part1) - Measuring a Single (Baseline) Model\n",
    "\n",
    "[Part 2](#part2) - Fairness-Aware Models\n",
    "\n",
    "[Part 3](#part3) - Compare Several Models\n"
   ]
  },
  {
   "cell_type": "code",
   "execution_count": 1,
   "metadata": {},
   "outputs": [],
   "source": [
    "from IPython.display import Markdown, HTML\n",
    "from fairmlhealth import model_comparison as fhmc, reports, stratified_reports, tutorial_helpers as helpers\n",
    "import numpy as np\n",
    "import pandas as pd\n"
   ]
  },
  {
   "cell_type": "markdown",
   "metadata": {},
   "source": [
    "----\n",
    "----\n",
    "# Load (or Generate) Data and Models <a name=\"part0\"></a>\n",
    "\n",
    "Here you should load (or generate) your test dataset and models."
   ]
  },
  {
   "cell_type": "markdown",
   "metadata": {},
   "source": [
    "## MIMIC-III\n",
    "\n",
    "This example uses a simple data subset from the [MIMIC-III clinical database](https://mimic.physionet.org/gettingstarted/access/) to predict the length of ICU stay (LOS) for a set of encounters. MIMIC-III is a freely available database, however all users must pass a quick human subjects certification course. For the example, LOS is the total intensive care unit (ICU) time for a given hospital admission in patients 65 and above. The raw LOS value is then converted to a binary value specifying whether an admission's length of stay is greater than the sample mean. \n",
    "\n",
    "Note that the code below will automatically unzip and format all necessary data for these experiments from a raw download of MIMIC-III data (saving the formatted data in the same MIMIC folder). If you would like to run this example on your own, [follow these steps to be granted access to MIMIC III](https://mimic.physionet.org/gettingstarted/access/) and download the data.\n"
   ]
  },
  {
   "cell_type": "markdown",
   "metadata": {},
   "source": [
    "## Data Subset\n",
    "\n",
    "Data are imported at the encounter level with all additional patient identification dropped. Boolean diagnosis and procedure features are categorized through the Clinical Classifications Software system ([HCUP](https://www.hcup-us.ahrq.gov/toolssoftware/ccs/ccs.jsp)). All features other than age are one-hot encoded and prefixed with their variable type (e.g. \"GENDER_\", \"ETHNICITY_\").  \n"
   ]
  },
  {
   "cell_type": "code",
   "execution_count": 2,
   "metadata": {},
   "outputs": [],
   "source": [
    "# path_to_mimic_data_folder = \"[path to folder containing your MIMIC-III zip files]\"\n",
    "path_to_mimic_data_folder = \"~/data/MIMIC\""
   ]
  },
  {
   "cell_type": "code",
   "execution_count": 3,
   "metadata": {
    "tags": []
   },
   "outputs": [],
   "source": [
    "# Load data and keep a 10K observation subset to speed processing\n",
    "df = load_mimic3_example(path_to_mimic_data_folder) \n",
    "df = df.sample(n=10000, random_state=42)\n",
    "\n",
    "# Subset to ages 65+\n",
    "df = df.loc[df['AGE'].ge(65), :]\n",
    "df.drop('GENDER_F', axis=1, inplace=True) # Redundant with GENDER_M\n",
    "\n",
    "\n",
    "# Generate a binary target flagging whether an observation's length_of_stay value is above or below the mean. \n",
    "mean_val = df['length_of_stay'].mean()\n",
    "df['long_los'] = df['length_of_stay'].apply(lambda x: 1 if x > mean_val else 0)"
   ]
  },
  {
   "cell_type": "markdown",
   "metadata": {},
   "source": [
    "## Split Data"
   ]
  },
  {
   "cell_type": "code",
   "execution_count": 4,
   "metadata": {},
   "outputs": [],
   "source": [
    "from sklearn.model_selection import train_test_split\n",
    "\n",
    "# Subset and Split Data\n",
    "X = df.loc[:, [c for c in df.columns \n",
    "                if c not in ['ADMIT_ID', 'length_of_stay', 'long_los']]]\n",
    "y = df.loc[:, ['long_los']]\n",
    "splits = train_test_split(X, y, stratify=y, test_size=0.33, random_state=42)\n",
    "X_train, X_test, y_train, y_test=splits"
   ]
  },
  {
   "cell_type": "markdown",
   "metadata": {},
   "source": [
    "## Test Baseline\n",
    "\n",
    "A Scikit-Learn Random Forest Classifier serves as our basis for comparison. Parameters were tuned using Scikit-Learn's GridSearch in the [Supplemental - Models for Binary Classification Example](../tutorials_and_examples/Supplemental-ModelsForBinaryClassificationExample.ipynb)."
   ]
  },
  {
   "cell_type": "code",
   "execution_count": 5,
   "metadata": {},
   "outputs": [],
   "source": [
    "from sklearn.metrics import classification_report\n",
    "from sklearn.ensemble import RandomForestClassifier"
   ]
  },
  {
   "cell_type": "code",
   "execution_count": 6,
   "metadata": {
    "tags": []
   },
   "outputs": [
    {
     "name": "stdout",
     "output_type": "stream",
     "text": [
      "\n",
      " Random Forest Prediction Scores: \n",
      "               precision    recall  f1-score   support\n",
      "\n",
      " LOS <= mean       0.77      0.89      0.83      4531\n",
      "  LOS > mean       0.77      0.58      0.66      2873\n",
      "\n",
      "    accuracy                           0.77      7404\n",
      "   macro avg       0.77      0.74      0.74      7404\n",
      "weighted avg       0.77      0.77      0.76      7404\n",
      "\n"
     ]
    }
   ],
   "source": [
    "# Set model parameters (currently set as default values, but defined here to be explicit)\n",
    "rf_params = {'n_estimators': 1800, 'min_samples_split': 5, 'bootstrap': False}\n",
    "\n",
    "# Train Model\n",
    "rf_model = RandomForestClassifier(**rf_params)\n",
    "rf_model.fit(X_train, y_train.iloc[:, 0])\n",
    "y_pred_rf = rf_model.predict(X_test)\n",
    "\n",
    "# display performance \n",
    "print(\"\\n\", \"Random Forest Prediction Scores:\", \"\\n\", \n",
    "      classification_report(y_test, y_pred_rf, target_names=['LOS <= mean', 'LOS > mean']))"
   ]
  },
  {
   "cell_type": "markdown",
   "metadata": {},
   "source": [
    "----\n",
    "----\n",
    "# Evaluate a Single (Baseline) Model <a name=\"part1\"></a>\n",
    "\n",
    "### Required Variables  \n",
    "\n",
    "- X_test = test data to be passed to the models to generate predictions.\n",
    "- y_test = target data array corresponding to X. \n",
    "- X_test['LANGUAGE_ENGL'] = protected attributes data corresponding to X, optionally also included in X. \n",
    "- rf_model = the trained model to be evaluated. \n"
   ]
  },
  {
   "cell_type": "code",
   "execution_count": 7,
   "metadata": {},
   "outputs": [
    {
     "data": {
      "text/html": [
       "<style  type=\"text/css\" >\n",
       "</style><table id=\"T_3c3d7a6e_67fd_11eb_ba0a_f0189849bf4b\" ><thead>    <tr>        <th class=\"blank\" ></th>        <th class=\"blank level0\" ></th>        <th class=\"col_heading level0 col0\" >Value</th>    </tr>    <tr>        <th class=\"index_name level0\" >Metric</th>        <th class=\"index_name level1\" >Measure</th>        <th class=\"blank\" ></th>    </tr></thead><tbody>\n",
       "                <tr>\n",
       "                        <th id=\"T_3c3d7a6e_67fd_11eb_ba0a_f0189849bf4blevel0_row0\" class=\"row_heading level0 row0\" rowspan=8>Group Fairness</th>\n",
       "                        <th id=\"T_3c3d7a6e_67fd_11eb_ba0a_f0189849bf4blevel1_row0\" class=\"row_heading level1 row0\" >Statistical Parity Difference</th>\n",
       "                        <td id=\"T_3c3d7a6e_67fd_11eb_ba0a_f0189849bf4brow0_col0\" class=\"data row0 col0\" >0.048600</td>\n",
       "            </tr>\n",
       "            <tr>\n",
       "                                <th id=\"T_3c3d7a6e_67fd_11eb_ba0a_f0189849bf4blevel1_row1\" class=\"row_heading level1 row1\" >Disparate Impact Ratio</th>\n",
       "                        <td id=\"T_3c3d7a6e_67fd_11eb_ba0a_f0189849bf4brow1_col0\" class=\"data row1 col0\" >1.181700</td>\n",
       "            </tr>\n",
       "            <tr>\n",
       "                                <th id=\"T_3c3d7a6e_67fd_11eb_ba0a_f0189849bf4blevel1_row2\" class=\"row_heading level1 row2\" >Equalized Odds Difference</th>\n",
       "                        <td id=\"T_3c3d7a6e_67fd_11eb_ba0a_f0189849bf4brow2_col0\" class=\"data row2 col0\" >0.022900</td>\n",
       "            </tr>\n",
       "            <tr>\n",
       "                                <th id=\"T_3c3d7a6e_67fd_11eb_ba0a_f0189849bf4blevel1_row3\" class=\"row_heading level1 row3\" >Equalized Odds Ratio</th>\n",
       "                        <td id=\"T_3c3d7a6e_67fd_11eb_ba0a_f0189849bf4brow3_col0\" class=\"data row3 col0\" >0.826000</td>\n",
       "            </tr>\n",
       "            <tr>\n",
       "                                <th id=\"T_3c3d7a6e_67fd_11eb_ba0a_f0189849bf4blevel1_row4\" class=\"row_heading level1 row4\" >Positive Predictive Parity Difference</th>\n",
       "                        <td id=\"T_3c3d7a6e_67fd_11eb_ba0a_f0189849bf4brow4_col0\" class=\"data row4 col0\" >0.015900</td>\n",
       "            </tr>\n",
       "            <tr>\n",
       "                                <th id=\"T_3c3d7a6e_67fd_11eb_ba0a_f0189849bf4blevel1_row5\" class=\"row_heading level1 row5\" >Balanced Accuracy Difference</th>\n",
       "                        <td id=\"T_3c3d7a6e_67fd_11eb_ba0a_f0189849bf4brow5_col0\" class=\"data row5 col0\" >0.001100</td>\n",
       "            </tr>\n",
       "            <tr>\n",
       "                                <th id=\"T_3c3d7a6e_67fd_11eb_ba0a_f0189849bf4blevel1_row6\" class=\"row_heading level1 row6\" >Balanced Accuracy Ratio</th>\n",
       "                        <td id=\"T_3c3d7a6e_67fd_11eb_ba0a_f0189849bf4brow6_col0\" class=\"data row6 col0\" >1.001500</td>\n",
       "            </tr>\n",
       "            <tr>\n",
       "                                <th id=\"T_3c3d7a6e_67fd_11eb_ba0a_f0189849bf4blevel1_row7\" class=\"row_heading level1 row7\" >AUC Difference</th>\n",
       "                        <td id=\"T_3c3d7a6e_67fd_11eb_ba0a_f0189849bf4brow7_col0\" class=\"data row7 col0\" >0.003500</td>\n",
       "            </tr>\n",
       "            <tr>\n",
       "                        <th id=\"T_3c3d7a6e_67fd_11eb_ba0a_f0189849bf4blevel0_row8\" class=\"row_heading level0 row8\" rowspan=2>Individual Fairness</th>\n",
       "                        <th id=\"T_3c3d7a6e_67fd_11eb_ba0a_f0189849bf4blevel1_row8\" class=\"row_heading level1 row8\" >Consistency Score</th>\n",
       "                        <td id=\"T_3c3d7a6e_67fd_11eb_ba0a_f0189849bf4brow8_col0\" class=\"data row8 col0\" >0.807600</td>\n",
       "            </tr>\n",
       "            <tr>\n",
       "                                <th id=\"T_3c3d7a6e_67fd_11eb_ba0a_f0189849bf4blevel1_row9\" class=\"row_heading level1 row9\" >Between-Group Gen. Entropy Error</th>\n",
       "                        <td id=\"T_3c3d7a6e_67fd_11eb_ba0a_f0189849bf4brow9_col0\" class=\"data row9 col0\" >0.000000</td>\n",
       "            </tr>\n",
       "            <tr>\n",
       "                        <th id=\"T_3c3d7a6e_67fd_11eb_ba0a_f0189849bf4blevel0_row10\" class=\"row_heading level0 row10\" >Data Metrics</th>\n",
       "                        <th id=\"T_3c3d7a6e_67fd_11eb_ba0a_f0189849bf4blevel1_row10\" class=\"row_heading level1 row10\" >Prevalence of Privileged Class (%)</th>\n",
       "                        <td id=\"T_3c3d7a6e_67fd_11eb_ba0a_f0189849bf4brow10_col0\" class=\"data row10 col0\" >39.000000</td>\n",
       "            </tr>\n",
       "    </tbody></table>"
      ],
      "text/plain": [
       "<IPython.core.display.HTML object>"
      ]
     },
     "execution_count": 7,
     "metadata": {},
     "output_type": "execute_result"
    }
   ],
   "source": [
    "# Generate comparison table (returned as a pandas dataframe)\n",
    "meas = fhmc.measure_model(X_test, y_test, X_test['LANGUAGE_ENGL'], rf_model)\n",
    "reports.flag(meas)"
   ]
  },
  {
   "cell_type": "markdown",
   "metadata": {},
   "source": [
    "#### Stratified Data Report\n",
    "\n",
    "FairMLHealth includes stratified reporting features to aid in identifying the source of unfairness or other bias. The data reporter evaluates basic statistics specific to each feature-value, in addition to relative statistics for the target value. Since the reporter can evaluate many features at once, it can be a useful option for identifying patterns of bias either alone or in concert with other (e.g., visual methods)."
   ]
  },
  {
   "cell_type": "code",
   "execution_count": 8,
   "metadata": {},
   "outputs": [
    {
     "data": {
      "text/html": [
       "<div>\n",
       "<style scoped>\n",
       "    .dataframe tbody tr th:only-of-type {\n",
       "        vertical-align: middle;\n",
       "    }\n",
       "\n",
       "    .dataframe tbody tr th {\n",
       "        vertical-align: top;\n",
       "    }\n",
       "\n",
       "    .dataframe thead th {\n",
       "        text-align: right;\n",
       "    }\n",
       "</style>\n",
       "<table border=\"1\" class=\"dataframe\">\n",
       "  <thead>\n",
       "    <tr style=\"text-align: right;\">\n",
       "      <th></th>\n",
       "      <th>FEATURE</th>\n",
       "      <th>FEATURE VALUE</th>\n",
       "      <th>N OBS</th>\n",
       "      <th>N MISSING</th>\n",
       "      <th>FEATURE ENTROPY</th>\n",
       "      <th>VALUE PREVALENCE</th>\n",
       "      <th>Y MAX</th>\n",
       "      <th>Y MEAN</th>\n",
       "      <th>Y MEDIAN</th>\n",
       "      <th>Y MIN</th>\n",
       "      <th>Y STDV</th>\n",
       "    </tr>\n",
       "  </thead>\n",
       "  <tbody>\n",
       "    <tr>\n",
       "      <th>0</th>\n",
       "      <td>ALL_FEATURES</td>\n",
       "      <td>ALL_VALUES</td>\n",
       "      <td>7404.0</td>\n",
       "      <td>0</td>\n",
       "      <td>NaN</td>\n",
       "      <td>1.0000</td>\n",
       "      <td>1.0</td>\n",
       "      <td>0.3880</td>\n",
       "      <td>0.0</td>\n",
       "      <td>0.0</td>\n",
       "      <td>0.4873</td>\n",
       "    </tr>\n",
       "    <tr>\n",
       "      <th>1</th>\n",
       "      <td>LANGUAGE_ENGL</td>\n",
       "      <td>0</td>\n",
       "      <td>3356.0</td>\n",
       "      <td>0</td>\n",
       "      <td>0.9937</td>\n",
       "      <td>0.4533</td>\n",
       "      <td>1.0</td>\n",
       "      <td>0.4195</td>\n",
       "      <td>0.0</td>\n",
       "      <td>0.0</td>\n",
       "      <td>0.4936</td>\n",
       "    </tr>\n",
       "    <tr>\n",
       "      <th>2</th>\n",
       "      <td>LANGUAGE_ENGL</td>\n",
       "      <td>1</td>\n",
       "      <td>4048.0</td>\n",
       "      <td>0</td>\n",
       "      <td>0.9937</td>\n",
       "      <td>0.5467</td>\n",
       "      <td>1.0</td>\n",
       "      <td>0.3619</td>\n",
       "      <td>0.0</td>\n",
       "      <td>0.0</td>\n",
       "      <td>0.4806</td>\n",
       "    </tr>\n",
       "  </tbody>\n",
       "</table>\n",
       "</div>"
      ],
      "text/plain": [
       "         FEATURE FEATURE VALUE   N OBS  N MISSING  FEATURE ENTROPY  \\\n",
       "0   ALL_FEATURES    ALL_VALUES  7404.0          0              NaN   \n",
       "1  LANGUAGE_ENGL             0  3356.0          0           0.9937   \n",
       "2  LANGUAGE_ENGL             1  4048.0          0           0.9937   \n",
       "\n",
       "   VALUE PREVALENCE  Y MAX  Y MEAN  Y MEDIAN  Y MIN  Y STDV  \n",
       "0            1.0000    1.0  0.3880       0.0    0.0  0.4873  \n",
       "1            0.4533    1.0  0.4195       0.0    0.0  0.4936  \n",
       "2            0.5467    1.0  0.3619       0.0    0.0  0.4806  "
      ]
     },
     "execution_count": 8,
     "metadata": {},
     "output_type": "execute_result"
    }
   ],
   "source": [
    "stratified_reports.data_report(X_test['LANGUAGE_ENGL'], y_test)"
   ]
  },
  {
   "cell_type": "markdown",
   "metadata": {},
   "source": [
    "#### Stratified Performance Report\n",
    "\n",
    "The stratified classification_performance reporter evaluates model performance specific to each feature-value subset. If prediction probabilities (via the *predict_proba()* method) are available to the model, additional ROC_AUC and PR_AUC values will be included."
   ]
  },
  {
   "cell_type": "code",
   "execution_count": 9,
   "metadata": {},
   "outputs": [
    {
     "data": {
      "text/html": [
       "<div>\n",
       "<style scoped>\n",
       "    .dataframe tbody tr th:only-of-type {\n",
       "        vertical-align: middle;\n",
       "    }\n",
       "\n",
       "    .dataframe tbody tr th {\n",
       "        vertical-align: top;\n",
       "    }\n",
       "\n",
       "    .dataframe thead th {\n",
       "        text-align: right;\n",
       "    }\n",
       "</style>\n",
       "<table border=\"1\" class=\"dataframe\">\n",
       "  <thead>\n",
       "    <tr style=\"text-align: right;\">\n",
       "      <th></th>\n",
       "      <th>FEATURE</th>\n",
       "      <th>FEATURE VALUE</th>\n",
       "      <th>N OBS</th>\n",
       "      <th>TRUE MEAN</th>\n",
       "      <th>PRED MEAN</th>\n",
       "      <th>ACCURACY</th>\n",
       "      <th>FNR</th>\n",
       "      <th>FPR</th>\n",
       "      <th>PRECISION (PPV)</th>\n",
       "      <th>PR_AUC</th>\n",
       "      <th>ROC_AUC</th>\n",
       "      <th>TNR</th>\n",
       "      <th>TPR</th>\n",
       "    </tr>\n",
       "  </thead>\n",
       "  <tbody>\n",
       "    <tr>\n",
       "      <th>0</th>\n",
       "      <td>ALL_FEATURES</td>\n",
       "      <td>ALL_VALUES</td>\n",
       "      <td>7404.0</td>\n",
       "      <td>0.3880</td>\n",
       "      <td>0.2893</td>\n",
       "      <td>0.7705</td>\n",
       "      <td>0.4229</td>\n",
       "      <td>0.1068</td>\n",
       "      <td>0.7740</td>\n",
       "      <td>0.3060</td>\n",
       "      <td>0.5</td>\n",
       "      <td>0.8932</td>\n",
       "      <td>0.5771</td>\n",
       "    </tr>\n",
       "    <tr>\n",
       "      <th>1</th>\n",
       "      <td>LANGUAGE_ENGL</td>\n",
       "      <td>0</td>\n",
       "      <td>3356.0</td>\n",
       "      <td>0.4195</td>\n",
       "      <td>0.3159</td>\n",
       "      <td>0.7586</td>\n",
       "      <td>0.4112</td>\n",
       "      <td>0.1186</td>\n",
       "      <td>0.7821</td>\n",
       "      <td>0.2902</td>\n",
       "      <td>0.5</td>\n",
       "      <td>0.8814</td>\n",
       "      <td>0.5888</td>\n",
       "    </tr>\n",
       "    <tr>\n",
       "      <th>2</th>\n",
       "      <td>LANGUAGE_ENGL</td>\n",
       "      <td>1</td>\n",
       "      <td>4048.0</td>\n",
       "      <td>0.3619</td>\n",
       "      <td>0.2673</td>\n",
       "      <td>0.7804</td>\n",
       "      <td>0.4341</td>\n",
       "      <td>0.0979</td>\n",
       "      <td>0.7662</td>\n",
       "      <td>0.3190</td>\n",
       "      <td>0.5</td>\n",
       "      <td>0.9021</td>\n",
       "      <td>0.5659</td>\n",
       "    </tr>\n",
       "  </tbody>\n",
       "</table>\n",
       "</div>"
      ],
      "text/plain": [
       "         FEATURE FEATURE VALUE   N OBS  TRUE MEAN  PRED MEAN  ACCURACY  \\\n",
       "0   ALL_FEATURES    ALL_VALUES  7404.0     0.3880     0.2893    0.7705   \n",
       "1  LANGUAGE_ENGL             0  3356.0     0.4195     0.3159    0.7586   \n",
       "2  LANGUAGE_ENGL             1  4048.0     0.3619     0.2673    0.7804   \n",
       "\n",
       "      FNR     FPR  PRECISION (PPV)  PR_AUC  ROC_AUC     TNR     TPR  \n",
       "0  0.4229  0.1068           0.7740  0.3060      0.5  0.8932  0.5771  \n",
       "1  0.4112  0.1186           0.7821  0.2902      0.5  0.8814  0.5888  \n",
       "2  0.4341  0.0979           0.7662  0.3190      0.5  0.9021  0.5659  "
      ]
     },
     "execution_count": 9,
     "metadata": {},
     "output_type": "execute_result"
    }
   ],
   "source": [
    "stratified_reports.classification_performance(X_test['LANGUAGE_ENGL'], y_test, y_pred_rf)"
   ]
  },
  {
   "cell_type": "markdown",
   "metadata": {},
   "source": [
    "#### Stratified Fairness Report\n",
    "\n",
    "The stratified classification_fairness reporter evaluates model fairness specific to each feature-value subset. It assumes each feature-value as the \"privileged\" group relative to all other possible values for the feature. To simplify the report, fairness measures have been simplified to their component parts. For example, measures of Equalized Odds can be determined by combining the True Positive Rate (TPR) Ratios & Differences with False Positive Rate (FPR) Ratios & Differences.\n",
    "\n"
   ]
  },
  {
   "cell_type": "code",
   "execution_count": 10,
   "metadata": {},
   "outputs": [
    {
     "data": {
      "text/html": [
       "<div>\n",
       "<style scoped>\n",
       "    .dataframe tbody tr th:only-of-type {\n",
       "        vertical-align: middle;\n",
       "    }\n",
       "\n",
       "    .dataframe tbody tr th {\n",
       "        vertical-align: top;\n",
       "    }\n",
       "\n",
       "    .dataframe thead th {\n",
       "        text-align: right;\n",
       "    }\n",
       "</style>\n",
       "<table border=\"1\" class=\"dataframe\">\n",
       "  <thead>\n",
       "    <tr style=\"text-align: right;\">\n",
       "      <th></th>\n",
       "      <th>FEATURE</th>\n",
       "      <th>FEATURE VALUE</th>\n",
       "      <th>N OBS</th>\n",
       "      <th>FNR Diff</th>\n",
       "      <th>FNR Ratio</th>\n",
       "      <th>FPR Diff</th>\n",
       "      <th>FPR Ratio</th>\n",
       "      <th>PPV Diff</th>\n",
       "      <th>PPV Ratio</th>\n",
       "      <th>TNR Diff</th>\n",
       "      <th>TNR Ratio</th>\n",
       "      <th>TPR Diff</th>\n",
       "      <th>TPR Ratio</th>\n",
       "    </tr>\n",
       "  </thead>\n",
       "  <tbody>\n",
       "    <tr>\n",
       "      <th>0</th>\n",
       "      <td>LANGUAGE_ENGL</td>\n",
       "      <td>0</td>\n",
       "      <td>3356.0</td>\n",
       "      <td>0.0229</td>\n",
       "      <td>1.0557</td>\n",
       "      <td>-0.0206</td>\n",
       "      <td>0.8260</td>\n",
       "      <td>-0.0159</td>\n",
       "      <td>-0.0159</td>\n",
       "      <td>0.0206</td>\n",
       "      <td>1.0234</td>\n",
       "      <td>-0.0229</td>\n",
       "      <td>0.9611</td>\n",
       "    </tr>\n",
       "    <tr>\n",
       "      <th>1</th>\n",
       "      <td>LANGUAGE_ENGL</td>\n",
       "      <td>1</td>\n",
       "      <td>4048.0</td>\n",
       "      <td>-0.0229</td>\n",
       "      <td>0.9472</td>\n",
       "      <td>0.0206</td>\n",
       "      <td>1.2107</td>\n",
       "      <td>0.0159</td>\n",
       "      <td>0.0159</td>\n",
       "      <td>-0.0206</td>\n",
       "      <td>0.9771</td>\n",
       "      <td>0.0229</td>\n",
       "      <td>1.0405</td>\n",
       "    </tr>\n",
       "  </tbody>\n",
       "</table>\n",
       "</div>"
      ],
      "text/plain": [
       "         FEATURE FEATURE VALUE   N OBS  FNR Diff  FNR Ratio  FPR Diff  \\\n",
       "0  LANGUAGE_ENGL             0  3356.0    0.0229     1.0557   -0.0206   \n",
       "1  LANGUAGE_ENGL             1  4048.0   -0.0229     0.9472    0.0206   \n",
       "\n",
       "   FPR Ratio  PPV Diff  PPV Ratio  TNR Diff  TNR Ratio  TPR Diff  TPR Ratio  \n",
       "0     0.8260   -0.0159    -0.0159    0.0206     1.0234   -0.0229     0.9611  \n",
       "1     1.2107    0.0159     0.0159   -0.0206     0.9771    0.0229     1.0405  "
      ]
     },
     "execution_count": 10,
     "metadata": {},
     "output_type": "execute_result"
    }
   ],
   "source": [
    "stratified_reports.classification_fairness(X_test['LANGUAGE_ENGL'], y_test, y_pred_rf)"
   ]
  },
  {
   "cell_type": "markdown",
   "metadata": {},
   "source": [
    "----\n",
    "# Generate Fairness-Aware Models <a name=\"part2\"></a>\n"
   ]
  },
  {
   "cell_type": "markdown",
   "metadata": {},
   "source": [
    "## Fairlearn Models\n",
    "\n",
    "The [Fairlearn](https://fairlearn.github.io/) package includes three [mitigation algorithms](https://fairlearn.github.io/user_guide/mitigation.html) designed to increase the fairness of an existing model relative to one of two user-specified fairness metrics. Both algorithms and metrics are listed in the cell below.\n",
    "\n",
    "For more information about the specifics of these fairness metrics, see [Part 5 of the Measuring Fairness in Binary Classification Tutorial](../tutorials_and_examples/Tutorial-MeasuringFairnessInBinaryClassification.ipynb#part5)."
   ]
  },
  {
   "cell_type": "code",
   "execution_count": 11,
   "metadata": {},
   "outputs": [],
   "source": [
    "# Mitigation Algorithms\n",
    "from fairlearn.reductions import GridSearch, ExponentiatedGradient\n",
    "\n",
    "# Fairness Measures\n",
    "from fairlearn.reductions import EqualizedOdds, DemographicParity "
   ]
  },
  {
   "cell_type": "markdown",
   "metadata": {},
   "source": [
    "### Fair ExponentiatedGradient\n",
    "\n",
    "Fairlearn's ExponentiatedGradient is a wrapper that runs a constrained optimization using the Exponentiated Gradient approach on a binary classification model. It treats the prediction as a sequence of cost-sensitive classification problems, returning the solution with the smallest error (constrained by the metric of choice). This approach has been demonstrated to have minimal effect on model performance by some measures. [[Agarwal2018]](#Agarwal2018)\n",
    "\n",
    "This approach is applicable to sensitive attributes that are either categorical or binary/Boolean. It can be used for classification problems only.\n",
    "\n",
    "Note: solutions are not guaranteed for this approach.\n"
   ]
  },
  {
   "cell_type": "code",
   "execution_count": 12,
   "metadata": {},
   "outputs": [],
   "source": [
    "# Set seed for consistent results with Fairlearn's ExponentiatedGradient\n",
    "np.random.seed(36)  "
   ]
  },
  {
   "cell_type": "markdown",
   "metadata": {},
   "source": [
    "#### Fair ExponentiatedGradient Using Demographic Parity as Constraint"
   ]
  },
  {
   "cell_type": "code",
   "execution_count": 13,
   "metadata": {
    "tags": []
   },
   "outputs": [
    {
     "name": "stdout",
     "output_type": "stream",
     "text": [
      "\n",
      " Prediction Scores: \n",
      "               precision    recall  f1-score   support\n",
      "\n",
      " LOS <= mean       0.74      0.89      0.81      4531\n",
      "  LOS > mean       0.74      0.52      0.61      2873\n",
      "\n",
      "    accuracy                           0.74      7404\n",
      "   macro avg       0.74      0.70      0.71      7404\n",
      "weighted avg       0.74      0.74      0.73      7404\n",
      "\n"
     ]
    }
   ],
   "source": [
    "eg_rfDP_model = ExponentiatedGradient(RandomForestClassifier(**rf_params), \n",
    "                                      constraints=DemographicParity()) \n",
    "eg_rfDP_model.fit(X_train, y_train,\n",
    "                  sensitive_features=X_train['LANGUAGE_ENGL'])\n",
    "y_pred_eg_rfDP = eg_rfDP_model.predict(X_test)\n",
    "\n",
    "# display performance \n",
    "print(\"\\n\", \"Prediction Scores:\", \"\\n\", \n",
    "      classification_report(y_test, y_pred_eg_rfDP, \n",
    "       target_names=['LOS <= mean', 'LOS > mean']))\n"
   ]
  },
  {
   "cell_type": "markdown",
   "metadata": {},
   "source": [
    "#### Fair ExponentiatedGradient Using Equalized Odds as Constraint"
   ]
  },
  {
   "cell_type": "code",
   "execution_count": 14,
   "metadata": {
    "tags": []
   },
   "outputs": [
    {
     "name": "stdout",
     "output_type": "stream",
     "text": [
      "\n",
      " Prediction Scores: \n",
      "               precision    recall  f1-score   support\n",
      "\n",
      " LOS <= mean       0.77      0.89      0.83      4531\n",
      "  LOS > mean       0.77      0.58      0.66      2873\n",
      "\n",
      "    accuracy                           0.77      7404\n",
      "   macro avg       0.77      0.74      0.74      7404\n",
      "weighted avg       0.77      0.77      0.76      7404\n",
      "\n"
     ]
    }
   ],
   "source": [
    "eg_rfEO_model = ExponentiatedGradient(RandomForestClassifier(**rf_params), \n",
    "                                      constraints=EqualizedOdds())  \n",
    "eg_rfEO_model.fit(X_train, y_train, \n",
    "                  sensitive_features=X_train['LANGUAGE_ENGL'])\n",
    "y_pred_eg_rfEO = eg_rfEO_model.predict(X_test)\n",
    "\n",
    "# display performance \n",
    "print(\"\\n\", \"Prediction Scores:\", \"\\n\", \n",
    "      classification_report(y_test, y_pred_eg_rfEO, \n",
    "       target_names=['LOS <= mean', 'LOS > mean']))\n"
   ]
  },
  {
   "cell_type": "markdown",
   "metadata": {},
   "source": [
    "### Fair GridSearch\n",
    "\n",
    "Fairlearn's GridSearch is a wrapper that runs a constrained optimization using the Grid Search approach  on a binary classification or a regression model. It treats the prediction as a sequence of cost-sensitive classification problems, returning the solution with the smallest error (constrained by the metric of choice). This approach has been demonstrated to have minimal effect on model performance by some measures [[Agarwal2018]](#Agarwal2018).\n",
    "\n",
    "This approach is applicable to sensitive attributes that are binary/Boolean only. It can be used for either binary classification or regression problems.\n"
   ]
  },
  {
   "cell_type": "markdown",
   "metadata": {},
   "source": [
    "#### Fair GridSearch Using Equalized Odds as Constraint"
   ]
  },
  {
   "cell_type": "code",
   "execution_count": 15,
   "metadata": {
    "tags": []
   },
   "outputs": [
    {
     "name": "stdout",
     "output_type": "stream",
     "text": [
      "\n",
      " Prediction Scores: \n",
      "               precision    recall  f1-score   support\n",
      "\n",
      " LOS <= mean       0.77      0.89      0.83      4531\n",
      "  LOS > mean       0.77      0.58      0.66      2873\n",
      "\n",
      "    accuracy                           0.77      7404\n",
      "   macro avg       0.77      0.74      0.74      7404\n",
      "weighted avg       0.77      0.77      0.76      7404\n",
      "\n"
     ]
    }
   ],
   "source": [
    "# Train GridSearch\n",
    "gs_rfEO_model = GridSearch(RandomForestClassifier(**rf_params),\n",
    "                           constraints=EqualizedOdds(),\n",
    "                           grid_size=45)\n",
    "\n",
    "gs_rfEO_model.fit(X_train, y_train, \n",
    "                  sensitive_features = X_train['LANGUAGE_ENGL'])\n",
    "y_pred_gs_rfEO = gs_rfEO_model.predict(X_test)\n",
    "\n",
    "# display performance \n",
    "print(\"\\n\", \"Prediction Scores:\", \"\\n\", \n",
    "      classification_report(y_test, y_pred_gs_rfEO, \n",
    "       target_names=['LOS <= mean', 'LOS > mean']))\n"
   ]
  },
  {
   "cell_type": "markdown",
   "metadata": {},
   "source": [
    "#### Fair GridSearch Using Demographic Parity as Constraint"
   ]
  },
  {
   "cell_type": "code",
   "execution_count": 16,
   "metadata": {
    "tags": []
   },
   "outputs": [
    {
     "name": "stdout",
     "output_type": "stream",
     "text": [
      "\n",
      " Prediction Scores: \n",
      "               precision    recall  f1-score   support\n",
      "\n",
      " LOS <= mean       0.75      0.89      0.81      4531\n",
      "  LOS > mean       0.74      0.53      0.62      2873\n",
      "\n",
      "    accuracy                           0.75      7404\n",
      "   macro avg       0.75      0.71      0.71      7404\n",
      "weighted avg       0.75      0.75      0.73      7404\n",
      "\n"
     ]
    }
   ],
   "source": [
    "# Train GridSearch\n",
    "gs_rfDP_model = GridSearch(RandomForestClassifier(**rf_params),\n",
    "                           constraints=DemographicParity(),\n",
    "                           grid_size=45)\n",
    "\n",
    "gs_rfDP_model.fit(X_train, y_train, \n",
    "                  sensitive_features=X_train['LANGUAGE_ENGL'])\n",
    "y_pred_gs_rfDP = gs_rfDP_model.predict(X_test)\n",
    "\n",
    "# display performance \n",
    "print(\"\\n\", \"Prediction Scores:\", \"\\n\", \n",
    "      classification_report(y_test, y_pred_gs_rfDP, \n",
    "       target_names=['LOS <= mean', 'LOS > mean']))\n"
   ]
  },
  {
   "cell_type": "markdown",
   "metadata": {},
   "source": [
    "----\n",
    "----\n",
    "# Compare Several Models <a name=\"part3\"></a>\n"
   ]
  },
  {
   "cell_type": "markdown",
   "metadata": {},
   "source": [
    "## Set the Required Variables  \n",
    "\n",
    "* X_data (NumPy array or similar pandas object): Test data to be passed to the models to generate predictions (or list/dict of data for each model if model inputs differ). It's recommended that these be separate data from those used to train the model.\n",
    "\n",
    "* y_data (NumPy array or similar pandas object): Target data array corresponding to X (or list/dict of labels for each model if labels differ). It is recommended that the target is not present in the test data.\n",
    "\n",
    "* pa_data (NumPy array or similar pandas object): Protected attributes corresponding to X, optionally also included in X (or list/dict of data for each model if attributes differ). Note that values must currently be binary- or Boolean-type.\n",
    "\n",
    "* models (list or dict-like): The set of trained models to be evaluated (list or dict). Note that the dictionary keys are assumed as model names. If a list-like object is passed, the function will set model names relative to their index (i.e. \"model_0\", \"model_1\", etc.)\n"
   ]
  },
  {
   "cell_type": "code",
   "execution_count": 17,
   "metadata": {
    "tags": []
   },
   "outputs": [
    {
     "data": {
      "text/plain": [
       "'Models being compared in this example:'"
      ]
     },
     "metadata": {},
     "output_type": "display_data"
    },
    {
     "data": {
      "text/plain": [
       "['rf_model',\n",
       " 'gs_rfEO_model',\n",
       " 'gs_rfDP_model',\n",
       " 'eg_rfEO_model',\n",
       " 'eg_rfDP_model']"
      ]
     },
     "metadata": {},
     "output_type": "display_data"
    }
   ],
   "source": [
    "X = X_test\n",
    "y = y_test\n",
    "protected_attr = X_test['LANGUAGE_ENGL']\n",
    "models = {'rf_model': rf_model,\n",
    "         'gs_rfEO_model': gs_rfEO_model, 'gs_rfDP_model': gs_rfDP_model,\n",
    "         'eg_rfEO_model': eg_rfEO_model, 'eg_rfDP_model': eg_rfDP_model}\n",
    "display(\"Models being compared in this example:\", list(models.keys()))\n"
   ]
  },
  {
   "cell_type": "markdown",
   "metadata": {},
   "source": [
    "## Comparison with the FairMLHealth Tool\n",
    "\n",
    "The FairMLHealth model comparison tool generates a table of fairness measures that can be used to quickly compare the fairness-performance tradeoff for a set of fairness-aware models. \n",
    "\n",
    "Note that there is some additional formatting added to the cell below simply to add highlighting for this example."
   ]
  },
  {
   "cell_type": "code",
   "execution_count": 18,
   "metadata": {},
   "outputs": [
    {
     "data": {
      "text/html": [
       "<style  type=\"text/css\" >\n",
       "#T_0881fd8c_68c3_11eb_ba0a_f0189849bf4brow1_col3,#T_0881fd8c_68c3_11eb_ba0a_f0189849bf4brow1_col4,#T_0881fd8c_68c3_11eb_ba0a_f0189849bf4brow7_col2,#T_0881fd8c_68c3_11eb_ba0a_f0189849bf4brow7_col4,#T_0881fd8c_68c3_11eb_ba0a_f0189849bf4brow8_col2,#T_0881fd8c_68c3_11eb_ba0a_f0189849bf4brow8_col4{\n",
       "            color: magenta;\n",
       "            color: magenta;\n",
       "            color: magenta;\n",
       "            color: magenta;\n",
       "            color: magenta;\n",
       "            color: magenta;\n",
       "            color: magenta;\n",
       "            color: magenta;\n",
       "        }#T_0881fd8c_68c3_11eb_ba0a_f0189849bf4brow4_col2,#T_0881fd8c_68c3_11eb_ba0a_f0189849bf4brow4_col4{\n",
       "            color: magenta;\n",
       "            color: magenta;\n",
       "            color: magenta;\n",
       "            color: magenta;\n",
       "        }#T_0881fd8c_68c3_11eb_ba0a_f0189849bf4brow5_col0,#T_0881fd8c_68c3_11eb_ba0a_f0189849bf4brow5_col1,#T_0881fd8c_68c3_11eb_ba0a_f0189849bf4brow5_col3,#T_0881fd8c_68c3_11eb_ba0a_f0189849bf4brow6_col0,#T_0881fd8c_68c3_11eb_ba0a_f0189849bf4brow6_col1,#T_0881fd8c_68c3_11eb_ba0a_f0189849bf4brow6_col3{\n",
       "            background-color: #947fed;\n",
       "            background-color: #947fed;\n",
       "            background-color: #F4F2FD;\n",
       "            background-color: #947fed;\n",
       "            background-color: #F4F2FD;\n",
       "            background-color: #E9E5FB;\n",
       "            background-color: #947fed;\n",
       "            background-color: #F4F2FD;\n",
       "            background-color: #E9E5FB;\n",
       "            background-color: #DED8F9;\n",
       "        }#T_0881fd8c_68c3_11eb_ba0a_f0189849bf4brow5_col2,#T_0881fd8c_68c3_11eb_ba0a_f0189849bf4brow5_col4{\n",
       "            color: magenta;\n",
       "            color: magenta;\n",
       "            background-color: #947fed;\n",
       "            color: magenta;\n",
       "            color: magenta;\n",
       "            background-color: #947fed;\n",
       "            background-color: #F4F2FD;\n",
       "            color: magenta;\n",
       "            color: magenta;\n",
       "            background-color: #947fed;\n",
       "            background-color: #F4F2FD;\n",
       "            background-color: #E9E5FB;\n",
       "            color: magenta;\n",
       "            color: magenta;\n",
       "            background-color: #947fed;\n",
       "            background-color: #F4F2FD;\n",
       "            background-color: #E9E5FB;\n",
       "            background-color: #DED8F9;\n",
       "        }#T_0881fd8c_68c3_11eb_ba0a_f0189849bf4brow6_col2,#T_0881fd8c_68c3_11eb_ba0a_f0189849bf4brow6_col4{\n",
       "            color: magenta;\n",
       "            background-color: #947fed;\n",
       "            color: magenta;\n",
       "            background-color: #947fed;\n",
       "            background-color: #F4F2FD;\n",
       "            color: magenta;\n",
       "            background-color: #947fed;\n",
       "            background-color: #F4F2FD;\n",
       "            background-color: #E9E5FB;\n",
       "            color: magenta;\n",
       "            background-color: #947fed;\n",
       "            background-color: #F4F2FD;\n",
       "            background-color: #E9E5FB;\n",
       "            background-color: #DED8F9;\n",
       "        }</style><table id=\"T_0881fd8c_68c3_11eb_ba0a_f0189849bf4b\" ><thead>    <tr>        <th class=\"blank\" ></th>        <th class=\"blank level0\" ></th>        <th class=\"col_heading level0 col0\" >rf_model</th>        <th class=\"col_heading level0 col1\" >gs_rfEO_model</th>        <th class=\"col_heading level0 col2\" >gs_rfDP_model</th>        <th class=\"col_heading level0 col3\" >eg_rfEO_model</th>        <th class=\"col_heading level0 col4\" >eg_rfDP_model</th>    </tr>    <tr>        <th class=\"index_name level0\" >Metric</th>        <th class=\"index_name level1\" >Measure</th>        <th class=\"blank\" ></th>        <th class=\"blank\" ></th>        <th class=\"blank\" ></th>        <th class=\"blank\" ></th>        <th class=\"blank\" ></th>    </tr></thead><tbody>\n",
       "                <tr>\n",
       "                        <th id=\"T_0881fd8c_68c3_11eb_ba0a_f0189849bf4blevel0_row0\" class=\"row_heading level0 row0\" >Data Metrics</th>\n",
       "                        <th id=\"T_0881fd8c_68c3_11eb_ba0a_f0189849bf4blevel1_row0\" class=\"row_heading level1 row0\" >Prevalence of Privileged Class (%)</th>\n",
       "                        <td id=\"T_0881fd8c_68c3_11eb_ba0a_f0189849bf4brow0_col0\" class=\"data row0 col0\" >39.000000</td>\n",
       "                        <td id=\"T_0881fd8c_68c3_11eb_ba0a_f0189849bf4brow0_col1\" class=\"data row0 col1\" >39.000000</td>\n",
       "                        <td id=\"T_0881fd8c_68c3_11eb_ba0a_f0189849bf4brow0_col2\" class=\"data row0 col2\" >39.000000</td>\n",
       "                        <td id=\"T_0881fd8c_68c3_11eb_ba0a_f0189849bf4brow0_col3\" class=\"data row0 col3\" >39.000000</td>\n",
       "                        <td id=\"T_0881fd8c_68c3_11eb_ba0a_f0189849bf4brow0_col4\" class=\"data row0 col4\" >39.000000</td>\n",
       "            </tr>\n",
       "            <tr>\n",
       "                        <th id=\"T_0881fd8c_68c3_11eb_ba0a_f0189849bf4blevel0_row1\" class=\"row_heading level0 row1\" rowspan=8>Group Fairness</th>\n",
       "                        <th id=\"T_0881fd8c_68c3_11eb_ba0a_f0189849bf4blevel1_row1\" class=\"row_heading level1 row1\" >AUC Difference</th>\n",
       "                        <td id=\"T_0881fd8c_68c3_11eb_ba0a_f0189849bf4brow1_col0\" class=\"data row1 col0\" >0.003500</td>\n",
       "                        <td id=\"T_0881fd8c_68c3_11eb_ba0a_f0189849bf4brow1_col1\" class=\"data row1 col1\" >0.003300</td>\n",
       "                        <td id=\"T_0881fd8c_68c3_11eb_ba0a_f0189849bf4brow1_col2\" class=\"data row1 col2\" >0.009700</td>\n",
       "                        <td id=\"T_0881fd8c_68c3_11eb_ba0a_f0189849bf4brow1_col3\" class=\"data row1 col3\" >nan</td>\n",
       "                        <td id=\"T_0881fd8c_68c3_11eb_ba0a_f0189849bf4brow1_col4\" class=\"data row1 col4\" >nan</td>\n",
       "            </tr>\n",
       "            <tr>\n",
       "                                <th id=\"T_0881fd8c_68c3_11eb_ba0a_f0189849bf4blevel1_row2\" class=\"row_heading level1 row2\" >Balanced Accuracy Difference</th>\n",
       "                        <td id=\"T_0881fd8c_68c3_11eb_ba0a_f0189849bf4brow2_col0\" class=\"data row2 col0\" >0.001100</td>\n",
       "                        <td id=\"T_0881fd8c_68c3_11eb_ba0a_f0189849bf4brow2_col1\" class=\"data row2 col1\" >-0.001200</td>\n",
       "                        <td id=\"T_0881fd8c_68c3_11eb_ba0a_f0189849bf4brow2_col2\" class=\"data row2 col2\" >-0.053500</td>\n",
       "                        <td id=\"T_0881fd8c_68c3_11eb_ba0a_f0189849bf4brow2_col3\" class=\"data row2 col3\" >0.002900</td>\n",
       "                        <td id=\"T_0881fd8c_68c3_11eb_ba0a_f0189849bf4brow2_col4\" class=\"data row2 col4\" >-0.051300</td>\n",
       "            </tr>\n",
       "            <tr>\n",
       "                                <th id=\"T_0881fd8c_68c3_11eb_ba0a_f0189849bf4blevel1_row3\" class=\"row_heading level1 row3\" >Balanced Accuracy Ratio</th>\n",
       "                        <td id=\"T_0881fd8c_68c3_11eb_ba0a_f0189849bf4brow3_col0\" class=\"data row3 col0\" >1.001500</td>\n",
       "                        <td id=\"T_0881fd8c_68c3_11eb_ba0a_f0189849bf4brow3_col1\" class=\"data row3 col1\" >0.998400</td>\n",
       "                        <td id=\"T_0881fd8c_68c3_11eb_ba0a_f0189849bf4brow3_col2\" class=\"data row3 col2\" >0.927300</td>\n",
       "                        <td id=\"T_0881fd8c_68c3_11eb_ba0a_f0189849bf4brow3_col3\" class=\"data row3 col3\" >1.003900</td>\n",
       "                        <td id=\"T_0881fd8c_68c3_11eb_ba0a_f0189849bf4brow3_col4\" class=\"data row3 col4\" >0.929800</td>\n",
       "            </tr>\n",
       "            <tr>\n",
       "                                <th id=\"T_0881fd8c_68c3_11eb_ba0a_f0189849bf4blevel1_row4\" class=\"row_heading level1 row4\" >Disparate Impact Ratio</th>\n",
       "                        <td id=\"T_0881fd8c_68c3_11eb_ba0a_f0189849bf4brow4_col0\" class=\"data row4 col0\" >1.181700</td>\n",
       "                        <td id=\"T_0881fd8c_68c3_11eb_ba0a_f0189849bf4brow4_col1\" class=\"data row4 col1\" >1.181800</td>\n",
       "                        <td id=\"T_0881fd8c_68c3_11eb_ba0a_f0189849bf4brow4_col2\" class=\"data row4 col2\" >0.602700</td>\n",
       "                        <td id=\"T_0881fd8c_68c3_11eb_ba0a_f0189849bf4brow4_col3\" class=\"data row4 col3\" >1.165200</td>\n",
       "                        <td id=\"T_0881fd8c_68c3_11eb_ba0a_f0189849bf4brow4_col4\" class=\"data row4 col4\" >0.611700</td>\n",
       "            </tr>\n",
       "            <tr>\n",
       "                                <th id=\"T_0881fd8c_68c3_11eb_ba0a_f0189849bf4blevel1_row5\" class=\"row_heading level1 row5\" >Equalized Odds Difference</th>\n",
       "                        <td id=\"T_0881fd8c_68c3_11eb_ba0a_f0189849bf4brow5_col0\" class=\"data row5 col0\" >0.022900</td>\n",
       "                        <td id=\"T_0881fd8c_68c3_11eb_ba0a_f0189849bf4brow5_col1\" class=\"data row5 col1\" >0.022600</td>\n",
       "                        <td id=\"T_0881fd8c_68c3_11eb_ba0a_f0189849bf4brow5_col2\" class=\"data row5 col2\" >0.222200</td>\n",
       "                        <td id=\"T_0881fd8c_68c3_11eb_ba0a_f0189849bf4brow5_col3\" class=\"data row5 col3\" >0.020800</td>\n",
       "                        <td id=\"T_0881fd8c_68c3_11eb_ba0a_f0189849bf4brow5_col4\" class=\"data row5 col4\" >0.213400</td>\n",
       "            </tr>\n",
       "            <tr>\n",
       "                                <th id=\"T_0881fd8c_68c3_11eb_ba0a_f0189849bf4blevel1_row6\" class=\"row_heading level1 row6\" >Equalized Odds Ratio</th>\n",
       "                        <td id=\"T_0881fd8c_68c3_11eb_ba0a_f0189849bf4brow6_col0\" class=\"data row6 col0\" >0.826000</td>\n",
       "                        <td id=\"T_0881fd8c_68c3_11eb_ba0a_f0189849bf4brow6_col1\" class=\"data row6 col1\" >0.812200</td>\n",
       "                        <td id=\"T_0881fd8c_68c3_11eb_ba0a_f0189849bf4brow6_col2\" class=\"data row6 col2\" >0.299500</td>\n",
       "                        <td id=\"T_0881fd8c_68c3_11eb_ba0a_f0189849bf4brow6_col3\" class=\"data row6 col3\" >0.868600</td>\n",
       "                        <td id=\"T_0881fd8c_68c3_11eb_ba0a_f0189849bf4brow6_col4\" class=\"data row6 col4\" >0.309900</td>\n",
       "            </tr>\n",
       "            <tr>\n",
       "                                <th id=\"T_0881fd8c_68c3_11eb_ba0a_f0189849bf4blevel1_row7\" class=\"row_heading level1 row7\" >Positive Predictive Parity Difference</th>\n",
       "                        <td id=\"T_0881fd8c_68c3_11eb_ba0a_f0189849bf4brow7_col0\" class=\"data row7 col0\" >0.015900</td>\n",
       "                        <td id=\"T_0881fd8c_68c3_11eb_ba0a_f0189849bf4brow7_col1\" class=\"data row7 col1\" >0.012100</td>\n",
       "                        <td id=\"T_0881fd8c_68c3_11eb_ba0a_f0189849bf4brow7_col2\" class=\"data row7 col2\" >0.171900</td>\n",
       "                        <td id=\"T_0881fd8c_68c3_11eb_ba0a_f0189849bf4brow7_col3\" class=\"data row7 col3\" >0.024000</td>\n",
       "                        <td id=\"T_0881fd8c_68c3_11eb_ba0a_f0189849bf4brow7_col4\" class=\"data row7 col4\" >0.168600</td>\n",
       "            </tr>\n",
       "            <tr>\n",
       "                                <th id=\"T_0881fd8c_68c3_11eb_ba0a_f0189849bf4blevel1_row8\" class=\"row_heading level1 row8\" >Statistical Parity Difference</th>\n",
       "                        <td id=\"T_0881fd8c_68c3_11eb_ba0a_f0189849bf4brow8_col0\" class=\"data row8 col0\" >0.048600</td>\n",
       "                        <td id=\"T_0881fd8c_68c3_11eb_ba0a_f0189849bf4brow8_col1\" class=\"data row8 col1\" >0.048800</td>\n",
       "                        <td id=\"T_0881fd8c_68c3_11eb_ba0a_f0189849bf4brow8_col2\" class=\"data row8 col2\" >-0.133000</td>\n",
       "                        <td id=\"T_0881fd8c_68c3_11eb_ba0a_f0189849bf4brow8_col3\" class=\"data row8 col3\" >0.044400</td>\n",
       "                        <td id=\"T_0881fd8c_68c3_11eb_ba0a_f0189849bf4brow8_col4\" class=\"data row8 col4\" >-0.127300</td>\n",
       "            </tr>\n",
       "            <tr>\n",
       "                        <th id=\"T_0881fd8c_68c3_11eb_ba0a_f0189849bf4blevel0_row9\" class=\"row_heading level0 row9\" rowspan=2>Individual Fairness</th>\n",
       "                        <th id=\"T_0881fd8c_68c3_11eb_ba0a_f0189849bf4blevel1_row9\" class=\"row_heading level1 row9\" >Between-Group Gen. Entropy Error</th>\n",
       "                        <td id=\"T_0881fd8c_68c3_11eb_ba0a_f0189849bf4brow9_col0\" class=\"data row9 col0\" >0.000000</td>\n",
       "                        <td id=\"T_0881fd8c_68c3_11eb_ba0a_f0189849bf4brow9_col1\" class=\"data row9 col1\" >0.000000</td>\n",
       "                        <td id=\"T_0881fd8c_68c3_11eb_ba0a_f0189849bf4brow9_col2\" class=\"data row9 col2\" >0.005700</td>\n",
       "                        <td id=\"T_0881fd8c_68c3_11eb_ba0a_f0189849bf4brow9_col3\" class=\"data row9 col3\" >0.000000</td>\n",
       "                        <td id=\"T_0881fd8c_68c3_11eb_ba0a_f0189849bf4brow9_col4\" class=\"data row9 col4\" >0.005400</td>\n",
       "            </tr>\n",
       "            <tr>\n",
       "                                <th id=\"T_0881fd8c_68c3_11eb_ba0a_f0189849bf4blevel1_row10\" class=\"row_heading level1 row10\" >Consistency Score</th>\n",
       "                        <td id=\"T_0881fd8c_68c3_11eb_ba0a_f0189849bf4brow10_col0\" class=\"data row10 col0\" >0.807600</td>\n",
       "                        <td id=\"T_0881fd8c_68c3_11eb_ba0a_f0189849bf4brow10_col1\" class=\"data row10 col1\" >0.806800</td>\n",
       "                        <td id=\"T_0881fd8c_68c3_11eb_ba0a_f0189849bf4brow10_col2\" class=\"data row10 col2\" >0.808500</td>\n",
       "                        <td id=\"T_0881fd8c_68c3_11eb_ba0a_f0189849bf4brow10_col3\" class=\"data row10 col3\" >0.808000</td>\n",
       "                        <td id=\"T_0881fd8c_68c3_11eb_ba0a_f0189849bf4brow10_col4\" class=\"data row10 col4\" >0.809000</td>\n",
       "            </tr>\n",
       "            <tr>\n",
       "                        <th id=\"T_0881fd8c_68c3_11eb_ba0a_f0189849bf4blevel0_row11\" class=\"row_heading level0 row11\" rowspan=4>Model Performance</th>\n",
       "                        <th id=\"T_0881fd8c_68c3_11eb_ba0a_f0189849bf4blevel1_row11\" class=\"row_heading level1 row11\" >Accuracy</th>\n",
       "                        <td id=\"T_0881fd8c_68c3_11eb_ba0a_f0189849bf4brow11_col0\" class=\"data row11 col0\" >0.770500</td>\n",
       "                        <td id=\"T_0881fd8c_68c3_11eb_ba0a_f0189849bf4brow11_col1\" class=\"data row11 col1\" >0.771100</td>\n",
       "                        <td id=\"T_0881fd8c_68c3_11eb_ba0a_f0189849bf4brow11_col2\" class=\"data row11 col2\" >0.745700</td>\n",
       "                        <td id=\"T_0881fd8c_68c3_11eb_ba0a_f0189849bf4brow11_col3\" class=\"data row11 col3\" >0.770900</td>\n",
       "                        <td id=\"T_0881fd8c_68c3_11eb_ba0a_f0189849bf4brow11_col4\" class=\"data row11 col4\" >0.743800</td>\n",
       "            </tr>\n",
       "            <tr>\n",
       "                                <th id=\"T_0881fd8c_68c3_11eb_ba0a_f0189849bf4blevel1_row12\" class=\"row_heading level1 row12\" >F1-Score</th>\n",
       "                        <td id=\"T_0881fd8c_68c3_11eb_ba0a_f0189849bf4brow12_col0\" class=\"data row12 col0\" >0.661200</td>\n",
       "                        <td id=\"T_0881fd8c_68c3_11eb_ba0a_f0189849bf4brow12_col1\" class=\"data row12 col1\" >0.662600</td>\n",
       "                        <td id=\"T_0881fd8c_68c3_11eb_ba0a_f0189849bf4brow12_col2\" class=\"data row12 col2\" >0.616100</td>\n",
       "                        <td id=\"T_0881fd8c_68c3_11eb_ba0a_f0189849bf4brow12_col3\" class=\"data row12 col3\" >0.661700</td>\n",
       "                        <td id=\"T_0881fd8c_68c3_11eb_ba0a_f0189849bf4brow12_col4\" class=\"data row12 col4\" >0.610700</td>\n",
       "            </tr>\n",
       "            <tr>\n",
       "                                <th id=\"T_0881fd8c_68c3_11eb_ba0a_f0189849bf4blevel1_row13\" class=\"row_heading level1 row13\" >Precision</th>\n",
       "                        <td id=\"T_0881fd8c_68c3_11eb_ba0a_f0189849bf4brow13_col0\" class=\"data row13 col0\" >0.774000</td>\n",
       "                        <td id=\"T_0881fd8c_68c3_11eb_ba0a_f0189849bf4brow13_col1\" class=\"data row13 col1\" >0.774000</td>\n",
       "                        <td id=\"T_0881fd8c_68c3_11eb_ba0a_f0189849bf4brow13_col2\" class=\"data row13 col2\" >0.743600</td>\n",
       "                        <td id=\"T_0881fd8c_68c3_11eb_ba0a_f0189849bf4brow13_col3\" class=\"data row13 col3\" >0.774900</td>\n",
       "                        <td id=\"T_0881fd8c_68c3_11eb_ba0a_f0189849bf4brow13_col4\" class=\"data row13 col4\" >0.744000</td>\n",
       "            </tr>\n",
       "            <tr>\n",
       "                                <th id=\"T_0881fd8c_68c3_11eb_ba0a_f0189849bf4blevel1_row14\" class=\"row_heading level1 row14\" >Recall</th>\n",
       "                        <td id=\"T_0881fd8c_68c3_11eb_ba0a_f0189849bf4brow14_col0\" class=\"data row14 col0\" >0.577100</td>\n",
       "                        <td id=\"T_0881fd8c_68c3_11eb_ba0a_f0189849bf4brow14_col1\" class=\"data row14 col1\" >0.579200</td>\n",
       "                        <td id=\"T_0881fd8c_68c3_11eb_ba0a_f0189849bf4brow14_col2\" class=\"data row14 col2\" >0.525900</td>\n",
       "                        <td id=\"T_0881fd8c_68c3_11eb_ba0a_f0189849bf4brow14_col3\" class=\"data row14 col3\" >0.577400</td>\n",
       "                        <td id=\"T_0881fd8c_68c3_11eb_ba0a_f0189849bf4brow14_col4\" class=\"data row14 col4\" >0.517900</td>\n",
       "            </tr>\n",
       "    </tbody></table>"
      ],
      "text/plain": [
       "<pandas.io.formats.style.Styler at 0x7f798f0fa0d0>"
      ]
     },
     "execution_count": 18,
     "metadata": {},
     "output_type": "execute_result"
    }
   ],
   "source": [
    "# Generate comparison table (returned as a pandas dataframe)\n",
    "comparison = fhmc.compare_models(X, y, protected_attr, models)\n",
    "\n",
    "# Here we determine the indices for equal odds measures so that we can highlight according\n",
    "#    to those indices later\n",
    "idx = pd.IndexSlice\n",
    "eotag = idx[:, ['Equal Opportunity Difference', 'Equalized Odds Difference',\n",
    "                 'Equalized Odds Ratio']\n",
    "            ]\n",
    "equal_odds = comparison.loc[eotag, :].index\n",
    "\n",
    "# Here we return the flagged table as a pandas styler so we can also highlight \n",
    "#       measures of Equal Odds\n",
    "flagged = reports.flag(comparison, as_styler=True)\n",
    "flagged.apply(lambda x: ['background-color:' + \"#DED8F9\" \n",
    "                          if x.name in equal_odds else '' for i in x]\n",
    "                , axis=1)"
   ]
  },
  {
   "cell_type": "markdown",
   "metadata": {},
   "source": [
    "# References\n",
    "\n",
    "<a name=\"Agarwal2018\"></a>\n",
    "Agarwal, A., Beygelzimer, A., Dudík, M., Langford, J., & Wallach, H. (2018). A reductions approach to fair classification. In International Conference on Machine Learning (pp. 60-69). PMLR. Available through [arXiv preprint:1803.02453](https://arxiv.org/pdf/1803.02453.pdf)."
   ]
  }
 ],
 "metadata": {
  "kernelspec": {
   "display_name": "Python 3",
   "language": "python",
   "name": "python3"
  },
  "language_info": {
   "codemirror_mode": {
    "name": "ipython",
    "version": 3
   },
   "file_extension": ".py",
   "mimetype": "text/x-python",
   "name": "python",
   "nbconvert_exporter": "python",
   "pygments_lexer": "ipython3",
   "version": "3.7.7"
  }
 },
 "nbformat": 4,
 "nbformat_minor": 2
}

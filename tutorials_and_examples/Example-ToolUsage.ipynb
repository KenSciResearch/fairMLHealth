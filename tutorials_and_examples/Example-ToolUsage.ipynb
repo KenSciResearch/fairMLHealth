{
 "cells": [
  {
   "cell_type": "markdown",
   "metadata": {},
   "source": [
    "### About\n",
    "This notebook contains simple, toy examples to help you get started with FairMLHealth tool usage. This same content is mirrored in the repository's main [README](../../../README.md)"
   ]
  },
  {
   "cell_type": "markdown",
   "metadata": {},
   "source": [
    "### Example Setup"
   ]
  },
  {
   "cell_type": "code",
   "execution_count": 1,
   "metadata": {},
   "outputs": [],
   "source": [
    "from fairmlhealth import model_comparison as fhmc, stratified_reports\n",
    "from fairmlhealth.reports import flag\n",
    "\n",
    "import pandas as pd\n",
    "from sklearn.model_selection import train_test_split\n",
    "from sklearn.naive_bayes import BernoulliNB\n",
    "from sklearn.tree import DecisionTreeClassifier\n",
    "\n",
    "\n",
    "# Load data\n",
    "X = pd.DataFrame({'col1':[1,2,50,3,45,32], 'col2':[34,26,44,2,1,1],\n",
    "                  'col3':[32,23,34,22,65,27], \n",
    "                  'gender':[0,1,0,1,1,0], 'ethnicity':[0,0,0,1,1,1]\n",
    "                 })\n",
    "y = pd.DataFrame({'y':[1,1,0,1,0,1]})\n",
    "X_train, X_test, y_train, y_test = train_test_split(X, y, test_size=0.75, random_state=36)\n",
    "\n",
    "#Train models\n",
    "model_1 = BernoulliNB().fit(X_train, y_train)\n",
    "model_2 = DecisionTreeClassifier().fit(X_train, y_train)\n",
    "\n",
    "# Deterimine your set of protected attributes\n",
    "prtc_attr = X_test['gender']\n",
    "\n",
    "# Specify either a dict or a list of trained models to compare\n",
    "model_dict = {'model_1': model_1, 'model_2': model_2}\n"
   ]
  },
  {
   "cell_type": "code",
   "execution_count": 2,
   "metadata": {},
   "outputs": [
    {
     "data": {
      "text/html": [
       "<div>\n",
       "<style scoped>\n",
       "    .dataframe tbody tr th:only-of-type {\n",
       "        vertical-align: middle;\n",
       "    }\n",
       "\n",
       "    .dataframe tbody tr th {\n",
       "        vertical-align: top;\n",
       "    }\n",
       "\n",
       "    .dataframe thead th {\n",
       "        text-align: right;\n",
       "    }\n",
       "</style>\n",
       "<table border=\"1\" class=\"dataframe\">\n",
       "  <thead>\n",
       "    <tr style=\"text-align: right;\">\n",
       "      <th></th>\n",
       "      <th>col1</th>\n",
       "      <th>col2</th>\n",
       "      <th>col3</th>\n",
       "      <th>gender</th>\n",
       "      <th>ethnicity</th>\n",
       "    </tr>\n",
       "  </thead>\n",
       "  <tbody>\n",
       "    <tr>\n",
       "      <th>0</th>\n",
       "      <td>1</td>\n",
       "      <td>34</td>\n",
       "      <td>32</td>\n",
       "      <td>0</td>\n",
       "      <td>0</td>\n",
       "    </tr>\n",
       "    <tr>\n",
       "      <th>1</th>\n",
       "      <td>2</td>\n",
       "      <td>26</td>\n",
       "      <td>23</td>\n",
       "      <td>1</td>\n",
       "      <td>0</td>\n",
       "    </tr>\n",
       "    <tr>\n",
       "      <th>2</th>\n",
       "      <td>50</td>\n",
       "      <td>44</td>\n",
       "      <td>34</td>\n",
       "      <td>0</td>\n",
       "      <td>0</td>\n",
       "    </tr>\n",
       "    <tr>\n",
       "      <th>3</th>\n",
       "      <td>3</td>\n",
       "      <td>2</td>\n",
       "      <td>22</td>\n",
       "      <td>1</td>\n",
       "      <td>1</td>\n",
       "    </tr>\n",
       "    <tr>\n",
       "      <th>4</th>\n",
       "      <td>45</td>\n",
       "      <td>1</td>\n",
       "      <td>65</td>\n",
       "      <td>1</td>\n",
       "      <td>1</td>\n",
       "    </tr>\n",
       "    <tr>\n",
       "      <th>5</th>\n",
       "      <td>32</td>\n",
       "      <td>1</td>\n",
       "      <td>27</td>\n",
       "      <td>0</td>\n",
       "      <td>1</td>\n",
       "    </tr>\n",
       "  </tbody>\n",
       "</table>\n",
       "</div>"
      ],
      "text/plain": [
       "   col1  col2  col3  gender  ethnicity\n",
       "0     1    34    32       0          0\n",
       "1     2    26    23       1          0\n",
       "2    50    44    34       0          0\n",
       "3     3     2    22       1          1\n",
       "4    45     1    65       1          1\n",
       "5    32     1    27       0          1"
      ]
     },
     "metadata": {},
     "output_type": "display_data"
    }
   ],
   "source": [
    "display(X)"
   ]
  },
  {
   "cell_type": "markdown",
   "metadata": {},
   "source": [
    "### Model Measurement\n",
    "The primary feature of this library is the model comparison tool. The current version supports assessment of binary prediction models through use of the measure_models and compare_models functions.\n",
    "\n",
    "Measure_model is designed to generate a report of multiple fairness metrics for a single model. Here it is shown wrapped in a \"flag\" function to emphasize values that are outside of the \"fair\" range. "
   ]
  },
  {
   "cell_type": "code",
   "execution_count": 3,
   "metadata": {},
   "outputs": [
    {
     "data": {
      "text/html": [
       "<style  type=\"text/css\" >\n",
       "#T_96df283a_9e00_11eb_83c9_f0189849bf4brow4_col0{\n",
       "            color: magenta;\n",
       "            color: magenta;\n",
       "        }</style><table id=\"T_96df283a_9e00_11eb_83c9_f0189849bf4b\" ><thead>    <tr>        <th class=\"blank\" ></th>        <th class=\"blank level0\" ></th>        <th class=\"col_heading level0 col0\" >Value</th>    </tr>    <tr>        <th class=\"index_name level0\" >Metric</th>        <th class=\"index_name level1\" >Measure</th>        <th class=\"blank\" ></th>    </tr></thead><tbody>\n",
       "                <tr>\n",
       "                        <th id=\"T_96df283a_9e00_11eb_83c9_f0189849bf4blevel0_row0\" class=\"row_heading level0 row0\" rowspan=8>Group Fairness</th>\n",
       "                        <th id=\"T_96df283a_9e00_11eb_83c9_f0189849bf4blevel1_row0\" class=\"row_heading level1 row0\" >Statistical Parity Difference</th>\n",
       "                        <td id=\"T_96df283a_9e00_11eb_83c9_f0189849bf4brow0_col0\" class=\"data row0 col0\" >0.000000</td>\n",
       "            </tr>\n",
       "            <tr>\n",
       "                                <th id=\"T_96df283a_9e00_11eb_83c9_f0189849bf4blevel1_row1\" class=\"row_heading level1 row1\" >Disparate Impact Ratio</th>\n",
       "                        <td id=\"T_96df283a_9e00_11eb_83c9_f0189849bf4brow1_col0\" class=\"data row1 col0\" >1.000000</td>\n",
       "            </tr>\n",
       "            <tr>\n",
       "                                <th id=\"T_96df283a_9e00_11eb_83c9_f0189849bf4blevel1_row2\" class=\"row_heading level1 row2\" >Equalized Odds Difference</th>\n",
       "                        <td id=\"T_96df283a_9e00_11eb_83c9_f0189849bf4brow2_col0\" class=\"data row2 col0\" >0.000000</td>\n",
       "            </tr>\n",
       "            <tr>\n",
       "                                <th id=\"T_96df283a_9e00_11eb_83c9_f0189849bf4blevel1_row3\" class=\"row_heading level1 row3\" >Equalized Odds Ratio</th>\n",
       "                        <td id=\"T_96df283a_9e00_11eb_83c9_f0189849bf4brow3_col0\" class=\"data row3 col0\" >1.000000</td>\n",
       "            </tr>\n",
       "            <tr>\n",
       "                                <th id=\"T_96df283a_9e00_11eb_83c9_f0189849bf4blevel1_row4\" class=\"row_heading level1 row4\" >Positive Predictive Parity Difference</th>\n",
       "                        <td id=\"T_96df283a_9e00_11eb_83c9_f0189849bf4brow4_col0\" class=\"data row4 col0\" >-0.166700</td>\n",
       "            </tr>\n",
       "            <tr>\n",
       "                                <th id=\"T_96df283a_9e00_11eb_83c9_f0189849bf4blevel1_row5\" class=\"row_heading level1 row5\" >Balanced Accuracy Difference</th>\n",
       "                        <td id=\"T_96df283a_9e00_11eb_83c9_f0189849bf4brow5_col0\" class=\"data row5 col0\" >0.000000</td>\n",
       "            </tr>\n",
       "            <tr>\n",
       "                                <th id=\"T_96df283a_9e00_11eb_83c9_f0189849bf4blevel1_row6\" class=\"row_heading level1 row6\" >Balanced Accuracy Ratio</th>\n",
       "                        <td id=\"T_96df283a_9e00_11eb_83c9_f0189849bf4brow6_col0\" class=\"data row6 col0\" >1.000000</td>\n",
       "            </tr>\n",
       "            <tr>\n",
       "                                <th id=\"T_96df283a_9e00_11eb_83c9_f0189849bf4blevel1_row7\" class=\"row_heading level1 row7\" >AUC Difference</th>\n",
       "                        <td id=\"T_96df283a_9e00_11eb_83c9_f0189849bf4brow7_col0\" class=\"data row7 col0\" >0.000000</td>\n",
       "            </tr>\n",
       "            <tr>\n",
       "                        <th id=\"T_96df283a_9e00_11eb_83c9_f0189849bf4blevel0_row8\" class=\"row_heading level0 row8\" rowspan=2>Individual Fairness</th>\n",
       "                        <th id=\"T_96df283a_9e00_11eb_83c9_f0189849bf4blevel1_row8\" class=\"row_heading level1 row8\" >Consistency Score</th>\n",
       "                        <td id=\"T_96df283a_9e00_11eb_83c9_f0189849bf4brow8_col0\" class=\"data row8 col0\" >1.000000</td>\n",
       "            </tr>\n",
       "            <tr>\n",
       "                                <th id=\"T_96df283a_9e00_11eb_83c9_f0189849bf4blevel1_row9\" class=\"row_heading level1 row9\" >Between-Group Gen. Entropy Error</th>\n",
       "                        <td id=\"T_96df283a_9e00_11eb_83c9_f0189849bf4brow9_col0\" class=\"data row9 col0\" >0.001700</td>\n",
       "            </tr>\n",
       "            <tr>\n",
       "                        <th id=\"T_96df283a_9e00_11eb_83c9_f0189849bf4blevel0_row10\" class=\"row_heading level0 row10\" >Data Metrics</th>\n",
       "                        <th id=\"T_96df283a_9e00_11eb_83c9_f0189849bf4blevel1_row10\" class=\"row_heading level1 row10\" >Prevalence of Privileged Class (%)</th>\n",
       "                        <td id=\"T_96df283a_9e00_11eb_83c9_f0189849bf4brow10_col0\" class=\"data row10 col0\" >60.000000</td>\n",
       "            </tr>\n",
       "    </tbody></table>"
      ],
      "text/plain": [
       "<IPython.core.display.HTML object>"
      ]
     },
     "execution_count": 3,
     "metadata": {},
     "output_type": "execute_result"
    }
   ],
   "source": [
    "# Generate a pandas dataframe of measures\n",
    "fairness_measures = fhmc.measure_model(X_test, y_test, prtc_attr, model_1)\n",
    "# Display and color measures that are out of range\n",
    "flag(fairness_measures)"
   ]
  },
  {
   "cell_type": "markdown",
   "metadata": {},
   "source": [
    "### Evaluating\n",
    "\n",
    "FairMLHealth now also includes stratified reporting features to aid in identifying the source of unfairness or other bias: a data_report, classification_performance report, and classification_fairness report. Note that these stratified reports can evaluate multiple features at once, and that there are two options for identifying which features to assess.\n",
    "\n",
    "Note that the flag tool has not yet been updated to work with stratified reports."
   ]
  },
  {
   "cell_type": "markdown",
   "metadata": {},
   "source": [
    "#### Stratified Data Reports\n",
    "\n",
    "The data reporter is shown below with each of the two data argument options. It evaluates basic statistics specific to each feature-value, in addition to relative statistics for the target value. Since the reporter can evaluate many features at once, it can be a useful option for identifying patterns of bias either alone or in concert with other (e.g., visual methods)."
   ]
  },
  {
   "cell_type": "code",
   "execution_count": 4,
   "metadata": {},
   "outputs": [
    {
     "data": {
      "text/html": [
       "<div>\n",
       "<style scoped>\n",
       "    .dataframe tbody tr th:only-of-type {\n",
       "        vertical-align: middle;\n",
       "    }\n",
       "\n",
       "    .dataframe tbody tr th {\n",
       "        vertical-align: top;\n",
       "    }\n",
       "\n",
       "    .dataframe thead th {\n",
       "        text-align: right;\n",
       "    }\n",
       "</style>\n",
       "<table border=\"1\" class=\"dataframe\">\n",
       "  <thead>\n",
       "    <tr style=\"text-align: right;\">\n",
       "      <th></th>\n",
       "      <th>FEATURE</th>\n",
       "      <th>FEATURE VALUE</th>\n",
       "      <th>N OBS</th>\n",
       "      <th>N MISSING</th>\n",
       "      <th>FEATURE ENTROPY</th>\n",
       "      <th>VALUE PREVALENCE</th>\n",
       "      <th>Y MAX</th>\n",
       "      <th>Y MEAN</th>\n",
       "      <th>Y MEDIAN</th>\n",
       "      <th>Y MIN</th>\n",
       "      <th>Y STDV</th>\n",
       "    </tr>\n",
       "  </thead>\n",
       "  <tbody>\n",
       "    <tr>\n",
       "      <th>0</th>\n",
       "      <td>ALL_FEATURES</td>\n",
       "      <td>ALL_VALUES</td>\n",
       "      <td>5.0</td>\n",
       "      <td>0</td>\n",
       "      <td>NaN</td>\n",
       "      <td>1.0</td>\n",
       "      <td>1.0</td>\n",
       "      <td>0.6000</td>\n",
       "      <td>1.0</td>\n",
       "      <td>0.0</td>\n",
       "      <td>0.5477</td>\n",
       "    </tr>\n",
       "    <tr>\n",
       "      <th>1</th>\n",
       "      <td>gender</td>\n",
       "      <td>0</td>\n",
       "      <td>2.0</td>\n",
       "      <td>0</td>\n",
       "      <td>0.971</td>\n",
       "      <td>0.4</td>\n",
       "      <td>1.0</td>\n",
       "      <td>0.5000</td>\n",
       "      <td>0.5</td>\n",
       "      <td>0.0</td>\n",
       "      <td>0.7071</td>\n",
       "    </tr>\n",
       "    <tr>\n",
       "      <th>2</th>\n",
       "      <td>gender</td>\n",
       "      <td>1</td>\n",
       "      <td>3.0</td>\n",
       "      <td>0</td>\n",
       "      <td>0.971</td>\n",
       "      <td>0.6</td>\n",
       "      <td>1.0</td>\n",
       "      <td>0.6667</td>\n",
       "      <td>1.0</td>\n",
       "      <td>0.0</td>\n",
       "      <td>0.5774</td>\n",
       "    </tr>\n",
       "  </tbody>\n",
       "</table>\n",
       "</div>"
      ],
      "text/plain": [
       "        FEATURE FEATURE VALUE  N OBS  N MISSING  FEATURE ENTROPY  \\\n",
       "0  ALL_FEATURES    ALL_VALUES    5.0          0              NaN   \n",
       "1        gender             0    2.0          0            0.971   \n",
       "2        gender             1    3.0          0            0.971   \n",
       "\n",
       "   VALUE PREVALENCE  Y MAX  Y MEAN  Y MEDIAN  Y MIN  Y STDV  \n",
       "0               1.0    1.0  0.6000       1.0    0.0  0.5477  \n",
       "1               0.4    1.0  0.5000       0.5    0.0  0.7071  \n",
       "2               0.6    1.0  0.6667       1.0    0.0  0.5774  "
      ]
     },
     "execution_count": 4,
     "metadata": {},
     "output_type": "execute_result"
    }
   ],
   "source": [
    "# Arguments Option 1: pass full set of data, subsetting with *features* argument\n",
    "stratified_reports.data_report(X_test, y_test, features=['gender'])"
   ]
  },
  {
   "cell_type": "code",
   "execution_count": 5,
   "metadata": {},
   "outputs": [
    {
     "data": {
      "text/html": [
       "<div>\n",
       "<style scoped>\n",
       "    .dataframe tbody tr th:only-of-type {\n",
       "        vertical-align: middle;\n",
       "    }\n",
       "\n",
       "    .dataframe tbody tr th {\n",
       "        vertical-align: top;\n",
       "    }\n",
       "\n",
       "    .dataframe thead th {\n",
       "        text-align: right;\n",
       "    }\n",
       "</style>\n",
       "<table border=\"1\" class=\"dataframe\">\n",
       "  <thead>\n",
       "    <tr style=\"text-align: right;\">\n",
       "      <th></th>\n",
       "      <th>FEATURE</th>\n",
       "      <th>FEATURE VALUE</th>\n",
       "      <th>N OBS</th>\n",
       "      <th>N MISSING</th>\n",
       "      <th>FEATURE ENTROPY</th>\n",
       "      <th>VALUE PREVALENCE</th>\n",
       "      <th>Y MAX</th>\n",
       "      <th>Y MEAN</th>\n",
       "      <th>Y MEDIAN</th>\n",
       "      <th>Y MIN</th>\n",
       "      <th>Y STDV</th>\n",
       "    </tr>\n",
       "  </thead>\n",
       "  <tbody>\n",
       "    <tr>\n",
       "      <th>0</th>\n",
       "      <td>ALL_FEATURES</td>\n",
       "      <td>ALL_VALUES</td>\n",
       "      <td>5.0</td>\n",
       "      <td>0</td>\n",
       "      <td>NaN</td>\n",
       "      <td>1.0</td>\n",
       "      <td>1.0</td>\n",
       "      <td>0.6000</td>\n",
       "      <td>1.0</td>\n",
       "      <td>0.0</td>\n",
       "      <td>0.5477</td>\n",
       "    </tr>\n",
       "    <tr>\n",
       "      <th>1</th>\n",
       "      <td>gender</td>\n",
       "      <td>0</td>\n",
       "      <td>2.0</td>\n",
       "      <td>0</td>\n",
       "      <td>0.971</td>\n",
       "      <td>0.4</td>\n",
       "      <td>1.0</td>\n",
       "      <td>0.5000</td>\n",
       "      <td>0.5</td>\n",
       "      <td>0.0</td>\n",
       "      <td>0.7071</td>\n",
       "    </tr>\n",
       "    <tr>\n",
       "      <th>2</th>\n",
       "      <td>gender</td>\n",
       "      <td>1</td>\n",
       "      <td>3.0</td>\n",
       "      <td>0</td>\n",
       "      <td>0.971</td>\n",
       "      <td>0.6</td>\n",
       "      <td>1.0</td>\n",
       "      <td>0.6667</td>\n",
       "      <td>1.0</td>\n",
       "      <td>0.0</td>\n",
       "      <td>0.5774</td>\n",
       "    </tr>\n",
       "  </tbody>\n",
       "</table>\n",
       "</div>"
      ],
      "text/plain": [
       "        FEATURE FEATURE VALUE  N OBS  N MISSING  FEATURE ENTROPY  \\\n",
       "0  ALL_FEATURES    ALL_VALUES    5.0          0              NaN   \n",
       "1        gender             0    2.0          0            0.971   \n",
       "2        gender             1    3.0          0            0.971   \n",
       "\n",
       "   VALUE PREVALENCE  Y MAX  Y MEAN  Y MEDIAN  Y MIN  Y STDV  \n",
       "0               1.0    1.0  0.6000       1.0    0.0  0.5477  \n",
       "1               0.4    1.0  0.5000       0.5    0.0  0.7071  \n",
       "2               0.6    1.0  0.6667       1.0    0.0  0.5774  "
      ]
     },
     "execution_count": 5,
     "metadata": {},
     "output_type": "execute_result"
    }
   ],
   "source": [
    "# Arguments Option 2: pass the data subset of interest without using the *features* argument\n",
    "stratified_reports.data_report(X_test[['gender']], y_test)"
   ]
  },
  {
   "cell_type": "markdown",
   "metadata": {},
   "source": [
    "#### Stratified Performance Reports\n",
    "\n",
    "The stratified classification_performance reporter evaluates model performance specific to each feature-value subset. If prediction probabilities (via the *predict_proba()* method) are available to the model, additional ROC_AUC and PR_AUC values will be included."
   ]
  },
  {
   "cell_type": "code",
   "execution_count": null,
   "metadata": {},
   "outputs": [
    {
     "name": "stdout",
     "output_type": "stream",
     "text": [
      "> \u001b[0;32m/Users/christineallen/repos/KenSciResearch/fairMLHealth/fairmlhealth/stratified_reports.py\u001b[0m(237)\u001b[0;36mclassification_performance\u001b[0;34m()\u001b[0m\n",
      "\u001b[0;32m    235 \u001b[0;31m        \u001b[0;32mimport\u001b[0m \u001b[0mpdb\u001b[0m\u001b[0;34m;\u001b[0m \u001b[0mpdb\u001b[0m\u001b[0;34m.\u001b[0m\u001b[0mset_trace\u001b[0m\u001b[0;34m(\u001b[0m\u001b[0;34m)\u001b[0m\u001b[0;34m\u001b[0m\u001b[0;34m\u001b[0m\u001b[0m\n",
      "\u001b[0m\u001b[0;32m    236 \u001b[0;31m        \u001b[0;31m#try:\u001b[0m\u001b[0;34m\u001b[0m\u001b[0;34m\u001b[0m\u001b[0;34m\u001b[0m\u001b[0m\n",
      "\u001b[0m\u001b[0;32m--> 237 \u001b[0;31m        \u001b[0mr\u001b[0m \u001b[0;34m=\u001b[0m \u001b[0mgrp\u001b[0m\u001b[0;34m.\u001b[0m\u001b[0mapply\u001b[0m\u001b[0;34m(\u001b[0m\u001b[0;32mlambda\u001b[0m \u001b[0mx\u001b[0m\u001b[0;34m:\u001b[0m \u001b[0mpd\u001b[0m\u001b[0;34m.\u001b[0m\u001b[0mSeries\u001b[0m\u001b[0;34m(\u001b[0m\u001b[0m__cp_group\u001b[0m\u001b[0;34m(\u001b[0m\u001b[0mx\u001b[0m\u001b[0;34m,\u001b[0m \u001b[0myt\u001b[0m\u001b[0;34m,\u001b[0m \u001b[0myh\u001b[0m\u001b[0;34m,\u001b[0m \u001b[0myp\u001b[0m\u001b[0;34m)\u001b[0m\u001b[0;34m)\u001b[0m\u001b[0;34m)\u001b[0m\u001b[0;34m\u001b[0m\u001b[0;34m\u001b[0m\u001b[0m\n",
      "\u001b[0m\u001b[0;32m    238 \u001b[0;31m        \u001b[0;32mimport\u001b[0m \u001b[0mpdb\u001b[0m\u001b[0;34m;\u001b[0m \u001b[0mpdb\u001b[0m\u001b[0;34m.\u001b[0m\u001b[0mset_trace\u001b[0m\u001b[0;34m(\u001b[0m\u001b[0;34m)\u001b[0m\u001b[0;34m\u001b[0m\u001b[0;34m\u001b[0m\u001b[0m\n",
      "\u001b[0m\u001b[0;32m    239 \u001b[0;31m        \u001b[0;31m#except BaseException as e:\u001b[0m\u001b[0;34m\u001b[0m\u001b[0;34m\u001b[0m\u001b[0;34m\u001b[0m\u001b[0m\n",
      "\u001b[0m\n",
      "ipdb> grp.apply(lambda x: pd.Series(__cp_group(x, yt, yh, yp)))\n",
      "*** NameError: name 'yt' is not defined\n",
      "ipdb> n\n",
      "AttributeError: module 'fairmlhealth.__classification_metrics' has no attribute 'true_positive_rate'\n",
      "> \u001b[0;32m/Users/christineallen/repos/KenSciResearch/fairMLHealth/fairmlhealth/stratified_reports.py\u001b[0m(237)\u001b[0;36mclassification_performance\u001b[0;34m()\u001b[0m\n",
      "\u001b[0;32m    235 \u001b[0;31m        \u001b[0;32mimport\u001b[0m \u001b[0mpdb\u001b[0m\u001b[0;34m;\u001b[0m \u001b[0mpdb\u001b[0m\u001b[0;34m.\u001b[0m\u001b[0mset_trace\u001b[0m\u001b[0;34m(\u001b[0m\u001b[0;34m)\u001b[0m\u001b[0;34m\u001b[0m\u001b[0;34m\u001b[0m\u001b[0m\n",
      "\u001b[0m\u001b[0;32m    236 \u001b[0;31m        \u001b[0;31m#try:\u001b[0m\u001b[0;34m\u001b[0m\u001b[0;34m\u001b[0m\u001b[0;34m\u001b[0m\u001b[0m\n",
      "\u001b[0m\u001b[0;32m--> 237 \u001b[0;31m        \u001b[0mr\u001b[0m \u001b[0;34m=\u001b[0m \u001b[0mgrp\u001b[0m\u001b[0;34m.\u001b[0m\u001b[0mapply\u001b[0m\u001b[0;34m(\u001b[0m\u001b[0;32mlambda\u001b[0m \u001b[0mx\u001b[0m\u001b[0;34m:\u001b[0m \u001b[0mpd\u001b[0m\u001b[0;34m.\u001b[0m\u001b[0mSeries\u001b[0m\u001b[0;34m(\u001b[0m\u001b[0m__cp_group\u001b[0m\u001b[0;34m(\u001b[0m\u001b[0mx\u001b[0m\u001b[0;34m,\u001b[0m \u001b[0myt\u001b[0m\u001b[0;34m,\u001b[0m \u001b[0myh\u001b[0m\u001b[0;34m,\u001b[0m \u001b[0myp\u001b[0m\u001b[0;34m)\u001b[0m\u001b[0;34m)\u001b[0m\u001b[0;34m)\u001b[0m\u001b[0;34m\u001b[0m\u001b[0;34m\u001b[0m\u001b[0m\n",
      "\u001b[0m\u001b[0;32m    238 \u001b[0;31m        \u001b[0;32mimport\u001b[0m \u001b[0mpdb\u001b[0m\u001b[0;34m;\u001b[0m \u001b[0mpdb\u001b[0m\u001b[0;34m.\u001b[0m\u001b[0mset_trace\u001b[0m\u001b[0;34m(\u001b[0m\u001b[0;34m)\u001b[0m\u001b[0;34m\u001b[0m\u001b[0;34m\u001b[0m\u001b[0m\n",
      "\u001b[0m\u001b[0;32m    239 \u001b[0;31m        \u001b[0;31m#except BaseException as e:\u001b[0m\u001b[0;34m\u001b[0m\u001b[0;34m\u001b[0m\u001b[0;34m\u001b[0m\u001b[0m\n",
      "\u001b[0m\n"
     ]
    }
   ],
   "source": [
    "stratified_reports.classification_performance(X_test[['gender']], y_test, model_1.predict(X_test))"
   ]
  },
  {
   "cell_type": "code",
   "execution_count": null,
   "metadata": {},
   "outputs": [],
   "source": [
    "from fairmlhealth import __classification_metrics\n",
    "from importlib import reload\n",
    "reload(__classification_metrics)\n",
    "__classification_metrics.binary_prediction_results(y_test['y'], pd.Series(model_1.predict(X_test)))"
   ]
  },
  {
   "cell_type": "markdown",
   "metadata": {},
   "source": [
    "#### Stratified Fairness Reports\n",
    "\n",
    "The stratified classification_fairness reporter evaluates model fairness specific to each feature-value subset. It assumes each feature-value as the \"privileged\" group relative to all other possible values for the feature. For example, row 3 in the table below displaying measures of \"col1\" value of \"2\" where 2 is considered to be the privileged group and all other values (1, 2, 45, and 50) are considered unprivileged.\n",
    "\n",
    "To simplify the report, fairness measures have been simplified to their component parts. For example, measures of Equalized Odds can be determined by combining the True Positive Rate (TPR) Ratios & Differences with False Positive Rate (FPR) Ratios & Differences.\n",
    "\n",
    "See also: [Fairness Quick References](../docs/Fairness_Quick_References.pdf) and the [Tutorial for Evaluating Fairness in Binary Classification](./Tutorial-EvaluatingFairnessInBinaryClassification.ipynb)"
   ]
  },
  {
   "cell_type": "code",
   "execution_count": null,
   "metadata": {},
   "outputs": [],
   "source": [
    "stratified_reports.classification_fairness(X_test[['gender', 'col1']], y_test, model_1.predict(X_test))"
   ]
  },
  {
   "cell_type": "markdown",
   "metadata": {},
   "source": [
    "### Comparing Results for Multiple Models\n",
    "\n",
    "The compare_models feature can be used to generate side-by-side fairness comparisons of multiple models. Model performance metrics such as accuracy and precision are also provided to facilitate comparison.   \n",
    "\n",
    "Below is an example output comparing the two example models defined above. Missing values have been added for metrics requiring prediction probabilities, which the second model does not have (note the warning below)."
   ]
  },
  {
   "cell_type": "code",
   "execution_count": null,
   "metadata": {},
   "outputs": [],
   "source": [
    "# Pass the data and models to the compare models function, as above\n",
    "comparison1 = fhmc.compare_models(X_test, y_test, prtc_attr, model_dict)\n",
    "\n",
    "# Add highlights\n",
    "flag(comparison1)"
   ]
  },
  {
   "cell_type": "markdown",
   "metadata": {},
   "source": [
    "The compare_models function can also be used to measure two different protected attributes. Protected attributes are measured separately and cannot yet be combined together with this tool."
   ]
  },
  {
   "cell_type": "code",
   "execution_count": null,
   "metadata": {},
   "outputs": [],
   "source": [
    "commparison2 = fhmc.compare_models(X_test, y_test, \n",
    "                     [X_test['gender'], X_test['ethnicity']], \n",
    "                      {'gender':model_1, 'ethnicity':model_1})\n",
    "flag(commparison2)"
   ]
  }
 ],
 "metadata": {
  "kernelspec": {
   "display_name": "ml",
   "language": "python",
   "name": "ml"
  },
  "language_info": {
   "codemirror_mode": {
    "name": "ipython",
    "version": 3
   },
   "file_extension": ".py",
   "mimetype": "text/x-python",
   "name": "python",
   "nbconvert_exporter": "python",
   "pygments_lexer": "ipython3",
   "version": "3.7.8"
  }
 },
 "nbformat": 4,
 "nbformat_minor": 4
}
